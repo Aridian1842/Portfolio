{
 "cells": [
  {
   "cell_type": "markdown",
   "metadata": {
    "focus": true,
    "id": "263eb813-da45-48cf-9a8f-9da76c18e470"
   },
   "source": [
    "# Project 2\n",
    "## Step 1: Exploring your data.\n",
    "\n",
    "##### Load your data in using Pandas and start to explore. Save all of your early exploration code here and include in your final submission."
   ]
  },
  {
   "cell_type": "code",
   "execution_count": 102,
   "metadata": {
    "collapsed": false,
    "focus": false,
    "id": "b733d2fe-6d33-41dd-a3fc-5dfe9d71d91f",
    "scrolled": false
   },
   "outputs": [],
   "source": [
    "import pandas as pd\n",
    "import numpy as np\n",
    "import matplotlib.pyplot as plt\n",
    "import seaborn as sns\n",
    "import re\n",
    "%matplotlib inline\n",
    "billboards_data = pd.read_csv('/Users/Lappy9000/Dropbox/Dropbox/GA/GitHub/DSI_SM_01/projects/01-projects-weekly/project-02/assets/billboard.csv')\n",
    "billboards = pd.DataFrame(billboards_data)"
   ]
  },
  {
   "cell_type": "code",
   "execution_count": 103,
   "metadata": {
    "collapsed": false
   },
   "outputs": [
    {
     "data": {
      "text/plain": [
       "year                 int64\n",
       "artist.inverted     object\n",
       "track               object\n",
       "time                object\n",
       "genre               object\n",
       "date.entered        object\n",
       "date.peaked         object\n",
       "x1st.week            int64\n",
       "x2nd.week          float64\n",
       "x3rd.week          float64\n",
       "x4th.week          float64\n",
       "x5th.week          float64\n",
       "x6th.week          float64\n",
       "x7th.week          float64\n",
       "x8th.week          float64\n",
       "x9th.week          float64\n",
       "x10th.week         float64\n",
       "x11th.week         float64\n",
       "x12th.week         float64\n",
       "x13th.week         float64\n",
       "x14th.week         float64\n",
       "x15th.week         float64\n",
       "x16th.week         float64\n",
       "x17th.week         float64\n",
       "x18th.week         float64\n",
       "x19th.week         float64\n",
       "x20th.week         float64\n",
       "x21st.week         float64\n",
       "x22nd.week         float64\n",
       "x23rd.week         float64\n",
       "                    ...   \n",
       "x47th.week         float64\n",
       "x48th.week         float64\n",
       "x49th.week         float64\n",
       "x50th.week         float64\n",
       "x51st.week         float64\n",
       "x52nd.week         float64\n",
       "x53rd.week         float64\n",
       "x54th.week         float64\n",
       "x55th.week         float64\n",
       "x56th.week         float64\n",
       "x57th.week         float64\n",
       "x58th.week         float64\n",
       "x59th.week         float64\n",
       "x60th.week         float64\n",
       "x61st.week         float64\n",
       "x62nd.week         float64\n",
       "x63rd.week         float64\n",
       "x64th.week         float64\n",
       "x65th.week         float64\n",
       "x66th.week         float64\n",
       "x67th.week         float64\n",
       "x68th.week         float64\n",
       "x69th.week         float64\n",
       "x70th.week         float64\n",
       "x71st.week         float64\n",
       "x72nd.week         float64\n",
       "x73rd.week         float64\n",
       "x74th.week         float64\n",
       "x75th.week         float64\n",
       "x76th.week         float64\n",
       "dtype: object"
      ]
     },
     "execution_count": 103,
     "metadata": {},
     "output_type": "execute_result"
    }
   ],
   "source": [
    "billboards.dtypes"
   ]
  },
  {
   "cell_type": "code",
   "execution_count": 104,
   "metadata": {
    "collapsed": false
   },
   "outputs": [
    {
     "data": {
      "text/plain": [
       "(317, 83)"
      ]
     },
     "execution_count": 104,
     "metadata": {},
     "output_type": "execute_result"
    }
   ],
   "source": [
    "billboards.shape"
   ]
  },
  {
   "cell_type": "code",
   "execution_count": 105,
   "metadata": {
    "collapsed": false
   },
   "outputs": [
    {
     "data": {
      "text/plain": [
       "'\\nDecided to warm up by calculating the mean, standard deviation, median, mode, variance, and range of the first 3 weeks\\nof chart data.\\n'"
      ]
     },
     "execution_count": 105,
     "metadata": {},
     "output_type": "execute_result"
    }
   ],
   "source": [
    "\"\"\"\n",
    "Decided to warm up by calculating the mean, standard deviation, median, mode, variance, and range of the first 3 weeks\n",
    "of chart data.\n",
    "\"\"\""
   ]
  },
  {
   "cell_type": "code",
   "execution_count": 106,
   "metadata": {
    "collapsed": false
   },
   "outputs": [
    {
     "name": "stdout",
     "output_type": "stream",
     "text": [
      "The first week mean is: \n",
      "79.9589905363\n",
      "The first week Standard Deviation is: \n",
      "14.6868651898\n",
      "The first week median is: \n",
      "81.0\n",
      "The first week mode is: \n",
      "0    77\n",
      "dtype: int64\n",
      "The first week variance is: \n",
      "215.704009104\n",
      "The first week range is: \n",
      "85\n"
     ]
    }
   ],
   "source": [
    "first_week = billboards['x1st.week']\n",
    "print \"The first week mean is: \"\n",
    "print first_week.mean()\n",
    "print \"The first week Standard Deviation is: \"\n",
    "print first_week.std()\n",
    "print \"The first week median is: \"\n",
    "print first_week.median()\n",
    "print \"The first week mode is: \"\n",
    "print first_week.mode()\n",
    "print \"The first week variance is: \"\n",
    "print first_week.var()\n",
    "first_week_range = first_week.max() - first_week.min()\n",
    "print \"The first week range is: \"\n",
    "print first_week_range"
   ]
  },
  {
   "cell_type": "code",
   "execution_count": 107,
   "metadata": {
    "collapsed": false
   },
   "outputs": [
    {
     "name": "stdout",
     "output_type": "stream",
     "text": [
      "The second week mean is: \n",
      "71.1730769231\n",
      "The second week Standard Deviation is: \n",
      "18.2004428982\n",
      "The second week median is: \n",
      "73.0\n",
      "The second week mode is: \n",
      "0    72.0\n",
      "1    76.0\n",
      "dtype: float64\n",
      "The second week variance is: \n",
      "331.256121692\n",
      "The second week range is: \n",
      "92.0\n"
     ]
    }
   ],
   "source": [
    "second_week = billboards['x2nd.week']\n",
    "print \"The second week mean is: \"\n",
    "print second_week.mean()\n",
    "print \"The second week Standard Deviation is: \"\n",
    "print second_week.std()\n",
    "print \"The second week median is: \"\n",
    "print second_week.median()\n",
    "print \"The second week mode is: \"\n",
    "print second_week.mode()\n",
    "print \"The second week variance is: \"\n",
    "print second_week.var()\n",
    "second_week_range = second_week.max() - second_week.min()\n",
    "print \"The second week range is: \"\n",
    "print second_week_range"
   ]
  },
  {
   "cell_type": "code",
   "execution_count": 108,
   "metadata": {
    "collapsed": false
   },
   "outputs": [
    {
     "name": "stdout",
     "output_type": "stream",
     "text": [
      "The third week mean is: \n",
      "65.0456026059\n",
      "The third week Standard Deviation is: \n",
      "20.7523021452\n",
      "The third week median is: \n",
      "66.0\n",
      "The third week mode is: \n",
      "0    65.0\n",
      "dtype: float64\n",
      "The third week variance is: \n",
      "430.658044325\n",
      "The third week range is: \n",
      "94.0\n"
     ]
    }
   ],
   "source": [
    "third_week = billboards['x3rd.week']\n",
    "print \"The third week mean is: \"\n",
    "print third_week.mean()\n",
    "print \"The third week Standard Deviation is: \"\n",
    "print third_week.std()\n",
    "print \"The third week median is: \"\n",
    "print third_week.median()\n",
    "print \"The third week mode is: \"\n",
    "print third_week.mode()\n",
    "print \"The third week variance is: \"\n",
    "print third_week.var()\n",
    "third_week_range = third_week.max() - third_week.min()\n",
    "print \"The third week range is: \"\n",
    "print third_week_range"
   ]
  },
  {
   "cell_type": "code",
   "execution_count": 109,
   "metadata": {
    "collapsed": false
   },
   "outputs": [
    {
     "data": {
      "text/plain": [
       "<matplotlib.axes._subplots.AxesSubplot at 0x120cdbd90>"
      ]
     },
     "execution_count": 109,
     "metadata": {},
     "output_type": "execute_result"
    },
    {
     "data": {
      "image/png": "[encoded data removed]",
      "text/plain": [
       "<matplotlib.figure.Figure at 0x11e828bd0>"
      ]
     },
     "metadata": {},
     "output_type": "display_data"
    }
   ],
   "source": [
    "#this shows a histogram of the first three \"week\" rows data.  I just thought it was interesting to see and a good warm up.\n",
    "first_week.plot(kind='hist')\n",
    "second_week.plot(kind='hist')\n",
    "third_week.plot(kind='hist')"
   ]
  },
  {
   "cell_type": "code",
   "execution_count": 110,
   "metadata": {
    "collapsed": false
   },
   "outputs": [
    {
     "data": {
      "text/plain": [
       "Index([u'date.peaked', u'x1st.week', u'x2nd.week', u'x3rd.week', u'x4th.week',\n",
       "       u'x5th.week', u'x6th.week', u'x7th.week', u'x8th.week', u'x9th.week',\n",
       "       u'x10th.week', u'x11th.week', u'x12th.week', u'x13th.week',\n",
       "       u'x14th.week', u'x15th.week', u'x16th.week', u'x17th.week',\n",
       "       u'x18th.week', u'x19th.week', u'x20th.week', u'x21st.week',\n",
       "       u'x22nd.week', u'x23rd.week', u'x24th.week', u'x25th.week',\n",
       "       u'x26th.week', u'x27th.week', u'x28th.week', u'x29th.week',\n",
       "       u'x30th.week', u'x31st.week', u'x32nd.week', u'x33rd.week',\n",
       "       u'x34th.week', u'x35th.week', u'x36th.week', u'x37th.week',\n",
       "       u'x38th.week', u'x39th.week', u'x40th.week', u'x41st.week',\n",
       "       u'x42nd.week', u'x43rd.week', u'x44th.week', u'x45th.week',\n",
       "       u'x46th.week', u'x47th.week', u'x48th.week', u'x49th.week',\n",
       "       u'x50th.week', u'x51st.week', u'x52nd.week', u'x53rd.week',\n",
       "       u'x54th.week', u'x55th.week', u'x56th.week', u'x57th.week',\n",
       "       u'x58th.week', u'x59th.week', u'x60th.week', u'x61st.week',\n",
       "       u'x62nd.week', u'x63rd.week', u'x64th.week', u'x65th.week',\n",
       "       u'x66th.week', u'x67th.week', u'x68th.week', u'x69th.week',\n",
       "       u'x70th.week', u'x71st.week', u'x72nd.week', u'x73rd.week',\n",
       "       u'x74th.week', u'x75th.week', u'x76th.week'],\n",
       "      dtype='object')"
      ]
     },
     "execution_count": 110,
     "metadata": {},
     "output_type": "execute_result"
    }
   ],
   "source": [
    "weeks_columns = billboards.columns[6:]\n",
    "weeks_columns"
   ]
  },
  {
   "cell_type": "markdown",
   "metadata": {
    "focus": false,
    "id": "94514384-cf79-4e7a-a09b-02cddc91e77c"
   },
   "source": [
    "##### Write a brief description of your data, and any interesting observations you've made thus far. "
   ]
  },
  {
   "cell_type": "code",
   "execution_count": 111,
   "metadata": {
    "collapsed": false
   },
   "outputs": [
    {
     "data": {
      "text/plain": [
       "'This data set takes a look at the year 2000 and what tracks were on the top of the Billboard music charts.  It shows\\nus the name of the artist, name of the track, length of the track, genre, date entered and peaked on the billboard charts\\nand then breaks down the actual ranking for every week that it was on the charts.  It does this by placing each week\\nin a respective column and then listing the number of that tracks ranking in the column.  \\n\\nSome interesting items of note thus far are the following:\\n    The first \\'x1st.week\\' column returns as an integer type, whereas the rest of the week\\'s return as float types\\n    The \"date_entered\" and \"date_peaked\" columns will need to be converted to DateTime in order to better call on data.\\n    The \"year\" column is really not needed as the database is focused on the year 2000.\\n    The \"artist.inverted\" column should be renamed for easier calling.\\n    \\n'"
      ]
     },
     "execution_count": 111,
     "metadata": {},
     "output_type": "execute_result"
    }
   ],
   "source": [
    "\"\"\"This data set takes a look at the year 2000 and what tracks were on the top of the Billboard music charts.  It shows\n",
    "us the name of the artist, name of the track, length of the track, genre, date entered and peaked on the billboard charts\n",
    "and then breaks down the actual ranking for every week that it was on the charts.  It does this by placing each week\n",
    "in a respective column and then listing the number of that tracks ranking in the column.  \n",
    "\n",
    "Some interesting items of note thus far are the following:\n",
    "    The first 'x1st.week' column returns as an integer type, whereas the rest of the week's return as float types\n",
    "    The \"date_entered\" and \"date_peaked\" columns will need to be converted to DateTime in order to better call on data.\n",
    "    The \"year\" column is really not needed as the database is focused on the year 2000.\n",
    "    The \"artist.inverted\" column should be renamed for easier calling.\n",
    "    \n",
    "\"\"\""
   ]
  },
  {
   "cell_type": "markdown",
   "metadata": {
    "focus": false,
    "id": "888b6223-3bb4-4d91-b753-4867a3a1b281"
   },
   "source": [
    "## Step 2: Clean your data."
   ]
  },
  {
   "cell_type": "markdown",
   "metadata": {
    "focus": false,
    "id": "8a273328-6d9f-4dfc-88f8-a0c18e4d7f90"
   },
   "source": [
    "##### Do some rudimentary cleaning. Rename any columns that are poorly named, shorten any strings that may be too long, fill in any missing values. Explain your rationale for the way you choose to \"impute\" the missing data."
   ]
  },
  {
   "cell_type": "code",
   "execution_count": 112,
   "metadata": {
    "collapsed": true
   },
   "outputs": [],
   "source": [
    "\"\"\"\n",
    "Removing the year column because the data set is strictly the year 2000 and including that column may interfere\n",
    "with data analysis and visualition.\n",
    "\"\"\"\n",
    "del billboards ['year']"
   ]
  },
  {
   "cell_type": "code",
   "execution_count": 113,
   "metadata": {
    "collapsed": false
   },
   "outputs": [],
   "source": [
    "\"\"\"\n",
    "Removing the \"x\" from the column names that was placed in front of each week's column name.\n",
    "I used a lambda function since the naming convention was the same across the entire column, and this accomplished my \n",
    "goal with one line of code, rather than defining every column name.\n",
    "\"\"\"\n",
    "billboards.rename(columns=lambda x: x.replace('x', ''), inplace=True)"
   ]
  },
  {
   "cell_type": "code",
   "execution_count": 114,
   "metadata": {
    "collapsed": false,
    "scrolled": false
   },
   "outputs": [],
   "source": [
    "#Replaced all \".\" with \"_\" to improve readability and make syntax more pythonic.  Used same lambda function as above.\n",
    "billboards.rename(columns=lambda x: x.replace('.', '_'), inplace=True)"
   ]
  },
  {
   "cell_type": "code",
   "execution_count": 115,
   "metadata": {
    "collapsed": true
   },
   "outputs": [],
   "source": [
    "#renamed \"artist_inverted\" to \"artist\" for easier identification. Made sure to use \"artist_inverted\" due to prior code.\n",
    "billboards.rename(columns={'artist_inverted':'artist'}, inplace=True)"
   ]
  },
  {
   "cell_type": "code",
   "execution_count": 116,
   "metadata": {
    "collapsed": false
   },
   "outputs": [],
   "source": [
    "#converting \"date_entered\" and \"date_peaked\" to datetime variables in order to better call on the data.\n",
    "date_entered = pd.to_datetime(billboards['date_entered'])\n",
    "date_peaked = pd.to_datetime(billboards['date_peaked'])"
   ]
  },
  {
   "cell_type": "code",
   "execution_count": 117,
   "metadata": {
    "collapsed": false
   },
   "outputs": [],
   "source": [
    "\"\"\"\n",
    "I decided to convert the time column to a single integer representing seconds.  I did this by using the str.split\n",
    "method to separate the two numbers representing minutes and seconds and then apply with a lambda function to combine\n",
    "the two in to a total amount of seconds.  This should help me with visualizing the data.\n",
    "\"\"\"\n",
    "time = billboards['time'].str.split(':').apply(lambda x: int(x[0]) * 60 + int(x[1]))"
   ]
  },
  {
   "cell_type": "code",
   "execution_count": 118,
   "metadata": {
    "collapsed": false
   },
   "outputs": [],
   "source": [
    "for x in billboards.time:\n",
    "    billboards['time'].str.split(':').apply(lambda x: int(x[0]) * 60 + int(x[1]))"
   ]
  },
  {
   "cell_type": "code",
   "execution_count": 119,
   "metadata": {
    "collapsed": false
   },
   "outputs": [
    {
     "data": {
      "text/html": [
       "<div>\n",
       "<table border=\"1\" class=\"dataframe\">\n",
       "  <thead>\n",
       "    <tr style=\"text-align: right;\">\n",
       "      <th></th>\n",
       "      <th>artist</th>\n",
       "      <th>track</th>\n",
       "      <th>time</th>\n",
       "      <th>genre</th>\n",
       "      <th>date_entered</th>\n",
       "      <th>date_peaked</th>\n",
       "      <th>1st_week</th>\n",
       "      <th>2nd_week</th>\n",
       "      <th>3rd_week</th>\n",
       "      <th>4th_week</th>\n",
       "      <th>...</th>\n",
       "      <th>67th_week</th>\n",
       "      <th>68th_week</th>\n",
       "      <th>69th_week</th>\n",
       "      <th>70th_week</th>\n",
       "      <th>71st_week</th>\n",
       "      <th>72nd_week</th>\n",
       "      <th>73rd_week</th>\n",
       "      <th>74th_week</th>\n",
       "      <th>75th_week</th>\n",
       "      <th>76th_week</th>\n",
       "    </tr>\n",
       "  </thead>\n",
       "  <tbody>\n",
       "    <tr>\n",
       "      <th>0</th>\n",
       "      <td>Destiny's Child</td>\n",
       "      <td>Independent Women Part I</td>\n",
       "      <td>3:38</td>\n",
       "      <td>Rock</td>\n",
       "      <td>2000-09-23</td>\n",
       "      <td>2000-11-18</td>\n",
       "      <td>78</td>\n",
       "      <td>63.0</td>\n",
       "      <td>49.0</td>\n",
       "      <td>33.0</td>\n",
       "      <td>...</td>\n",
       "      <td>NaN</td>\n",
       "      <td>NaN</td>\n",
       "      <td>NaN</td>\n",
       "      <td>NaN</td>\n",
       "      <td>NaN</td>\n",
       "      <td>NaN</td>\n",
       "      <td>NaN</td>\n",
       "      <td>NaN</td>\n",
       "      <td>NaN</td>\n",
       "      <td>NaN</td>\n",
       "    </tr>\n",
       "    <tr>\n",
       "      <th>1</th>\n",
       "      <td>Santana</td>\n",
       "      <td>Maria, Maria</td>\n",
       "      <td>4:18</td>\n",
       "      <td>Rock</td>\n",
       "      <td>2000-02-12</td>\n",
       "      <td>2000-04-08</td>\n",
       "      <td>15</td>\n",
       "      <td>8.0</td>\n",
       "      <td>6.0</td>\n",
       "      <td>5.0</td>\n",
       "      <td>...</td>\n",
       "      <td>NaN</td>\n",
       "      <td>NaN</td>\n",
       "      <td>NaN</td>\n",
       "      <td>NaN</td>\n",
       "      <td>NaN</td>\n",
       "      <td>NaN</td>\n",
       "      <td>NaN</td>\n",
       "      <td>NaN</td>\n",
       "      <td>NaN</td>\n",
       "      <td>NaN</td>\n",
       "    </tr>\n",
       "    <tr>\n",
       "      <th>2</th>\n",
       "      <td>Savage Garden</td>\n",
       "      <td>I Knew I Loved You</td>\n",
       "      <td>4:07</td>\n",
       "      <td>Rock</td>\n",
       "      <td>1999-10-23</td>\n",
       "      <td>2000-01-29</td>\n",
       "      <td>71</td>\n",
       "      <td>48.0</td>\n",
       "      <td>43.0</td>\n",
       "      <td>31.0</td>\n",
       "      <td>...</td>\n",
       "      <td>NaN</td>\n",
       "      <td>NaN</td>\n",
       "      <td>NaN</td>\n",
       "      <td>NaN</td>\n",
       "      <td>NaN</td>\n",
       "      <td>NaN</td>\n",
       "      <td>NaN</td>\n",
       "      <td>NaN</td>\n",
       "      <td>NaN</td>\n",
       "      <td>NaN</td>\n",
       "    </tr>\n",
       "    <tr>\n",
       "      <th>3</th>\n",
       "      <td>Madonna</td>\n",
       "      <td>Music</td>\n",
       "      <td>3:45</td>\n",
       "      <td>Rock</td>\n",
       "      <td>2000-08-12</td>\n",
       "      <td>2000-09-16</td>\n",
       "      <td>41</td>\n",
       "      <td>23.0</td>\n",
       "      <td>18.0</td>\n",
       "      <td>14.0</td>\n",
       "      <td>...</td>\n",
       "      <td>NaN</td>\n",
       "      <td>NaN</td>\n",
       "      <td>NaN</td>\n",
       "      <td>NaN</td>\n",
       "      <td>NaN</td>\n",
       "      <td>NaN</td>\n",
       "      <td>NaN</td>\n",
       "      <td>NaN</td>\n",
       "      <td>NaN</td>\n",
       "      <td>NaN</td>\n",
       "    </tr>\n",
       "    <tr>\n",
       "      <th>4</th>\n",
       "      <td>Aguilera, Christina</td>\n",
       "      <td>Come On Over Baby (All I Want Is You)</td>\n",
       "      <td>3:38</td>\n",
       "      <td>Rock</td>\n",
       "      <td>2000-08-05</td>\n",
       "      <td>2000-10-14</td>\n",
       "      <td>57</td>\n",
       "      <td>47.0</td>\n",
       "      <td>45.0</td>\n",
       "      <td>29.0</td>\n",
       "      <td>...</td>\n",
       "      <td>NaN</td>\n",
       "      <td>NaN</td>\n",
       "      <td>NaN</td>\n",
       "      <td>NaN</td>\n",
       "      <td>NaN</td>\n",
       "      <td>NaN</td>\n",
       "      <td>NaN</td>\n",
       "      <td>NaN</td>\n",
       "      <td>NaN</td>\n",
       "      <td>NaN</td>\n",
       "    </tr>\n",
       "  </tbody>\n",
       "</table>\n",
       "<p>5 rows × 82 columns</p>\n",
       "</div>"
      ],
      "text/plain": [
       "                artist                                  track  time genre  \\\n",
       "0      Destiny's Child               Independent Women Part I  3:38  Rock   \n",
       "1              Santana                           Maria, Maria  4:18  Rock   \n",
       "2        Savage Garden                     I Knew I Loved You  4:07  Rock   \n",
       "3              Madonna                                  Music  3:45  Rock   \n",
       "4  Aguilera, Christina  Come On Over Baby (All I Want Is You)  3:38  Rock   \n",
       "\n",
       "  date_entered date_peaked  1st_week  2nd_week  3rd_week  4th_week    ...      \\\n",
       "0   2000-09-23  2000-11-18        78      63.0      49.0      33.0    ...       \n",
       "1   2000-02-12  2000-04-08        15       8.0       6.0       5.0    ...       \n",
       "2   1999-10-23  2000-01-29        71      48.0      43.0      31.0    ...       \n",
       "3   2000-08-12  2000-09-16        41      23.0      18.0      14.0    ...       \n",
       "4   2000-08-05  2000-10-14        57      47.0      45.0      29.0    ...       \n",
       "\n",
       "   67th_week  68th_week  69th_week  70th_week  71st_week  72nd_week  \\\n",
       "0        NaN        NaN        NaN        NaN        NaN        NaN   \n",
       "1        NaN        NaN        NaN        NaN        NaN        NaN   \n",
       "2        NaN        NaN        NaN        NaN        NaN        NaN   \n",
       "3        NaN        NaN        NaN        NaN        NaN        NaN   \n",
       "4        NaN        NaN        NaN        NaN        NaN        NaN   \n",
       "\n",
       "   73rd_week  74th_week  75th_week  76th_week  \n",
       "0        NaN        NaN        NaN        NaN  \n",
       "1        NaN        NaN        NaN        NaN  \n",
       "2        NaN        NaN        NaN        NaN  \n",
       "3        NaN        NaN        NaN        NaN  \n",
       "4        NaN        NaN        NaN        NaN  \n",
       "\n",
       "[5 rows x 82 columns]"
      ]
     },
     "execution_count": 119,
     "metadata": {},
     "output_type": "execute_result"
    }
   ],
   "source": [
    "billboards.head()"
   ]
  },
  {
   "cell_type": "code",
   "execution_count": 120,
   "metadata": {
    "collapsed": false
   },
   "outputs": [
    {
     "data": {
      "text/plain": [
       "dtype('float64')"
      ]
     },
     "execution_count": 120,
     "metadata": {},
     "output_type": "execute_result"
    }
   ],
   "source": [
    "first_week = billboards['1st_week'].apply(float)\n",
    "first_week.dtypes"
   ]
  },
  {
   "cell_type": "code",
   "execution_count": 121,
   "metadata": {
    "collapsed": false
   },
   "outputs": [],
   "source": [
    "week_columns = list(billboards.columns[6:])\n",
    "clean_week_columns = [x for x in week_columns if str(x) != 'nan']"
   ]
  },
  {
   "cell_type": "code",
   "execution_count": 122,
   "metadata": {
    "collapsed": false
   },
   "outputs": [
    {
     "data": {
      "text/plain": [
       "242.42586750788644"
      ]
     },
     "execution_count": 122,
     "metadata": {},
     "output_type": "execute_result"
    }
   ],
   "source": [
    "#This helps prove my problem statement, showing that the mean is a rather small amount of time.\n",
    "time_mean = time.mean()\n",
    "time_mean"
   ]
  },
  {
   "cell_type": "code",
   "execution_count": 131,
   "metadata": {
    "collapsed": false
   },
   "outputs": [
    {
     "data": {
      "text/plain": [
       "42.40161762074423"
      ]
     },
     "execution_count": 131,
     "metadata": {},
     "output_type": "execute_result"
    }
   ],
   "source": [
    "time_std = time.std()\n",
    "time_std"
   ]
  },
  {
   "cell_type": "markdown",
   "metadata": {
    "focus": false,
    "id": "604ee5d7-10ed-4d14-9f86-16a6b240c00d"
   },
   "source": [
    "##### Using Pandas' built in `melt` function, pivot the weekly ranking data to be long rather than wide. As a result, you will have removed the 72 'week' columns and replace it with two: Week and Ranking. There will now be multiple entries for each song, one for each week on the Billboard rankings."
   ]
  },
  {
   "cell_type": "code",
   "execution_count": 124,
   "metadata": {
    "collapsed": false,
    "focus": false,
    "id": "bf0161ca-0fcb-4883-a216-93fd7ffa6456"
   },
   "outputs": [
    {
     "data": {
      "text/html": [
       "<div>\n",
       "<table border=\"1\" class=\"dataframe\">\n",
       "  <thead>\n",
       "    <tr style=\"text-align: right;\">\n",
       "      <th></th>\n",
       "      <th>track</th>\n",
       "      <th>Week</th>\n",
       "      <th>value</th>\n",
       "    </tr>\n",
       "  </thead>\n",
       "  <tbody>\n",
       "    <tr>\n",
       "      <th>0</th>\n",
       "      <td>Independent Women Part I</td>\n",
       "      <td>1st_week</td>\n",
       "      <td>78.0</td>\n",
       "    </tr>\n",
       "    <tr>\n",
       "      <th>1</th>\n",
       "      <td>Maria, Maria</td>\n",
       "      <td>1st_week</td>\n",
       "      <td>15.0</td>\n",
       "    </tr>\n",
       "    <tr>\n",
       "      <th>2</th>\n",
       "      <td>I Knew I Loved You</td>\n",
       "      <td>1st_week</td>\n",
       "      <td>71.0</td>\n",
       "    </tr>\n",
       "    <tr>\n",
       "      <th>3</th>\n",
       "      <td>Music</td>\n",
       "      <td>1st_week</td>\n",
       "      <td>41.0</td>\n",
       "    </tr>\n",
       "    <tr>\n",
       "      <th>4</th>\n",
       "      <td>Come On Over Baby (All I Want Is You)</td>\n",
       "      <td>1st_week</td>\n",
       "      <td>57.0</td>\n",
       "    </tr>\n",
       "    <tr>\n",
       "      <th>5</th>\n",
       "      <td>Doesn't Really Matter</td>\n",
       "      <td>1st_week</td>\n",
       "      <td>59.0</td>\n",
       "    </tr>\n",
       "    <tr>\n",
       "      <th>6</th>\n",
       "      <td>Say My Name</td>\n",
       "      <td>1st_week</td>\n",
       "      <td>83.0</td>\n",
       "    </tr>\n",
       "    <tr>\n",
       "      <th>7</th>\n",
       "      <td>Be With You</td>\n",
       "      <td>1st_week</td>\n",
       "      <td>63.0</td>\n",
       "    </tr>\n",
       "    <tr>\n",
       "      <th>8</th>\n",
       "      <td>Incomplete</td>\n",
       "      <td>1st_week</td>\n",
       "      <td>77.0</td>\n",
       "    </tr>\n",
       "    <tr>\n",
       "      <th>9</th>\n",
       "      <td>Amazed</td>\n",
       "      <td>1st_week</td>\n",
       "      <td>81.0</td>\n",
       "    </tr>\n",
       "    <tr>\n",
       "      <th>10</th>\n",
       "      <td>It's Gonna Be Me</td>\n",
       "      <td>1st_week</td>\n",
       "      <td>82.0</td>\n",
       "    </tr>\n",
       "    <tr>\n",
       "      <th>11</th>\n",
       "      <td>What A Girl Wants</td>\n",
       "      <td>1st_week</td>\n",
       "      <td>71.0</td>\n",
       "    </tr>\n",
       "    <tr>\n",
       "      <th>12</th>\n",
       "      <td>Everything You Want</td>\n",
       "      <td>1st_week</td>\n",
       "      <td>70.0</td>\n",
       "    </tr>\n",
       "    <tr>\n",
       "      <th>13</th>\n",
       "      <td>With Arms Wide Open</td>\n",
       "      <td>1st_week</td>\n",
       "      <td>84.0</td>\n",
       "    </tr>\n",
       "    <tr>\n",
       "      <th>14</th>\n",
       "      <td>Try Again</td>\n",
       "      <td>1st_week</td>\n",
       "      <td>59.0</td>\n",
       "    </tr>\n",
       "    <tr>\n",
       "      <th>15</th>\n",
       "      <td>Bent</td>\n",
       "      <td>1st_week</td>\n",
       "      <td>60.0</td>\n",
       "    </tr>\n",
       "    <tr>\n",
       "      <th>16</th>\n",
       "      <td>Thank God I Found You</td>\n",
       "      <td>1st_week</td>\n",
       "      <td>82.0</td>\n",
       "    </tr>\n",
       "    <tr>\n",
       "      <th>17</th>\n",
       "      <td>Breathe</td>\n",
       "      <td>1st_week</td>\n",
       "      <td>81.0</td>\n",
       "    </tr>\n",
       "    <tr>\n",
       "      <th>18</th>\n",
       "      <td>Case Of The Ex (Whatcha Gonna Do)</td>\n",
       "      <td>1st_week</td>\n",
       "      <td>72.0</td>\n",
       "    </tr>\n",
       "    <tr>\n",
       "      <th>19</th>\n",
       "      <td>He Loves U Not</td>\n",
       "      <td>1st_week</td>\n",
       "      <td>99.0</td>\n",
       "    </tr>\n",
       "    <tr>\n",
       "      <th>20</th>\n",
       "      <td>He Wasn't Man Enough</td>\n",
       "      <td>1st_week</td>\n",
       "      <td>63.0</td>\n",
       "    </tr>\n",
       "    <tr>\n",
       "      <th>21</th>\n",
       "      <td>You Sang To Me</td>\n",
       "      <td>1st_week</td>\n",
       "      <td>77.0</td>\n",
       "    </tr>\n",
       "    <tr>\n",
       "      <th>22</th>\n",
       "      <td>Give Me Just One Night (Una Noche)</td>\n",
       "      <td>1st_week</td>\n",
       "      <td>51.0</td>\n",
       "    </tr>\n",
       "    <tr>\n",
       "      <th>23</th>\n",
       "      <td>Jumpin' Jumpin'</td>\n",
       "      <td>1st_week</td>\n",
       "      <td>74.0</td>\n",
       "    </tr>\n",
       "    <tr>\n",
       "      <th>24</th>\n",
       "      <td>Kryptonite</td>\n",
       "      <td>1st_week</td>\n",
       "      <td>81.0</td>\n",
       "    </tr>\n",
       "    <tr>\n",
       "      <th>25</th>\n",
       "      <td>Thong Song</td>\n",
       "      <td>1st_week</td>\n",
       "      <td>74.0</td>\n",
       "    </tr>\n",
       "    <tr>\n",
       "      <th>26</th>\n",
       "      <td>I Turn To You</td>\n",
       "      <td>1st_week</td>\n",
       "      <td>50.0</td>\n",
       "    </tr>\n",
       "    <tr>\n",
       "      <th>27</th>\n",
       "      <td>My Love Is Your Love</td>\n",
       "      <td>1st_week</td>\n",
       "      <td>81.0</td>\n",
       "    </tr>\n",
       "    <tr>\n",
       "      <th>28</th>\n",
       "      <td>I Wanna Know</td>\n",
       "      <td>1st_week</td>\n",
       "      <td>94.0</td>\n",
       "    </tr>\n",
       "    <tr>\n",
       "      <th>29</th>\n",
       "      <td>Get It On.. Tonite</td>\n",
       "      <td>1st_week</td>\n",
       "      <td>92.0</td>\n",
       "    </tr>\n",
       "    <tr>\n",
       "      <th>...</th>\n",
       "      <td>...</td>\n",
       "      <td>...</td>\n",
       "      <td>...</td>\n",
       "    </tr>\n",
       "    <tr>\n",
       "      <th>24062</th>\n",
       "      <td>The Hardest Part Of Breaking Up (Is Getting Ba...</td>\n",
       "      <td>76th_week</td>\n",
       "      <td>NaN</td>\n",
       "    </tr>\n",
       "    <tr>\n",
       "      <th>24063</th>\n",
       "      <td>Don't Call Me Baby</td>\n",
       "      <td>76th_week</td>\n",
       "      <td>NaN</td>\n",
       "    </tr>\n",
       "    <tr>\n",
       "      <th>24064</th>\n",
       "      <td>Got It All</td>\n",
       "      <td>76th_week</td>\n",
       "      <td>NaN</td>\n",
       "    </tr>\n",
       "    <tr>\n",
       "      <th>24065</th>\n",
       "      <td>Re-Arranged</td>\n",
       "      <td>76th_week</td>\n",
       "      <td>NaN</td>\n",
       "    </tr>\n",
       "    <tr>\n",
       "      <th>24066</th>\n",
       "      <td>Still In My Heart</td>\n",
       "      <td>76th_week</td>\n",
       "      <td>NaN</td>\n",
       "    </tr>\n",
       "    <tr>\n",
       "      <th>24067</th>\n",
       "      <td>3 Little Words</td>\n",
       "      <td>76th_week</td>\n",
       "      <td>NaN</td>\n",
       "    </tr>\n",
       "    <tr>\n",
       "      <th>24068</th>\n",
       "      <td>If You Don't Wanna Love Me</td>\n",
       "      <td>76th_week</td>\n",
       "      <td>NaN</td>\n",
       "    </tr>\n",
       "    <tr>\n",
       "      <th>24069</th>\n",
       "      <td>Baby U Are</td>\n",
       "      <td>76th_week</td>\n",
       "      <td>NaN</td>\n",
       "    </tr>\n",
       "    <tr>\n",
       "      <th>24070</th>\n",
       "      <td>L.A. Song</td>\n",
       "      <td>76th_week</td>\n",
       "      <td>NaN</td>\n",
       "    </tr>\n",
       "    <tr>\n",
       "      <th>24071</th>\n",
       "      <td>The Quittin' Kind</td>\n",
       "      <td>76th_week</td>\n",
       "      <td>NaN</td>\n",
       "    </tr>\n",
       "    <tr>\n",
       "      <th>24072</th>\n",
       "      <td>Do You</td>\n",
       "      <td>76th_week</td>\n",
       "      <td>NaN</td>\n",
       "    </tr>\n",
       "    <tr>\n",
       "      <th>24073</th>\n",
       "      <td>Love Sets You Free</td>\n",
       "      <td>76th_week</td>\n",
       "      <td>NaN</td>\n",
       "    </tr>\n",
       "    <tr>\n",
       "      <th>24074</th>\n",
       "      <td>Riddle</td>\n",
       "      <td>76th_week</td>\n",
       "      <td>NaN</td>\n",
       "    </tr>\n",
       "    <tr>\n",
       "      <th>24075</th>\n",
       "      <td>No Mercy</td>\n",
       "      <td>76th_week</td>\n",
       "      <td>NaN</td>\n",
       "    </tr>\n",
       "    <tr>\n",
       "      <th>24076</th>\n",
       "      <td>I'm Outta Love</td>\n",
       "      <td>76th_week</td>\n",
       "      <td>NaN</td>\n",
       "    </tr>\n",
       "    <tr>\n",
       "      <th>24077</th>\n",
       "      <td>Pull Over</td>\n",
       "      <td>76th_week</td>\n",
       "      <td>NaN</td>\n",
       "    </tr>\n",
       "    <tr>\n",
       "      <th>24078</th>\n",
       "      <td>Ta Da</td>\n",
       "      <td>76th_week</td>\n",
       "      <td>NaN</td>\n",
       "    </tr>\n",
       "    <tr>\n",
       "      <th>24079</th>\n",
       "      <td>Dancing Queen</td>\n",
       "      <td>76th_week</td>\n",
       "      <td>NaN</td>\n",
       "    </tr>\n",
       "    <tr>\n",
       "      <th>24080</th>\n",
       "      <td>Where I Wanna Be</td>\n",
       "      <td>76th_week</td>\n",
       "      <td>NaN</td>\n",
       "    </tr>\n",
       "    <tr>\n",
       "      <th>24081</th>\n",
       "      <td>All Good?</td>\n",
       "      <td>76th_week</td>\n",
       "      <td>NaN</td>\n",
       "    </tr>\n",
       "    <tr>\n",
       "      <th>24082</th>\n",
       "      <td>Get Up</td>\n",
       "      <td>76th_week</td>\n",
       "      <td>NaN</td>\n",
       "    </tr>\n",
       "    <tr>\n",
       "      <th>24083</th>\n",
       "      <td>Spanish Guitar</td>\n",
       "      <td>76th_week</td>\n",
       "      <td>NaN</td>\n",
       "    </tr>\n",
       "    <tr>\n",
       "      <th>24084</th>\n",
       "      <td>I Know</td>\n",
       "      <td>76th_week</td>\n",
       "      <td>NaN</td>\n",
       "    </tr>\n",
       "    <tr>\n",
       "      <th>24085</th>\n",
       "      <td>Imagine That</td>\n",
       "      <td>76th_week</td>\n",
       "      <td>NaN</td>\n",
       "    </tr>\n",
       "    <tr>\n",
       "      <th>24086</th>\n",
       "      <td>Souljas</td>\n",
       "      <td>76th_week</td>\n",
       "      <td>NaN</td>\n",
       "    </tr>\n",
       "    <tr>\n",
       "      <th>24087</th>\n",
       "      <td>Cherchez LaGhost</td>\n",
       "      <td>76th_week</td>\n",
       "      <td>NaN</td>\n",
       "    </tr>\n",
       "    <tr>\n",
       "      <th>24088</th>\n",
       "      <td>Freakin' It</td>\n",
       "      <td>76th_week</td>\n",
       "      <td>NaN</td>\n",
       "    </tr>\n",
       "    <tr>\n",
       "      <th>24089</th>\n",
       "      <td>Kernkraft 400</td>\n",
       "      <td>76th_week</td>\n",
       "      <td>NaN</td>\n",
       "    </tr>\n",
       "    <tr>\n",
       "      <th>24090</th>\n",
       "      <td>Got Beef</td>\n",
       "      <td>76th_week</td>\n",
       "      <td>NaN</td>\n",
       "    </tr>\n",
       "    <tr>\n",
       "      <th>24091</th>\n",
       "      <td>Toca's Miracle</td>\n",
       "      <td>76th_week</td>\n",
       "      <td>NaN</td>\n",
       "    </tr>\n",
       "  </tbody>\n",
       "</table>\n",
       "<p>24092 rows × 3 columns</p>\n",
       "</div>"
      ],
      "text/plain": [
       "                                                   track       Week  value\n",
       "0                               Independent Women Part I   1st_week   78.0\n",
       "1                                           Maria, Maria   1st_week   15.0\n",
       "2                                     I Knew I Loved You   1st_week   71.0\n",
       "3                                                  Music   1st_week   41.0\n",
       "4                  Come On Over Baby (All I Want Is You)   1st_week   57.0\n",
       "5                                  Doesn't Really Matter   1st_week   59.0\n",
       "6                                            Say My Name   1st_week   83.0\n",
       "7                                            Be With You   1st_week   63.0\n",
       "8                                             Incomplete   1st_week   77.0\n",
       "9                                                 Amazed   1st_week   81.0\n",
       "10                                      It's Gonna Be Me   1st_week   82.0\n",
       "11                                     What A Girl Wants   1st_week   71.0\n",
       "12                                   Everything You Want   1st_week   70.0\n",
       "13                                   With Arms Wide Open   1st_week   84.0\n",
       "14                                             Try Again   1st_week   59.0\n",
       "15                                                  Bent   1st_week   60.0\n",
       "16                                 Thank God I Found You   1st_week   82.0\n",
       "17                                               Breathe   1st_week   81.0\n",
       "18                     Case Of The Ex (Whatcha Gonna Do)   1st_week   72.0\n",
       "19                                        He Loves U Not   1st_week   99.0\n",
       "20                                  He Wasn't Man Enough   1st_week   63.0\n",
       "21                                        You Sang To Me   1st_week   77.0\n",
       "22                    Give Me Just One Night (Una Noche)   1st_week   51.0\n",
       "23                                       Jumpin' Jumpin'   1st_week   74.0\n",
       "24                                            Kryptonite   1st_week   81.0\n",
       "25                                            Thong Song   1st_week   74.0\n",
       "26                                         I Turn To You   1st_week   50.0\n",
       "27                                  My Love Is Your Love   1st_week   81.0\n",
       "28                                          I Wanna Know   1st_week   94.0\n",
       "29                                    Get It On.. Tonite   1st_week   92.0\n",
       "...                                                  ...        ...    ...\n",
       "24062  The Hardest Part Of Breaking Up (Is Getting Ba...  76th_week    NaN\n",
       "24063                                 Don't Call Me Baby  76th_week    NaN\n",
       "24064                                         Got It All  76th_week    NaN\n",
       "24065                                        Re-Arranged  76th_week    NaN\n",
       "24066                                  Still In My Heart  76th_week    NaN\n",
       "24067                                     3 Little Words  76th_week    NaN\n",
       "24068                         If You Don't Wanna Love Me  76th_week    NaN\n",
       "24069                                         Baby U Are  76th_week    NaN\n",
       "24070                                          L.A. Song  76th_week    NaN\n",
       "24071                                  The Quittin' Kind  76th_week    NaN\n",
       "24072                                             Do You  76th_week    NaN\n",
       "24073                                 Love Sets You Free  76th_week    NaN\n",
       "24074                                             Riddle  76th_week    NaN\n",
       "24075                                           No Mercy  76th_week    NaN\n",
       "24076                                     I'm Outta Love  76th_week    NaN\n",
       "24077                                          Pull Over  76th_week    NaN\n",
       "24078                                              Ta Da  76th_week    NaN\n",
       "24079                                      Dancing Queen  76th_week    NaN\n",
       "24080                                   Where I Wanna Be  76th_week    NaN\n",
       "24081                                          All Good?  76th_week    NaN\n",
       "24082                                             Get Up  76th_week    NaN\n",
       "24083                                     Spanish Guitar  76th_week    NaN\n",
       "24084                                             I Know  76th_week    NaN\n",
       "24085                                       Imagine That  76th_week    NaN\n",
       "24086                                            Souljas  76th_week    NaN\n",
       "24087                                   Cherchez LaGhost  76th_week    NaN\n",
       "24088                                        Freakin' It  76th_week    NaN\n",
       "24089                                      Kernkraft 400  76th_week    NaN\n",
       "24090                                           Got Beef  76th_week    NaN\n",
       "24091                                     Toca's Miracle  76th_week    NaN\n",
       "\n",
       "[24092 rows x 3 columns]"
      ]
     },
     "execution_count": 124,
     "metadata": {},
     "output_type": "execute_result"
    }
   ],
   "source": [
    "week_melt = pd.melt(billboards, id_vars='track', value_vars=list(billboards.columns[6:]), var_name='Week')\n",
    "week_melt"
   ]
  },
  {
   "cell_type": "code",
   "execution_count": 125,
   "metadata": {
    "collapsed": false
   },
   "outputs": [
    {
     "data": {
      "text/html": [
       "<div>\n",
       "<table border=\"1\" class=\"dataframe\">\n",
       "  <thead>\n",
       "    <tr style=\"text-align: right;\">\n",
       "      <th></th>\n",
       "      <th>artist</th>\n",
       "      <th>time</th>\n",
       "      <th>Week</th>\n",
       "      <th>value</th>\n",
       "    </tr>\n",
       "  </thead>\n",
       "  <tbody>\n",
       "    <tr>\n",
       "      <th>0</th>\n",
       "      <td>Destiny's Child</td>\n",
       "      <td>3:38</td>\n",
       "      <td>1st_week</td>\n",
       "      <td>78.0</td>\n",
       "    </tr>\n",
       "    <tr>\n",
       "      <th>1</th>\n",
       "      <td>Santana</td>\n",
       "      <td>4:18</td>\n",
       "      <td>1st_week</td>\n",
       "      <td>15.0</td>\n",
       "    </tr>\n",
       "    <tr>\n",
       "      <th>2</th>\n",
       "      <td>Savage Garden</td>\n",
       "      <td>4:07</td>\n",
       "      <td>1st_week</td>\n",
       "      <td>71.0</td>\n",
       "    </tr>\n",
       "    <tr>\n",
       "      <th>3</th>\n",
       "      <td>Madonna</td>\n",
       "      <td>3:45</td>\n",
       "      <td>1st_week</td>\n",
       "      <td>41.0</td>\n",
       "    </tr>\n",
       "    <tr>\n",
       "      <th>4</th>\n",
       "      <td>Aguilera, Christina</td>\n",
       "      <td>3:38</td>\n",
       "      <td>1st_week</td>\n",
       "      <td>57.0</td>\n",
       "    </tr>\n",
       "    <tr>\n",
       "      <th>5</th>\n",
       "      <td>Janet</td>\n",
       "      <td>4:17</td>\n",
       "      <td>1st_week</td>\n",
       "      <td>59.0</td>\n",
       "    </tr>\n",
       "    <tr>\n",
       "      <th>6</th>\n",
       "      <td>Destiny's Child</td>\n",
       "      <td>4:31</td>\n",
       "      <td>1st_week</td>\n",
       "      <td>83.0</td>\n",
       "    </tr>\n",
       "    <tr>\n",
       "      <th>7</th>\n",
       "      <td>Iglesias, Enrique</td>\n",
       "      <td>3:36</td>\n",
       "      <td>1st_week</td>\n",
       "      <td>63.0</td>\n",
       "    </tr>\n",
       "    <tr>\n",
       "      <th>8</th>\n",
       "      <td>Sisqo</td>\n",
       "      <td>3:52</td>\n",
       "      <td>1st_week</td>\n",
       "      <td>77.0</td>\n",
       "    </tr>\n",
       "    <tr>\n",
       "      <th>9</th>\n",
       "      <td>Lonestar</td>\n",
       "      <td>4:25</td>\n",
       "      <td>1st_week</td>\n",
       "      <td>81.0</td>\n",
       "    </tr>\n",
       "    <tr>\n",
       "      <th>10</th>\n",
       "      <td>N'Sync</td>\n",
       "      <td>3:10</td>\n",
       "      <td>1st_week</td>\n",
       "      <td>82.0</td>\n",
       "    </tr>\n",
       "    <tr>\n",
       "      <th>11</th>\n",
       "      <td>Aguilera, Christina</td>\n",
       "      <td>3:18</td>\n",
       "      <td>1st_week</td>\n",
       "      <td>71.0</td>\n",
       "    </tr>\n",
       "    <tr>\n",
       "      <th>12</th>\n",
       "      <td>Vertical Horizon</td>\n",
       "      <td>4:01</td>\n",
       "      <td>1st_week</td>\n",
       "      <td>70.0</td>\n",
       "    </tr>\n",
       "    <tr>\n",
       "      <th>13</th>\n",
       "      <td>Creed</td>\n",
       "      <td>3:52</td>\n",
       "      <td>1st_week</td>\n",
       "      <td>84.0</td>\n",
       "    </tr>\n",
       "    <tr>\n",
       "      <th>14</th>\n",
       "      <td>Aaliyah</td>\n",
       "      <td>4:03</td>\n",
       "      <td>1st_week</td>\n",
       "      <td>59.0</td>\n",
       "    </tr>\n",
       "    <tr>\n",
       "      <th>15</th>\n",
       "      <td>matchbox twenty</td>\n",
       "      <td>4:12</td>\n",
       "      <td>1st_week</td>\n",
       "      <td>60.0</td>\n",
       "    </tr>\n",
       "    <tr>\n",
       "      <th>16</th>\n",
       "      <td>Carey, Mariah</td>\n",
       "      <td>4:14</td>\n",
       "      <td>1st_week</td>\n",
       "      <td>82.0</td>\n",
       "    </tr>\n",
       "    <tr>\n",
       "      <th>17</th>\n",
       "      <td>Hill, Faith</td>\n",
       "      <td>4:04</td>\n",
       "      <td>1st_week</td>\n",
       "      <td>81.0</td>\n",
       "    </tr>\n",
       "    <tr>\n",
       "      <th>18</th>\n",
       "      <td>Mya</td>\n",
       "      <td>3:50</td>\n",
       "      <td>1st_week</td>\n",
       "      <td>72.0</td>\n",
       "    </tr>\n",
       "    <tr>\n",
       "      <th>19</th>\n",
       "      <td>Dream</td>\n",
       "      <td>3:43</td>\n",
       "      <td>1st_week</td>\n",
       "      <td>99.0</td>\n",
       "    </tr>\n",
       "    <tr>\n",
       "      <th>20</th>\n",
       "      <td>Braxton, Toni</td>\n",
       "      <td>4:21</td>\n",
       "      <td>1st_week</td>\n",
       "      <td>63.0</td>\n",
       "    </tr>\n",
       "    <tr>\n",
       "      <th>21</th>\n",
       "      <td>Anthony, Marc</td>\n",
       "      <td>3:50</td>\n",
       "      <td>1st_week</td>\n",
       "      <td>77.0</td>\n",
       "    </tr>\n",
       "    <tr>\n",
       "      <th>22</th>\n",
       "      <td>98�</td>\n",
       "      <td>3:24</td>\n",
       "      <td>1st_week</td>\n",
       "      <td>51.0</td>\n",
       "    </tr>\n",
       "    <tr>\n",
       "      <th>23</th>\n",
       "      <td>Destiny's Child</td>\n",
       "      <td>3:48</td>\n",
       "      <td>1st_week</td>\n",
       "      <td>74.0</td>\n",
       "    </tr>\n",
       "    <tr>\n",
       "      <th>24</th>\n",
       "      <td>3 Doors Down</td>\n",
       "      <td>3:53</td>\n",
       "      <td>1st_week</td>\n",
       "      <td>81.0</td>\n",
       "    </tr>\n",
       "    <tr>\n",
       "      <th>25</th>\n",
       "      <td>Sisqo</td>\n",
       "      <td>4:05</td>\n",
       "      <td>1st_week</td>\n",
       "      <td>74.0</td>\n",
       "    </tr>\n",
       "    <tr>\n",
       "      <th>26</th>\n",
       "      <td>Aguilera, Christina</td>\n",
       "      <td>4:00</td>\n",
       "      <td>1st_week</td>\n",
       "      <td>50.0</td>\n",
       "    </tr>\n",
       "    <tr>\n",
       "      <th>27</th>\n",
       "      <td>Houston, Whitney</td>\n",
       "      <td>4:16</td>\n",
       "      <td>1st_week</td>\n",
       "      <td>81.0</td>\n",
       "    </tr>\n",
       "    <tr>\n",
       "      <th>28</th>\n",
       "      <td>Joe</td>\n",
       "      <td>4:57</td>\n",
       "      <td>1st_week</td>\n",
       "      <td>94.0</td>\n",
       "    </tr>\n",
       "    <tr>\n",
       "      <th>29</th>\n",
       "      <td>Jordan, Montell</td>\n",
       "      <td>4:34</td>\n",
       "      <td>1st_week</td>\n",
       "      <td>92.0</td>\n",
       "    </tr>\n",
       "    <tr>\n",
       "      <th>...</th>\n",
       "      <td>...</td>\n",
       "      <td>...</td>\n",
       "      <td>...</td>\n",
       "      <td>...</td>\n",
       "    </tr>\n",
       "    <tr>\n",
       "      <th>24062</th>\n",
       "      <td>2Ge+her</td>\n",
       "      <td>3:15</td>\n",
       "      <td>76th_week</td>\n",
       "      <td>NaN</td>\n",
       "    </tr>\n",
       "    <tr>\n",
       "      <th>24063</th>\n",
       "      <td>Madison Avenue</td>\n",
       "      <td>3:44</td>\n",
       "      <td>76th_week</td>\n",
       "      <td>NaN</td>\n",
       "    </tr>\n",
       "    <tr>\n",
       "      <th>24064</th>\n",
       "      <td>Eve</td>\n",
       "      <td>3:48</td>\n",
       "      <td>76th_week</td>\n",
       "      <td>NaN</td>\n",
       "    </tr>\n",
       "    <tr>\n",
       "      <th>24065</th>\n",
       "      <td>Limp Bizkit</td>\n",
       "      <td>4:08</td>\n",
       "      <td>76th_week</td>\n",
       "      <td>NaN</td>\n",
       "    </tr>\n",
       "    <tr>\n",
       "      <th>24066</th>\n",
       "      <td>Spencer, Tracie</td>\n",
       "      <td>4:11</td>\n",
       "      <td>76th_week</td>\n",
       "      <td>NaN</td>\n",
       "    </tr>\n",
       "    <tr>\n",
       "      <th>24067</th>\n",
       "      <td>Nu Flavor</td>\n",
       "      <td>3:54</td>\n",
       "      <td>76th_week</td>\n",
       "      <td>NaN</td>\n",
       "    </tr>\n",
       "    <tr>\n",
       "      <th>24068</th>\n",
       "      <td>Tamar</td>\n",
       "      <td>4:02</td>\n",
       "      <td>76th_week</td>\n",
       "      <td>NaN</td>\n",
       "    </tr>\n",
       "    <tr>\n",
       "      <th>24069</th>\n",
       "      <td>Levert, Gerald</td>\n",
       "      <td>4:10</td>\n",
       "      <td>76th_week</td>\n",
       "      <td>NaN</td>\n",
       "    </tr>\n",
       "    <tr>\n",
       "      <th>24070</th>\n",
       "      <td>Hart, Beth</td>\n",
       "      <td>3:47</td>\n",
       "      <td>76th_week</td>\n",
       "      <td>NaN</td>\n",
       "    </tr>\n",
       "    <tr>\n",
       "      <th>24071</th>\n",
       "      <td>Diffie, Joe</td>\n",
       "      <td>3:23</td>\n",
       "      <td>76th_week</td>\n",
       "      <td>NaN</td>\n",
       "    </tr>\n",
       "    <tr>\n",
       "      <th>24072</th>\n",
       "      <td>Funkmaster Flex</td>\n",
       "      <td>4:14</td>\n",
       "      <td>76th_week</td>\n",
       "      <td>NaN</td>\n",
       "    </tr>\n",
       "    <tr>\n",
       "      <th>24073</th>\n",
       "      <td>Price, Kelly</td>\n",
       "      <td>3:46</td>\n",
       "      <td>76th_week</td>\n",
       "      <td>NaN</td>\n",
       "    </tr>\n",
       "    <tr>\n",
       "      <th>24074</th>\n",
       "      <td>En Vogue</td>\n",
       "      <td>5:10</td>\n",
       "      <td>76th_week</td>\n",
       "      <td>NaN</td>\n",
       "    </tr>\n",
       "    <tr>\n",
       "      <th>24075</th>\n",
       "      <td>Herndon, Ty</td>\n",
       "      <td>4:43</td>\n",
       "      <td>76th_week</td>\n",
       "      <td>NaN</td>\n",
       "    </tr>\n",
       "    <tr>\n",
       "      <th>24076</th>\n",
       "      <td>Anastacia</td>\n",
       "      <td>4:01</td>\n",
       "      <td>76th_week</td>\n",
       "      <td>NaN</td>\n",
       "    </tr>\n",
       "    <tr>\n",
       "      <th>24077</th>\n",
       "      <td>Trina</td>\n",
       "      <td>2:58</td>\n",
       "      <td>76th_week</td>\n",
       "      <td>NaN</td>\n",
       "    </tr>\n",
       "    <tr>\n",
       "      <th>24078</th>\n",
       "      <td>Lil' Mo</td>\n",
       "      <td>4:17</td>\n",
       "      <td>76th_week</td>\n",
       "      <td>NaN</td>\n",
       "    </tr>\n",
       "    <tr>\n",
       "      <th>24079</th>\n",
       "      <td>A*Teens</td>\n",
       "      <td>3:44</td>\n",
       "      <td>76th_week</td>\n",
       "      <td>NaN</td>\n",
       "    </tr>\n",
       "    <tr>\n",
       "      <th>24080</th>\n",
       "      <td>Sheist, Shade</td>\n",
       "      <td>4:16</td>\n",
       "      <td>76th_week</td>\n",
       "      <td>NaN</td>\n",
       "    </tr>\n",
       "    <tr>\n",
       "      <th>24081</th>\n",
       "      <td>De La Soul</td>\n",
       "      <td>5:02</td>\n",
       "      <td>76th_week</td>\n",
       "      <td>NaN</td>\n",
       "    </tr>\n",
       "    <tr>\n",
       "      <th>24082</th>\n",
       "      <td>Larrieux, Amel</td>\n",
       "      <td>4:02</td>\n",
       "      <td>76th_week</td>\n",
       "      <td>NaN</td>\n",
       "    </tr>\n",
       "    <tr>\n",
       "      <th>24083</th>\n",
       "      <td>Braxton, Toni</td>\n",
       "      <td>4:24</td>\n",
       "      <td>76th_week</td>\n",
       "      <td>NaN</td>\n",
       "    </tr>\n",
       "    <tr>\n",
       "      <th>24084</th>\n",
       "      <td>Tuesday</td>\n",
       "      <td>4:06</td>\n",
       "      <td>76th_week</td>\n",
       "      <td>NaN</td>\n",
       "    </tr>\n",
       "    <tr>\n",
       "      <th>24085</th>\n",
       "      <td>LL Cool J</td>\n",
       "      <td>4:00</td>\n",
       "      <td>76th_week</td>\n",
       "      <td>NaN</td>\n",
       "    </tr>\n",
       "    <tr>\n",
       "      <th>24086</th>\n",
       "      <td>Master P</td>\n",
       "      <td>3:33</td>\n",
       "      <td>76th_week</td>\n",
       "      <td>NaN</td>\n",
       "    </tr>\n",
       "    <tr>\n",
       "      <th>24087</th>\n",
       "      <td>Ghostface Killah</td>\n",
       "      <td>3:04</td>\n",
       "      <td>76th_week</td>\n",
       "      <td>NaN</td>\n",
       "    </tr>\n",
       "    <tr>\n",
       "      <th>24088</th>\n",
       "      <td>Smith, Will</td>\n",
       "      <td>3:58</td>\n",
       "      <td>76th_week</td>\n",
       "      <td>NaN</td>\n",
       "    </tr>\n",
       "    <tr>\n",
       "      <th>24089</th>\n",
       "      <td>Zombie Nation</td>\n",
       "      <td>3:30</td>\n",
       "      <td>76th_week</td>\n",
       "      <td>NaN</td>\n",
       "    </tr>\n",
       "    <tr>\n",
       "      <th>24090</th>\n",
       "      <td>Eastsidaz, The</td>\n",
       "      <td>3:58</td>\n",
       "      <td>76th_week</td>\n",
       "      <td>NaN</td>\n",
       "    </tr>\n",
       "    <tr>\n",
       "      <th>24091</th>\n",
       "      <td>Fragma</td>\n",
       "      <td>3:22</td>\n",
       "      <td>76th_week</td>\n",
       "      <td>NaN</td>\n",
       "    </tr>\n",
       "  </tbody>\n",
       "</table>\n",
       "<p>24092 rows × 4 columns</p>\n",
       "</div>"
      ],
      "text/plain": [
       "                    artist  time       Week  value\n",
       "0          Destiny's Child  3:38   1st_week   78.0\n",
       "1                  Santana  4:18   1st_week   15.0\n",
       "2            Savage Garden  4:07   1st_week   71.0\n",
       "3                  Madonna  3:45   1st_week   41.0\n",
       "4      Aguilera, Christina  3:38   1st_week   57.0\n",
       "5                    Janet  4:17   1st_week   59.0\n",
       "6          Destiny's Child  4:31   1st_week   83.0\n",
       "7        Iglesias, Enrique  3:36   1st_week   63.0\n",
       "8                    Sisqo  3:52   1st_week   77.0\n",
       "9                 Lonestar  4:25   1st_week   81.0\n",
       "10                  N'Sync  3:10   1st_week   82.0\n",
       "11     Aguilera, Christina  3:18   1st_week   71.0\n",
       "12        Vertical Horizon  4:01   1st_week   70.0\n",
       "13                   Creed  3:52   1st_week   84.0\n",
       "14                 Aaliyah  4:03   1st_week   59.0\n",
       "15         matchbox twenty  4:12   1st_week   60.0\n",
       "16           Carey, Mariah  4:14   1st_week   82.0\n",
       "17             Hill, Faith  4:04   1st_week   81.0\n",
       "18                     Mya  3:50   1st_week   72.0\n",
       "19                   Dream  3:43   1st_week   99.0\n",
       "20           Braxton, Toni  4:21   1st_week   63.0\n",
       "21           Anthony, Marc  3:50   1st_week   77.0\n",
       "22                     98�  3:24   1st_week   51.0\n",
       "23         Destiny's Child  3:48   1st_week   74.0\n",
       "24            3 Doors Down  3:53   1st_week   81.0\n",
       "25                   Sisqo  4:05   1st_week   74.0\n",
       "26     Aguilera, Christina  4:00   1st_week   50.0\n",
       "27        Houston, Whitney  4:16   1st_week   81.0\n",
       "28                     Joe  4:57   1st_week   94.0\n",
       "29         Jordan, Montell  4:34   1st_week   92.0\n",
       "...                    ...   ...        ...    ...\n",
       "24062              2Ge+her  3:15  76th_week    NaN\n",
       "24063       Madison Avenue  3:44  76th_week    NaN\n",
       "24064                  Eve  3:48  76th_week    NaN\n",
       "24065          Limp Bizkit  4:08  76th_week    NaN\n",
       "24066      Spencer, Tracie  4:11  76th_week    NaN\n",
       "24067            Nu Flavor  3:54  76th_week    NaN\n",
       "24068                Tamar  4:02  76th_week    NaN\n",
       "24069       Levert, Gerald  4:10  76th_week    NaN\n",
       "24070           Hart, Beth  3:47  76th_week    NaN\n",
       "24071          Diffie, Joe  3:23  76th_week    NaN\n",
       "24072      Funkmaster Flex  4:14  76th_week    NaN\n",
       "24073         Price, Kelly  3:46  76th_week    NaN\n",
       "24074             En Vogue  5:10  76th_week    NaN\n",
       "24075          Herndon, Ty  4:43  76th_week    NaN\n",
       "24076            Anastacia  4:01  76th_week    NaN\n",
       "24077                Trina  2:58  76th_week    NaN\n",
       "24078              Lil' Mo  4:17  76th_week    NaN\n",
       "24079              A*Teens  3:44  76th_week    NaN\n",
       "24080        Sheist, Shade  4:16  76th_week    NaN\n",
       "24081           De La Soul  5:02  76th_week    NaN\n",
       "24082       Larrieux, Amel  4:02  76th_week    NaN\n",
       "24083        Braxton, Toni  4:24  76th_week    NaN\n",
       "24084              Tuesday  4:06  76th_week    NaN\n",
       "24085            LL Cool J  4:00  76th_week    NaN\n",
       "24086             Master P  3:33  76th_week    NaN\n",
       "24087     Ghostface Killah  3:04  76th_week    NaN\n",
       "24088          Smith, Will  3:58  76th_week    NaN\n",
       "24089        Zombie Nation  3:30  76th_week    NaN\n",
       "24090       Eastsidaz, The  3:58  76th_week    NaN\n",
       "24091               Fragma  3:22  76th_week    NaN\n",
       "\n",
       "[24092 rows x 4 columns]"
      ]
     },
     "execution_count": 125,
     "metadata": {},
     "output_type": "execute_result"
    }
   ],
   "source": [
    "#I wanted to create a melted data frame that included time for my problem statement exploration.\n",
    "week_melt_time = pd.melt(billboards, id_vars=['artist', 'time'], value_vars=clean_week_columns, var_name='Week')\n",
    "week_melt_time"
   ]
  },
  {
   "cell_type": "markdown",
   "metadata": {
    "focus": false,
    "id": "2023c5a8-1f4e-4d83-9a52-c41a5090af74"
   },
   "source": [
    "## Step 3: Visualize your data."
   ]
  },
  {
   "cell_type": "markdown",
   "metadata": {
    "focus": false,
    "id": "dfaca026-8eca-4119-b4c1-e43433790c8e"
   },
   "source": [
    "##### Using a plotting utility of your choice (Tableau or python modules or both), create visualizations that will provide context to your data. There is no minimum or maximum number of graphs you should generate, but there should be a clear and consistent story being told. Give insights to the distribution, statistics, and relationships of the data. "
   ]
  },
  {
   "cell_type": "code",
   "execution_count": 127,
   "metadata": {
    "collapsed": false,
    "focus": false,
    "id": "aa0c535c-497c-4f10-b695-540612ca534e"
   },
   "outputs": [
    {
     "data": {
      "text/plain": [
       "<matplotlib.axes._subplots.AxesSubplot at 0x120f99310>"
      ]
     },
     "execution_count": 127,
     "metadata": {},
     "output_type": "execute_result"
    },
    {
     "data": {
      "image/png": "[encoded data removed]",
      "text/plain": [
       "<matplotlib.figure.Figure at 0x121b72650>"
      ]
     },
     "metadata": {},
     "output_type": "display_data"
    }
   ],
   "source": [
    "\"\"\"\n",
    "This swarm plot attempts to find the correlation between the length of a track, and it's ranking on the billboard \n",
    "chart.  The chart indicates that shorter the track, the higher it's rank.\n",
    "\"\"\"\n",
    "sns.swarmplot(x='value', y= 'time', data=week_melt_time)"
   ]
  },
  {
   "cell_type": "code",
   "execution_count": 129,
   "metadata": {
    "collapsed": false
   },
   "outputs": [
    {
     "data": {
      "text/plain": [
       "<matplotlib.axes._subplots.AxesSubplot at 0x12232d790>"
      ]
     },
     "execution_count": 129,
     "metadata": {},
     "output_type": "execute_result"
    },
    {
     "data": {
      "image/png": "[encoded data removed]",
      "text/plain": [
       "<matplotlib.figure.Figure at 0x120f57b50>"
      ]
     },
     "metadata": {},
     "output_type": "display_data"
    }
   ],
   "source": [
    "#This chart shows that a good amount of the tracks on the top 100 are low to medium in length.\n",
    "time.plot(kind='hist')"
   ]
  },
  {
   "cell_type": "code",
   "execution_count": null,
   "metadata": {
    "collapsed": false
   },
   "outputs": [],
   "source": []
  },
  {
   "cell_type": "markdown",
   "metadata": {
    "focus": false,
    "id": "8401c631-245b-4560-8971-25cb2406c2ab"
   },
   "source": [
    "## Step 4: Create a Problem Statement.\n",
    "\n",
    "##### Having explored the data, come up with a problem statement for this data set. You can feel free to introduce data from any other source to support your problem statement, just be sure to provide a link to the origin of the data. Once again- be creative!"
   ]
  },
  {
   "cell_type": "code",
   "execution_count": null,
   "metadata": {
    "collapsed": true,
    "focus": false,
    "id": "e1b81214-9b26-4735-8c1b-4482e948b355"
   },
   "outputs": [],
   "source": [
    "#Does the shorter the length of a track, increase it's probability to be on the Billboard top 100 in the year 2000?"
   ]
  },
  {
   "cell_type": "markdown",
   "metadata": {
    "collapsed": false,
    "focus": false,
    "id": "a0ff30a0-48be-4851-9ec3-4ce8ece08a67"
   },
   "source": [
    "## Step 5: Brainstorm your Approach.\n",
    "##### In bullet-list form, provide a proposed approach for evaluating your problem statement. This can be somewhat high-level, but start to think about ways you can massage the data for maximum efficacy. "
   ]
  },
  {
   "cell_type": "code",
   "execution_count": null,
   "metadata": {
    "collapsed": true,
    "focus": false,
    "id": "9d772c7b-61e0-4bc4-bb1a-f3d43ba54862"
   },
   "outputs": [],
   "source": [
    "\"\"\"\n",
    "Compare the tracks that are on the Billboard rankings the most with the length of the tracks.\n",
    "Find the mean and standard deviation of the track lengths for the tracks on the Billboard list for 2000.\n",
    "Attempt to find the correlation between the time of a track and it's ranking on the billboard chart. \n",
    "\"\"\""
   ]
  },
  {
   "cell_type": "markdown",
   "metadata": {
    "collapsed": true,
    "focus": false,
    "id": "a3c74c5b-3d90-4442-97d9-ae320fe238d1"
   },
   "source": [
    "## Step 6: Create a blog post with your code snippets and visualizations.\n",
    "##### Data Science is a growing field, and the Tech industry thrives off of collaboration and sharing of knowledge. Blogging is a powerful means for pushing the needle forward in our field. Using your blogging platform of choice, create a post describing each of the 5 steps above. Rather than writing a procedural text, imagine you're describing the data, visualizations, and conclusions you've arrived at to your peers. Aim for a minimum of 500 words. "
   ]
  },
  {
   "cell_type": "code",
   "execution_count": null,
   "metadata": {
    "collapsed": true,
    "focus": false,
    "id": "9b0185e4-7023-4086-b8b7-e15bcacc9984"
   },
   "outputs": [],
   "source": [
    "\"\"\"\n",
    "https://cshoejazz.wordpress.com/\n",
    "I am still working on getting a better blog up specifically for my data science work, so in the meantime I am using my\n",
    "old retired blog.\n",
    "\"\"\""
   ]
  },
  {
   "cell_type": "markdown",
   "metadata": {
    "focus": false,
    "id": "aee61cbf-dfe9-40d3-bfef-772a60bed757"
   },
   "source": [
    "## BONUS: The Content Managers working for the Podcast Publishing Company have recognized you as a thought leader in your field. They've asked you to pen a white paper (minimum 500 words) on the subject of 'What It Means To Have Clean Data'. This will be an opinion piece read by a wide audience, so be sure to back up your statements with real world examples or scenarios.\n",
    "\n",
    "##### Hint: To get started, look around on the internet for articles, blog posts, papers, youtube videos, podcasts, reddit discussions, anything that will help you understand the challenges and implications of dealing with big data. This should be a personal reflection on everything you've learned this week, and the learning goals that have been set out for you going forward. "
   ]
  },
  {
   "cell_type": "code",
   "execution_count": null,
   "metadata": {
    "collapsed": true,
    "focus": false,
    "id": "28deb393-c994-47bc-87d2-035741ce527c"
   },
   "outputs": [],
   "source": []
  }
 ],
 "metadata": {
  "kernelspec": {
   "display_name": "Python 2",
   "language": "python",
   "name": "python2"
  },
  "language_info": {
   "codemirror_mode": {
    "name": "ipython",
    "version": 2
   },
   "file_extension": ".py",
   "mimetype": "text/x-python",
   "name": "python",
   "nbconvert_exporter": "python",
   "pygments_lexer": "ipython2",
   "version": "2.7.11"
  }
 },
 "nbformat": 4,
 "nbformat_minor": 0
}
