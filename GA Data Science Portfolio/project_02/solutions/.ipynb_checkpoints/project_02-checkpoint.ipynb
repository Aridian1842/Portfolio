{
 "cells": [
  {
   "cell_type": "markdown",
   "metadata": {
    "focus": true,
    "id": "263eb813-da45-48cf-9a8f-9da76c18e470"
   },
   "source": [
    "# Project 2\n",
    "## Step 1: Exploring your data.\n",
    "\n",
    "##### Load your data in using Pandas and start to explore. Save all of your early exploration code here and include in your final submission."
   ]
  },
  {
   "cell_type": "code",
   "execution_count": 1,
   "metadata": {
    "collapsed": false,
    "focus": false,
    "id": "b733d2fe-6d33-41dd-a3fc-5dfe9d71d91f",
    "scrolled": false
   },
   "outputs": [],
   "source": [
    "import pandas as pd\n",
    "import numpy as np\n",
    "import matplotlib.pyplot as plt\n",
    "import seaborn as sns\n",
    "import re\n",
    "%matplotlib inline\n",
    "billboards_data = pd.read_csv('../assets/billboard.csv')\n",
    "billboards = pd.DataFrame(billboards_data)"
   ]
  },
  {
   "cell_type": "code",
   "execution_count": 2,
   "metadata": {
    "collapsed": false
   },
   "outputs": [
    {
     "data": {
      "text/plain": [
       "year                 int64\n",
       "artist.inverted     object\n",
       "track               object\n",
       "time                object\n",
       "genre               object\n",
       "date.entered        object\n",
       "date.peaked         object\n",
       "x1st.week            int64\n",
       "x2nd.week          float64\n",
       "x3rd.week          float64\n",
       "x4th.week          float64\n",
       "x5th.week          float64\n",
       "x6th.week          float64\n",
       "x7th.week          float64\n",
       "x8th.week          float64\n",
       "x9th.week          float64\n",
       "x10th.week         float64\n",
       "x11th.week         float64\n",
       "x12th.week         float64\n",
       "x13th.week         float64\n",
       "x14th.week         float64\n",
       "x15th.week         float64\n",
       "x16th.week         float64\n",
       "x17th.week         float64\n",
       "x18th.week         float64\n",
       "x19th.week         float64\n",
       "x20th.week         float64\n",
       "x21st.week         float64\n",
       "x22nd.week         float64\n",
       "x23rd.week         float64\n",
       "                    ...   \n",
       "x47th.week         float64\n",
       "x48th.week         float64\n",
       "x49th.week         float64\n",
       "x50th.week         float64\n",
       "x51st.week         float64\n",
       "x52nd.week         float64\n",
       "x53rd.week         float64\n",
       "x54th.week         float64\n",
       "x55th.week         float64\n",
       "x56th.week         float64\n",
       "x57th.week         float64\n",
       "x58th.week         float64\n",
       "x59th.week         float64\n",
       "x60th.week         float64\n",
       "x61st.week         float64\n",
       "x62nd.week         float64\n",
       "x63rd.week         float64\n",
       "x64th.week         float64\n",
       "x65th.week         float64\n",
       "x66th.week         float64\n",
       "x67th.week         float64\n",
       "x68th.week         float64\n",
       "x69th.week         float64\n",
       "x70th.week         float64\n",
       "x71st.week         float64\n",
       "x72nd.week         float64\n",
       "x73rd.week         float64\n",
       "x74th.week         float64\n",
       "x75th.week         float64\n",
       "x76th.week         float64\n",
       "dtype: object"
      ]
     },
     "execution_count": 2,
     "metadata": {},
     "output_type": "execute_result"
    }
   ],
   "source": [
    "billboards.dtypes"
   ]
  },
  {
   "cell_type": "code",
   "execution_count": 3,
   "metadata": {
    "collapsed": false
   },
   "outputs": [
    {
     "data": {
      "text/plain": [
       "(317, 83)"
      ]
     },
     "execution_count": 3,
     "metadata": {},
     "output_type": "execute_result"
    }
   ],
   "source": [
    "billboards.shape"
   ]
  },
  {
   "cell_type": "markdown",
   "metadata": {
    "collapsed": false
   },
   "source": [
    "Decided to warm up by calculating the mean, standard deviation, median, mode, variance, and range of the first 3 weeks\n",
    "of chart data"
   ]
  },
  {
   "cell_type": "code",
   "execution_count": 4,
   "metadata": {
    "collapsed": false
   },
   "outputs": [
    {
     "name": "stdout",
     "output_type": "stream",
     "text": [
      "The first week mean is: \n",
      "79.9589905363\n",
      "The first week Standard Deviation is: \n",
      "14.6868651898\n",
      "The first week median is: \n",
      "81.0\n",
      "The first week mode is: \n",
      "0    77\n",
      "dtype: int64\n",
      "The first week variance is: \n",
      "215.704009104\n",
      "The first week range is: \n",
      "85\n"
     ]
    }
   ],
   "source": [
    "first_week = billboards['x1st.week']\n",
    "print \"The first week mean is: \"\n",
    "print first_week.mean()\n",
    "print \"The first week Standard Deviation is: \"\n",
    "print first_week.std()\n",
    "print \"The first week median is: \"\n",
    "print first_week.median()\n",
    "print \"The first week mode is: \"\n",
    "print first_week.mode()\n",
    "print \"The first week variance is: \"\n",
    "print first_week.var()\n",
    "first_week_range = first_week.max() - first_week.min()\n",
    "print \"The first week range is: \"\n",
    "print first_week_range"
   ]
  },
  {
   "cell_type": "code",
   "execution_count": 5,
   "metadata": {
    "collapsed": false
   },
   "outputs": [
    {
     "name": "stdout",
     "output_type": "stream",
     "text": [
      "The second week mean is: \n",
      "71.1730769231\n",
      "The second week Standard Deviation is: \n",
      "18.2004428982\n",
      "The second week median is: \n",
      "73.0\n",
      "The second week mode is: \n",
      "0    72.0\n",
      "1    76.0\n",
      "dtype: float64\n",
      "The second week variance is: \n",
      "331.256121692\n",
      "The second week range is: \n",
      "92.0\n"
     ]
    }
   ],
   "source": [
    "second_week = billboards['x2nd.week']\n",
    "print \"The second week mean is: \"\n",
    "print second_week.mean()\n",
    "print \"The second week Standard Deviation is: \"\n",
    "print second_week.std()\n",
    "print \"The second week median is: \"\n",
    "print second_week.median()\n",
    "print \"The second week mode is: \"\n",
    "print second_week.mode()\n",
    "print \"The second week variance is: \"\n",
    "print second_week.var()\n",
    "second_week_range = second_week.max() - second_week.min()\n",
    "print \"The second week range is: \"\n",
    "print second_week_range"
   ]
  },
  {
   "cell_type": "code",
   "execution_count": 6,
   "metadata": {
    "collapsed": false
   },
   "outputs": [
    {
     "name": "stdout",
     "output_type": "stream",
     "text": [
      "The third week mean is: \n",
      "65.0456026059\n",
      "The third week Standard Deviation is: \n",
      "20.7523021452\n",
      "The third week median is: \n",
      "66.0\n",
      "The third week mode is: \n",
      "0    65.0\n",
      "dtype: float64\n",
      "The third week variance is: \n",
      "430.658044325\n",
      "The third week range is: \n",
      "94.0\n"
     ]
    }
   ],
   "source": [
    "third_week = billboards['x3rd.week']\n",
    "print \"The third week mean is: \"\n",
    "print third_week.mean()\n",
    "print \"The third week Standard Deviation is: \"\n",
    "print third_week.std()\n",
    "print \"The third week median is: \"\n",
    "print third_week.median()\n",
    "print \"The third week mode is: \"\n",
    "print third_week.mode()\n",
    "print \"The third week variance is: \"\n",
    "print third_week.var()\n",
    "third_week_range = third_week.max() - third_week.min()\n",
    "print \"The third week range is: \"\n",
    "print third_week_range"
   ]
  },
  {
   "cell_type": "code",
   "execution_count": 109,
   "metadata": {
    "collapsed": false
   },
   "outputs": [
    {
     "data": {
      "text/plain": [
       "<matplotlib.axes._subplots.AxesSubplot at 0x120cdbd90>"
      ]
     },
     "execution_count": 109,
     "metadata": {},
     "output_type": "execute_result"
    },
    {
     "data": {
      "image/png": "[encoded data removed]",
      "text/plain": [
       "<matplotlib.figure.Figure at 0x11e828bd0>"
      ]
     },
     "metadata": {},
     "output_type": "display_data"
    }
   ],
   "source": [
    "#this shows a histogram of the first three \"week\" rows data.  I just thought it was interesting to see and a good warm up.\n",
    "first_week.plot(kind='hist')\n",
    "second_week.plot(kind='hist')\n",
    "third_week.plot(kind='hist')"
   ]
  },
  {
   "cell_type": "code",
   "execution_count": 110,
   "metadata": {
    "collapsed": false
   },
   "outputs": [
    {
     "data": {
      "text/plain": [
       "Index([u'date.peaked', u'x1st.week', u'x2nd.week', u'x3rd.week', u'x4th.week',\n",
       "       u'x5th.week', u'x6th.week', u'x7th.week', u'x8th.week', u'x9th.week',\n",
       "       u'x10th.week', u'x11th.week', u'x12th.week', u'x13th.week',\n",
       "       u'x14th.week', u'x15th.week', u'x16th.week', u'x17th.week',\n",
       "       u'x18th.week', u'x19th.week', u'x20th.week', u'x21st.week',\n",
       "       u'x22nd.week', u'x23rd.week', u'x24th.week', u'x25th.week',\n",
       "       u'x26th.week', u'x27th.week', u'x28th.week', u'x29th.week',\n",
       "       u'x30th.week', u'x31st.week', u'x32nd.week', u'x33rd.week',\n",
       "       u'x34th.week', u'x35th.week', u'x36th.week', u'x37th.week',\n",
       "       u'x38th.week', u'x39th.week', u'x40th.week', u'x41st.week',\n",
       "       u'x42nd.week', u'x43rd.week', u'x44th.week', u'x45th.week',\n",
       "       u'x46th.week', u'x47th.week', u'x48th.week', u'x49th.week',\n",
       "       u'x50th.week', u'x51st.week', u'x52nd.week', u'x53rd.week',\n",
       "       u'x54th.week', u'x55th.week', u'x56th.week', u'x57th.week',\n",
       "       u'x58th.week', u'x59th.week', u'x60th.week', u'x61st.week',\n",
       "       u'x62nd.week', u'x63rd.week', u'x64th.week', u'x65th.week',\n",
       "       u'x66th.week', u'x67th.week', u'x68th.week', u'x69th.week',\n",
       "       u'x70th.week', u'x71st.week', u'x72nd.week', u'x73rd.week',\n",
       "       u'x74th.week', u'x75th.week', u'x76th.week'],\n",
       "      dtype='object')"
      ]
     },
     "execution_count": 110,
     "metadata": {},
     "output_type": "execute_result"
    }
   ],
   "source": [
    "weeks_columns = billboards.columns[6:]\n",
    "weeks_columns"
   ]
  },
  {
   "cell_type": "markdown",
   "metadata": {
    "focus": false,
    "id": "94514384-cf79-4e7a-a09b-02cddc91e77c"
   },
   "source": [
    "##### Write a brief description of your data, and any interesting observations you've made thus far. "
   ]
  },
  {
   "cell_type": "markdown",
   "metadata": {
    "collapsed": false
   },
   "source": [
    "This data set takes a look at the year 2000 and what tracks were on the top of the Billboard music charts.  It shows\n",
    "us the name of the artist, name of the track, length of the track, genre, date entered and peaked on the billboard charts\n",
    "and then breaks down the actual ranking for every week that it was on the charts.  It does this by placing each week\n",
    "in a respective column and then listing the number of that tracks ranking in the column.  \n",
    "\n",
    "Some interesting items of note thus far are the following:\n",
    "- The first 'x1st.week' column returns as an integer type, whereas the rest of the week's return as float types\n",
    "- The \"date_entered\" and \"date_peaked\" columns will need to be converted to DateTime in order to better call on data.\n",
    "- The \"year\" column is really not needed as the database is focused on the year 2000.\n",
    "- The \"artist.inverted\" column should be renamed for easier calling.\n",
    "    \n"
   ]
  },
  {
   "cell_type": "markdown",
   "metadata": {
    "focus": false,
    "id": "888b6223-3bb4-4d91-b753-4867a3a1b281"
   },
   "source": [
    "## Step 2: Clean your data."
   ]
  },
  {
   "cell_type": "markdown",
   "metadata": {
    "focus": false,
    "id": "8a273328-6d9f-4dfc-88f8-a0c18e4d7f90"
   },
   "source": [
    "##### Do some rudimentary cleaning. Rename any columns that are poorly named, shorten any strings that may be too long, fill in any missing values. Explain your rationale for the way you choose to \"impute\" the missing data."
   ]
  },
  {
   "cell_type": "markdown",
   "metadata": {},
   "source": [
    "Removing the year column because the data set is strictly the year 2000 and including that column may interfere\n",
    "with data analysis and visualition:"
   ]
  },
  {
   "cell_type": "code",
   "execution_count": 7,
   "metadata": {
    "collapsed": true
   },
   "outputs": [],
   "source": [
    "del billboards ['year']"
   ]
  },
  {
   "cell_type": "markdown",
   "metadata": {},
   "source": [
    "Removing the \"x\" from the column names that was placed in front of each week's column name.\n",
    "I used a lambda function since the naming convention was the same across the entire column, and this accomplished my \n",
    "goal with one line of code, rather than defining every column name:"
   ]
  },
  {
   "cell_type": "code",
   "execution_count": 8,
   "metadata": {
    "collapsed": false
   },
   "outputs": [],
   "source": [
    "billboards.rename(columns=lambda x: x.replace('x', ''), inplace=True)"
   ]
  },
  {
   "cell_type": "markdown",
   "metadata": {},
   "source": [
    "Replaced all \".\" with \"_\" to improve readability and make syntax more pythonic.  Used same lambda function as above:"
   ]
  },
  {
   "cell_type": "code",
   "execution_count": 10,
   "metadata": {
    "collapsed": false,
    "scrolled": false
   },
   "outputs": [],
   "source": [
    "billboards.rename(columns=lambda x: x.replace('.', '_'), inplace=True)"
   ]
  },
  {
   "cell_type": "markdown",
   "metadata": {},
   "source": [
    "Renamed \"artist_inverted\" to \"artist\" for easier identification. Made sure to use \"artist_inverted\" due to prior code:"
   ]
  },
  {
   "cell_type": "code",
   "execution_count": 12,
   "metadata": {
    "collapsed": true
   },
   "outputs": [],
   "source": [
    "billboards.rename(columns={'artist_inverted':'artist'}, inplace=True)"
   ]
  },
  {
   "cell_type": "markdown",
   "metadata": {},
   "source": [
    "Remove all non-ascii characters:"
   ]
  },
  {
   "cell_type": "code",
   "execution_count": 13,
   "metadata": {
    "collapsed": false,
    "scrolled": true
   },
   "outputs": [],
   "source": [
    "import re\n",
    "billboards['artist'] = billboards['artist'].apply(lambda x: re.sub(r'[^\\x00-\\x7f]',r'',x))\n",
    "billboards['track'] = billboards['track'].apply(lambda x: re.sub(r'[^\\x00-\\x7f]',r'',x))"
   ]
  },
  {
   "cell_type": "markdown",
   "metadata": {},
   "source": [
    "Converting \"date_entered\" and \"date_peaked\" to datetime variables in order to better call on the data:"
   ]
  },
  {
   "cell_type": "code",
   "execution_count": 116,
   "metadata": {
    "collapsed": false
   },
   "outputs": [],
   "source": [
    "date_entered = pd.to_datetime(billboards['date_entered'])\n",
    "date_peaked = pd.to_datetime(billboards['date_peaked'])"
   ]
  },
  {
   "cell_type": "markdown",
   "metadata": {},
   "source": [
    "Shorten track names that are too long:"
   ]
  },
  {
   "cell_type": "code",
   "execution_count": 15,
   "metadata": {
    "collapsed": false
   },
   "outputs": [],
   "source": [
    "billboards.track = billboards.track.apply(lambda x: x[:20])"
   ]
  },
  {
   "cell_type": "markdown",
   "metadata": {},
   "source": [
    "I decided to convert the time column to a single integer representing seconds.  I did this by using the str.split\n",
    "method to separate the two numbers representing minutes and seconds and then apply with a lambda function to combine\n",
    "the two in to a total amount of seconds.  This should help me with visualizing the data."
   ]
  },
  {
   "cell_type": "code",
   "execution_count": 16,
   "metadata": {
    "collapsed": false
   },
   "outputs": [],
   "source": [
    "time = billboards['time'].str.split(':').apply(lambda x: int(x[0]) * 60 + int(x[1]))"
   ]
  },
  {
   "cell_type": "code",
   "execution_count": 17,
   "metadata": {
    "collapsed": false
   },
   "outputs": [],
   "source": [
    "for x in billboards.time:\n",
    "    billboards['time'].str.split(':').apply(lambda x: int(x[0]) * 60 + int(x[1]))"
   ]
  },
  {
   "cell_type": "code",
   "execution_count": 18,
   "metadata": {
    "collapsed": false
   },
   "outputs": [
    {
     "data": {
      "text/html": [
       "<div>\n",
       "<table border=\"1\" class=\"dataframe\">\n",
       "  <thead>\n",
       "    <tr style=\"text-align: right;\">\n",
       "      <th></th>\n",
       "      <th>artist</th>\n",
       "      <th>track</th>\n",
       "      <th>time</th>\n",
       "      <th>genre</th>\n",
       "      <th>date_entered</th>\n",
       "      <th>date_peaked</th>\n",
       "      <th>1st_week</th>\n",
       "      <th>2nd_week</th>\n",
       "      <th>3rd_week</th>\n",
       "      <th>4th_week</th>\n",
       "      <th>...</th>\n",
       "      <th>67th_week</th>\n",
       "      <th>68th_week</th>\n",
       "      <th>69th_week</th>\n",
       "      <th>70th_week</th>\n",
       "      <th>71st_week</th>\n",
       "      <th>72nd_week</th>\n",
       "      <th>73rd_week</th>\n",
       "      <th>74th_week</th>\n",
       "      <th>75th_week</th>\n",
       "      <th>76th_week</th>\n",
       "    </tr>\n",
       "  </thead>\n",
       "  <tbody>\n",
       "    <tr>\n",
       "      <th>0</th>\n",
       "      <td>Destiny's Child</td>\n",
       "      <td>Independent Women Pa</td>\n",
       "      <td>3:38</td>\n",
       "      <td>Rock</td>\n",
       "      <td>2000-09-23</td>\n",
       "      <td>2000-11-18</td>\n",
       "      <td>78</td>\n",
       "      <td>63.0</td>\n",
       "      <td>49.0</td>\n",
       "      <td>33.0</td>\n",
       "      <td>...</td>\n",
       "      <td>NaN</td>\n",
       "      <td>NaN</td>\n",
       "      <td>NaN</td>\n",
       "      <td>NaN</td>\n",
       "      <td>NaN</td>\n",
       "      <td>NaN</td>\n",
       "      <td>NaN</td>\n",
       "      <td>NaN</td>\n",
       "      <td>NaN</td>\n",
       "      <td>NaN</td>\n",
       "    </tr>\n",
       "    <tr>\n",
       "      <th>1</th>\n",
       "      <td>Santana</td>\n",
       "      <td>Maria, Maria</td>\n",
       "      <td>4:18</td>\n",
       "      <td>Rock</td>\n",
       "      <td>2000-02-12</td>\n",
       "      <td>2000-04-08</td>\n",
       "      <td>15</td>\n",
       "      <td>8.0</td>\n",
       "      <td>6.0</td>\n",
       "      <td>5.0</td>\n",
       "      <td>...</td>\n",
       "      <td>NaN</td>\n",
       "      <td>NaN</td>\n",
       "      <td>NaN</td>\n",
       "      <td>NaN</td>\n",
       "      <td>NaN</td>\n",
       "      <td>NaN</td>\n",
       "      <td>NaN</td>\n",
       "      <td>NaN</td>\n",
       "      <td>NaN</td>\n",
       "      <td>NaN</td>\n",
       "    </tr>\n",
       "    <tr>\n",
       "      <th>2</th>\n",
       "      <td>Savage Garden</td>\n",
       "      <td>I Knew I Loved You</td>\n",
       "      <td>4:07</td>\n",
       "      <td>Rock</td>\n",
       "      <td>1999-10-23</td>\n",
       "      <td>2000-01-29</td>\n",
       "      <td>71</td>\n",
       "      <td>48.0</td>\n",
       "      <td>43.0</td>\n",
       "      <td>31.0</td>\n",
       "      <td>...</td>\n",
       "      <td>NaN</td>\n",
       "      <td>NaN</td>\n",
       "      <td>NaN</td>\n",
       "      <td>NaN</td>\n",
       "      <td>NaN</td>\n",
       "      <td>NaN</td>\n",
       "      <td>NaN</td>\n",
       "      <td>NaN</td>\n",
       "      <td>NaN</td>\n",
       "      <td>NaN</td>\n",
       "    </tr>\n",
       "    <tr>\n",
       "      <th>3</th>\n",
       "      <td>Madonna</td>\n",
       "      <td>Music</td>\n",
       "      <td>3:45</td>\n",
       "      <td>Rock</td>\n",
       "      <td>2000-08-12</td>\n",
       "      <td>2000-09-16</td>\n",
       "      <td>41</td>\n",
       "      <td>23.0</td>\n",
       "      <td>18.0</td>\n",
       "      <td>14.0</td>\n",
       "      <td>...</td>\n",
       "      <td>NaN</td>\n",
       "      <td>NaN</td>\n",
       "      <td>NaN</td>\n",
       "      <td>NaN</td>\n",
       "      <td>NaN</td>\n",
       "      <td>NaN</td>\n",
       "      <td>NaN</td>\n",
       "      <td>NaN</td>\n",
       "      <td>NaN</td>\n",
       "      <td>NaN</td>\n",
       "    </tr>\n",
       "    <tr>\n",
       "      <th>4</th>\n",
       "      <td>Aguilera, Christina</td>\n",
       "      <td>Come On Over Baby (A</td>\n",
       "      <td>3:38</td>\n",
       "      <td>Rock</td>\n",
       "      <td>2000-08-05</td>\n",
       "      <td>2000-10-14</td>\n",
       "      <td>57</td>\n",
       "      <td>47.0</td>\n",
       "      <td>45.0</td>\n",
       "      <td>29.0</td>\n",
       "      <td>...</td>\n",
       "      <td>NaN</td>\n",
       "      <td>NaN</td>\n",
       "      <td>NaN</td>\n",
       "      <td>NaN</td>\n",
       "      <td>NaN</td>\n",
       "      <td>NaN</td>\n",
       "      <td>NaN</td>\n",
       "      <td>NaN</td>\n",
       "      <td>NaN</td>\n",
       "      <td>NaN</td>\n",
       "    </tr>\n",
       "  </tbody>\n",
       "</table>\n",
       "<p>5 rows × 82 columns</p>\n",
       "</div>"
      ],
      "text/plain": [
       "                artist                 track  time genre date_entered  \\\n",
       "0      Destiny's Child  Independent Women Pa  3:38  Rock   2000-09-23   \n",
       "1              Santana          Maria, Maria  4:18  Rock   2000-02-12   \n",
       "2        Savage Garden    I Knew I Loved You  4:07  Rock   1999-10-23   \n",
       "3              Madonna                 Music  3:45  Rock   2000-08-12   \n",
       "4  Aguilera, Christina  Come On Over Baby (A  3:38  Rock   2000-08-05   \n",
       "\n",
       "  date_peaked  1st_week  2nd_week  3rd_week  4th_week    ...      67th_week  \\\n",
       "0  2000-11-18        78      63.0      49.0      33.0    ...            NaN   \n",
       "1  2000-04-08        15       8.0       6.0       5.0    ...            NaN   \n",
       "2  2000-01-29        71      48.0      43.0      31.0    ...            NaN   \n",
       "3  2000-09-16        41      23.0      18.0      14.0    ...            NaN   \n",
       "4  2000-10-14        57      47.0      45.0      29.0    ...            NaN   \n",
       "\n",
       "   68th_week  69th_week  70th_week  71st_week  72nd_week  73rd_week  \\\n",
       "0        NaN        NaN        NaN        NaN        NaN        NaN   \n",
       "1        NaN        NaN        NaN        NaN        NaN        NaN   \n",
       "2        NaN        NaN        NaN        NaN        NaN        NaN   \n",
       "3        NaN        NaN        NaN        NaN        NaN        NaN   \n",
       "4        NaN        NaN        NaN        NaN        NaN        NaN   \n",
       "\n",
       "   74th_week  75th_week  76th_week  \n",
       "0        NaN        NaN        NaN  \n",
       "1        NaN        NaN        NaN  \n",
       "2        NaN        NaN        NaN  \n",
       "3        NaN        NaN        NaN  \n",
       "4        NaN        NaN        NaN  \n",
       "\n",
       "[5 rows x 82 columns]"
      ]
     },
     "execution_count": 18,
     "metadata": {},
     "output_type": "execute_result"
    }
   ],
   "source": [
    "billboards.head()"
   ]
  },
  {
   "cell_type": "code",
   "execution_count": 21,
   "metadata": {
    "collapsed": false
   },
   "outputs": [],
   "source": [
    "first_week = billboards['1st_week'].apply(float)"
   ]
  },
  {
   "cell_type": "code",
   "execution_count": 22,
   "metadata": {
    "collapsed": false
   },
   "outputs": [],
   "source": [
    "week_columns = list(billboards.columns[6:])\n",
    "clean_week_columns = [x for x in week_columns if str(x) != 'nan']"
   ]
  },
  {
   "cell_type": "code",
   "execution_count": 23,
   "metadata": {
    "collapsed": false
   },
   "outputs": [
    {
     "data": {
      "text/plain": [
       "242.42586750788644"
      ]
     },
     "execution_count": 23,
     "metadata": {},
     "output_type": "execute_result"
    }
   ],
   "source": [
    "#This helps prove my problem statement, showing that the mean is a rather small amount of time.\n",
    "time_mean = time.mean()\n",
    "time_mean"
   ]
  },
  {
   "cell_type": "code",
   "execution_count": 24,
   "metadata": {
    "collapsed": false
   },
   "outputs": [
    {
     "data": {
      "text/plain": [
       "42.40161762074423"
      ]
     },
     "execution_count": 24,
     "metadata": {},
     "output_type": "execute_result"
    }
   ],
   "source": [
    "time_std = time.std()\n",
    "time_std"
   ]
  },
  {
   "cell_type": "markdown",
   "metadata": {
    "focus": false,
    "id": "604ee5d7-10ed-4d14-9f86-16a6b240c00d"
   },
   "source": [
    "##### Using Pandas' built in `melt` function, pivot the weekly ranking data to be long rather than wide. As a result, you will have removed the 72 'week' columns and replace it with two: Week and Ranking. There will now be multiple entries for each song, one for each week on the Billboard rankings."
   ]
  },
  {
   "cell_type": "code",
   "execution_count": 30,
   "metadata": {
    "collapsed": false,
    "focus": false,
    "id": "bf0161ca-0fcb-4883-a216-93fd7ffa6456"
   },
   "outputs": [
    {
     "data": {
      "text/html": [
       "<div>\n",
       "<table border=\"1\" class=\"dataframe\">\n",
       "  <thead>\n",
       "    <tr style=\"text-align: right;\">\n",
       "      <th></th>\n",
       "      <th>artist</th>\n",
       "      <th>track</th>\n",
       "      <th>time</th>\n",
       "      <th>genre</th>\n",
       "      <th>date_entered</th>\n",
       "      <th>date_peaked</th>\n",
       "      <th>1st_week</th>\n",
       "      <th>week</th>\n",
       "      <th>rank</th>\n",
       "    </tr>\n",
       "  </thead>\n",
       "  <tbody>\n",
       "    <tr>\n",
       "      <th>166</th>\n",
       "      <td>Jackson, Alan</td>\n",
       "      <td>www.memory</td>\n",
       "      <td>2:36</td>\n",
       "      <td>Country</td>\n",
       "      <td>2000-11-04</td>\n",
       "      <td>2000-12-23</td>\n",
       "      <td>75</td>\n",
       "      <td>week</td>\n",
       "      <td>week</td>\n",
       "    </tr>\n",
       "    <tr>\n",
       "      <th>478</th>\n",
       "      <td>Jackson, Alan</td>\n",
       "      <td>www.memory</td>\n",
       "      <td>2:36</td>\n",
       "      <td>Country</td>\n",
       "      <td>2000-11-04</td>\n",
       "      <td>2000-12-23</td>\n",
       "      <td>75</td>\n",
       "      <td>week</td>\n",
       "      <td>week</td>\n",
       "    </tr>\n",
       "    <tr>\n",
       "      <th>785</th>\n",
       "      <td>Jackson, Alan</td>\n",
       "      <td>www.memory</td>\n",
       "      <td>2:36</td>\n",
       "      <td>Country</td>\n",
       "      <td>2000-11-04</td>\n",
       "      <td>2000-12-23</td>\n",
       "      <td>75</td>\n",
       "      <td>week</td>\n",
       "      <td>week</td>\n",
       "    </tr>\n",
       "    <tr>\n",
       "      <th>1085</th>\n",
       "      <td>Jackson, Alan</td>\n",
       "      <td>www.memory</td>\n",
       "      <td>2:36</td>\n",
       "      <td>Country</td>\n",
       "      <td>2000-11-04</td>\n",
       "      <td>2000-12-23</td>\n",
       "      <td>75</td>\n",
       "      <td>week</td>\n",
       "      <td>week</td>\n",
       "    </tr>\n",
       "    <tr>\n",
       "      <th>1376</th>\n",
       "      <td>Jackson, Alan</td>\n",
       "      <td>www.memory</td>\n",
       "      <td>2:36</td>\n",
       "      <td>Country</td>\n",
       "      <td>2000-11-04</td>\n",
       "      <td>2000-12-23</td>\n",
       "      <td>75</td>\n",
       "      <td>week</td>\n",
       "      <td>week</td>\n",
       "    </tr>\n",
       "    <tr>\n",
       "      <th>1656</th>\n",
       "      <td>Jackson, Alan</td>\n",
       "      <td>www.memory</td>\n",
       "      <td>2:36</td>\n",
       "      <td>Country</td>\n",
       "      <td>2000-11-04</td>\n",
       "      <td>2000-12-23</td>\n",
       "      <td>75</td>\n",
       "      <td>week</td>\n",
       "      <td>week</td>\n",
       "    </tr>\n",
       "    <tr>\n",
       "      <th>1923</th>\n",
       "      <td>Jackson, Alan</td>\n",
       "      <td>www.memory</td>\n",
       "      <td>2:36</td>\n",
       "      <td>Country</td>\n",
       "      <td>2000-11-04</td>\n",
       "      <td>2000-12-23</td>\n",
       "      <td>75</td>\n",
       "      <td>week</td>\n",
       "      <td>week</td>\n",
       "    </tr>\n",
       "    <tr>\n",
       "      <th>2182</th>\n",
       "      <td>Jackson, Alan</td>\n",
       "      <td>www.memory</td>\n",
       "      <td>2:36</td>\n",
       "      <td>Country</td>\n",
       "      <td>2000-11-04</td>\n",
       "      <td>2000-12-23</td>\n",
       "      <td>75</td>\n",
       "      <td>week</td>\n",
       "      <td>week</td>\n",
       "    </tr>\n",
       "    <tr>\n",
       "      <th>2434</th>\n",
       "      <td>Jackson, Alan</td>\n",
       "      <td>www.memory</td>\n",
       "      <td>2:36</td>\n",
       "      <td>Country</td>\n",
       "      <td>2000-11-04</td>\n",
       "      <td>2000-12-23</td>\n",
       "      <td>75</td>\n",
       "      <td>week</td>\n",
       "      <td>week</td>\n",
       "    </tr>\n",
       "    <tr>\n",
       "      <th>2679</th>\n",
       "      <td>Jackson, Alan</td>\n",
       "      <td>www.memory</td>\n",
       "      <td>2:36</td>\n",
       "      <td>Country</td>\n",
       "      <td>2000-11-04</td>\n",
       "      <td>2000-12-23</td>\n",
       "      <td>75</td>\n",
       "      <td>week</td>\n",
       "      <td>week</td>\n",
       "    </tr>\n",
       "    <tr>\n",
       "      <th>2911</th>\n",
       "      <td>Jackson, Alan</td>\n",
       "      <td>www.memory</td>\n",
       "      <td>2:36</td>\n",
       "      <td>Country</td>\n",
       "      <td>2000-11-04</td>\n",
       "      <td>2000-12-23</td>\n",
       "      <td>75</td>\n",
       "      <td>week</td>\n",
       "      <td>week</td>\n",
       "    </tr>\n",
       "    <tr>\n",
       "      <th>3131</th>\n",
       "      <td>Jackson, Alan</td>\n",
       "      <td>www.memory</td>\n",
       "      <td>2:36</td>\n",
       "      <td>Country</td>\n",
       "      <td>2000-11-04</td>\n",
       "      <td>2000-12-23</td>\n",
       "      <td>75</td>\n",
       "      <td>week</td>\n",
       "      <td>week</td>\n",
       "    </tr>\n",
       "    <tr>\n",
       "      <th>3339</th>\n",
       "      <td>Jackson, Alan</td>\n",
       "      <td>www.memory</td>\n",
       "      <td>2:36</td>\n",
       "      <td>Country</td>\n",
       "      <td>2000-11-04</td>\n",
       "      <td>2000-12-23</td>\n",
       "      <td>75</td>\n",
       "      <td>week</td>\n",
       "      <td>week</td>\n",
       "    </tr>\n",
       "    <tr>\n",
       "      <th>3542</th>\n",
       "      <td>Jackson, Alan</td>\n",
       "      <td>www.memory</td>\n",
       "      <td>2:36</td>\n",
       "      <td>Country</td>\n",
       "      <td>2000-11-04</td>\n",
       "      <td>2000-12-23</td>\n",
       "      <td>75</td>\n",
       "      <td>week</td>\n",
       "      <td>week</td>\n",
       "    </tr>\n",
       "    <tr>\n",
       "      <th>5156</th>\n",
       "      <td>Jackson, Alan</td>\n",
       "      <td>www.memory</td>\n",
       "      <td>2:36</td>\n",
       "      <td>Country</td>\n",
       "      <td>2000-11-04</td>\n",
       "      <td>2000-12-23</td>\n",
       "      <td>75</td>\n",
       "      <td>week</td>\n",
       "      <td>rank</td>\n",
       "    </tr>\n",
       "    <tr>\n",
       "      <th>5468</th>\n",
       "      <td>Jackson, Alan</td>\n",
       "      <td>www.memory</td>\n",
       "      <td>2:36</td>\n",
       "      <td>Country</td>\n",
       "      <td>2000-11-04</td>\n",
       "      <td>2000-12-23</td>\n",
       "      <td>75</td>\n",
       "      <td>week</td>\n",
       "      <td>rank</td>\n",
       "    </tr>\n",
       "    <tr>\n",
       "      <th>5775</th>\n",
       "      <td>Jackson, Alan</td>\n",
       "      <td>www.memory</td>\n",
       "      <td>2:36</td>\n",
       "      <td>Country</td>\n",
       "      <td>2000-11-04</td>\n",
       "      <td>2000-12-23</td>\n",
       "      <td>75</td>\n",
       "      <td>week</td>\n",
       "      <td>rank</td>\n",
       "    </tr>\n",
       "    <tr>\n",
       "      <th>6075</th>\n",
       "      <td>Jackson, Alan</td>\n",
       "      <td>www.memory</td>\n",
       "      <td>2:36</td>\n",
       "      <td>Country</td>\n",
       "      <td>2000-11-04</td>\n",
       "      <td>2000-12-23</td>\n",
       "      <td>75</td>\n",
       "      <td>week</td>\n",
       "      <td>rank</td>\n",
       "    </tr>\n",
       "    <tr>\n",
       "      <th>6366</th>\n",
       "      <td>Jackson, Alan</td>\n",
       "      <td>www.memory</td>\n",
       "      <td>2:36</td>\n",
       "      <td>Country</td>\n",
       "      <td>2000-11-04</td>\n",
       "      <td>2000-12-23</td>\n",
       "      <td>75</td>\n",
       "      <td>week</td>\n",
       "      <td>rank</td>\n",
       "    </tr>\n",
       "    <tr>\n",
       "      <th>6646</th>\n",
       "      <td>Jackson, Alan</td>\n",
       "      <td>www.memory</td>\n",
       "      <td>2:36</td>\n",
       "      <td>Country</td>\n",
       "      <td>2000-11-04</td>\n",
       "      <td>2000-12-23</td>\n",
       "      <td>75</td>\n",
       "      <td>week</td>\n",
       "      <td>rank</td>\n",
       "    </tr>\n",
       "    <tr>\n",
       "      <th>6913</th>\n",
       "      <td>Jackson, Alan</td>\n",
       "      <td>www.memory</td>\n",
       "      <td>2:36</td>\n",
       "      <td>Country</td>\n",
       "      <td>2000-11-04</td>\n",
       "      <td>2000-12-23</td>\n",
       "      <td>75</td>\n",
       "      <td>week</td>\n",
       "      <td>rank</td>\n",
       "    </tr>\n",
       "    <tr>\n",
       "      <th>7172</th>\n",
       "      <td>Jackson, Alan</td>\n",
       "      <td>www.memory</td>\n",
       "      <td>2:36</td>\n",
       "      <td>Country</td>\n",
       "      <td>2000-11-04</td>\n",
       "      <td>2000-12-23</td>\n",
       "      <td>75</td>\n",
       "      <td>week</td>\n",
       "      <td>rank</td>\n",
       "    </tr>\n",
       "    <tr>\n",
       "      <th>7424</th>\n",
       "      <td>Jackson, Alan</td>\n",
       "      <td>www.memory</td>\n",
       "      <td>2:36</td>\n",
       "      <td>Country</td>\n",
       "      <td>2000-11-04</td>\n",
       "      <td>2000-12-23</td>\n",
       "      <td>75</td>\n",
       "      <td>week</td>\n",
       "      <td>rank</td>\n",
       "    </tr>\n",
       "    <tr>\n",
       "      <th>7669</th>\n",
       "      <td>Jackson, Alan</td>\n",
       "      <td>www.memory</td>\n",
       "      <td>2:36</td>\n",
       "      <td>Country</td>\n",
       "      <td>2000-11-04</td>\n",
       "      <td>2000-12-23</td>\n",
       "      <td>75</td>\n",
       "      <td>week</td>\n",
       "      <td>rank</td>\n",
       "    </tr>\n",
       "    <tr>\n",
       "      <th>7901</th>\n",
       "      <td>Jackson, Alan</td>\n",
       "      <td>www.memory</td>\n",
       "      <td>2:36</td>\n",
       "      <td>Country</td>\n",
       "      <td>2000-11-04</td>\n",
       "      <td>2000-12-23</td>\n",
       "      <td>75</td>\n",
       "      <td>week</td>\n",
       "      <td>rank</td>\n",
       "    </tr>\n",
       "    <tr>\n",
       "      <th>8121</th>\n",
       "      <td>Jackson, Alan</td>\n",
       "      <td>www.memory</td>\n",
       "      <td>2:36</td>\n",
       "      <td>Country</td>\n",
       "      <td>2000-11-04</td>\n",
       "      <td>2000-12-23</td>\n",
       "      <td>75</td>\n",
       "      <td>week</td>\n",
       "      <td>rank</td>\n",
       "    </tr>\n",
       "    <tr>\n",
       "      <th>8329</th>\n",
       "      <td>Jackson, Alan</td>\n",
       "      <td>www.memory</td>\n",
       "      <td>2:36</td>\n",
       "      <td>Country</td>\n",
       "      <td>2000-11-04</td>\n",
       "      <td>2000-12-23</td>\n",
       "      <td>75</td>\n",
       "      <td>week</td>\n",
       "      <td>rank</td>\n",
       "    </tr>\n",
       "    <tr>\n",
       "      <th>8532</th>\n",
       "      <td>Jackson, Alan</td>\n",
       "      <td>www.memory</td>\n",
       "      <td>2:36</td>\n",
       "      <td>Country</td>\n",
       "      <td>2000-11-04</td>\n",
       "      <td>2000-12-23</td>\n",
       "      <td>75</td>\n",
       "      <td>week</td>\n",
       "      <td>rank</td>\n",
       "    </tr>\n",
       "    <tr>\n",
       "      <th>10146</th>\n",
       "      <td>Jackson, Alan</td>\n",
       "      <td>www.memory</td>\n",
       "      <td>2:36</td>\n",
       "      <td>Country</td>\n",
       "      <td>2000-11-04</td>\n",
       "      <td>2000-12-23</td>\n",
       "      <td>75</td>\n",
       "      <td>rank</td>\n",
       "      <td>2nd_week</td>\n",
       "    </tr>\n",
       "    <tr>\n",
       "      <th>10458</th>\n",
       "      <td>Jackson, Alan</td>\n",
       "      <td>www.memory</td>\n",
       "      <td>2:36</td>\n",
       "      <td>Country</td>\n",
       "      <td>2000-11-04</td>\n",
       "      <td>2000-12-23</td>\n",
       "      <td>75</td>\n",
       "      <td>rank</td>\n",
       "      <td>3rd_week</td>\n",
       "    </tr>\n",
       "    <tr>\n",
       "      <th>...</th>\n",
       "      <td>...</td>\n",
       "      <td>...</td>\n",
       "      <td>...</td>\n",
       "      <td>...</td>\n",
       "      <td>...</td>\n",
       "      <td>...</td>\n",
       "      <td>...</td>\n",
       "      <td>...</td>\n",
       "      <td>...</td>\n",
       "    </tr>\n",
       "    <tr>\n",
       "      <th>15717</th>\n",
       "      <td>Iglesias, Enrique</td>\n",
       "      <td>Rhythm Divine</td>\n",
       "      <td>7:35</td>\n",
       "      <td>Latin</td>\n",
       "      <td>1999-12-04</td>\n",
       "      <td>2000-01-22</td>\n",
       "      <td>90</td>\n",
       "      <td>rank</td>\n",
       "      <td>67</td>\n",
       "    </tr>\n",
       "    <tr>\n",
       "      <th>16017</th>\n",
       "      <td>Iglesias, Enrique</td>\n",
       "      <td>Rhythm Divine</td>\n",
       "      <td>7:35</td>\n",
       "      <td>Latin</td>\n",
       "      <td>1999-12-04</td>\n",
       "      <td>2000-01-22</td>\n",
       "      <td>90</td>\n",
       "      <td>rank</td>\n",
       "      <td>67</td>\n",
       "    </tr>\n",
       "    <tr>\n",
       "      <th>16308</th>\n",
       "      <td>Iglesias, Enrique</td>\n",
       "      <td>Rhythm Divine</td>\n",
       "      <td>7:35</td>\n",
       "      <td>Latin</td>\n",
       "      <td>1999-12-04</td>\n",
       "      <td>2000-01-22</td>\n",
       "      <td>90</td>\n",
       "      <td>rank</td>\n",
       "      <td>39</td>\n",
       "    </tr>\n",
       "    <tr>\n",
       "      <th>16588</th>\n",
       "      <td>Iglesias, Enrique</td>\n",
       "      <td>Rhythm Divine</td>\n",
       "      <td>7:35</td>\n",
       "      <td>Latin</td>\n",
       "      <td>1999-12-04</td>\n",
       "      <td>2000-01-22</td>\n",
       "      <td>90</td>\n",
       "      <td>rank</td>\n",
       "      <td>33</td>\n",
       "    </tr>\n",
       "    <tr>\n",
       "      <th>16855</th>\n",
       "      <td>Iglesias, Enrique</td>\n",
       "      <td>Rhythm Divine</td>\n",
       "      <td>7:35</td>\n",
       "      <td>Latin</td>\n",
       "      <td>1999-12-04</td>\n",
       "      <td>2000-01-22</td>\n",
       "      <td>90</td>\n",
       "      <td>rank</td>\n",
       "      <td>32</td>\n",
       "    </tr>\n",
       "    <tr>\n",
       "      <th>17115</th>\n",
       "      <td>Iglesias, Enrique</td>\n",
       "      <td>Rhythm Divine</td>\n",
       "      <td>7:35</td>\n",
       "      <td>Latin</td>\n",
       "      <td>1999-12-04</td>\n",
       "      <td>2000-01-22</td>\n",
       "      <td>90</td>\n",
       "      <td>rank</td>\n",
       "      <td>38</td>\n",
       "    </tr>\n",
       "    <tr>\n",
       "      <th>17367</th>\n",
       "      <td>Iglesias, Enrique</td>\n",
       "      <td>Rhythm Divine</td>\n",
       "      <td>7:35</td>\n",
       "      <td>Latin</td>\n",
       "      <td>1999-12-04</td>\n",
       "      <td>2000-01-22</td>\n",
       "      <td>90</td>\n",
       "      <td>rank</td>\n",
       "      <td>38</td>\n",
       "    </tr>\n",
       "    <tr>\n",
       "      <th>17611</th>\n",
       "      <td>Iglesias, Enrique</td>\n",
       "      <td>Rhythm Divine</td>\n",
       "      <td>7:35</td>\n",
       "      <td>Latin</td>\n",
       "      <td>1999-12-04</td>\n",
       "      <td>2000-01-22</td>\n",
       "      <td>90</td>\n",
       "      <td>rank</td>\n",
       "      <td>49</td>\n",
       "    </tr>\n",
       "    <tr>\n",
       "      <th>17844</th>\n",
       "      <td>Iglesias, Enrique</td>\n",
       "      <td>Rhythm Divine</td>\n",
       "      <td>7:35</td>\n",
       "      <td>Latin</td>\n",
       "      <td>1999-12-04</td>\n",
       "      <td>2000-01-22</td>\n",
       "      <td>90</td>\n",
       "      <td>rank</td>\n",
       "      <td>51</td>\n",
       "    </tr>\n",
       "    <tr>\n",
       "      <th>18065</th>\n",
       "      <td>Iglesias, Enrique</td>\n",
       "      <td>Rhythm Divine</td>\n",
       "      <td>7:35</td>\n",
       "      <td>Latin</td>\n",
       "      <td>1999-12-04</td>\n",
       "      <td>2000-01-22</td>\n",
       "      <td>90</td>\n",
       "      <td>rank</td>\n",
       "      <td>61</td>\n",
       "    </tr>\n",
       "    <tr>\n",
       "      <th>18274</th>\n",
       "      <td>Iglesias, Enrique</td>\n",
       "      <td>Rhythm Divine</td>\n",
       "      <td>7:35</td>\n",
       "      <td>Latin</td>\n",
       "      <td>1999-12-04</td>\n",
       "      <td>2000-01-22</td>\n",
       "      <td>90</td>\n",
       "      <td>rank</td>\n",
       "      <td>61</td>\n",
       "    </tr>\n",
       "    <tr>\n",
       "      <th>18477</th>\n",
       "      <td>Iglesias, Enrique</td>\n",
       "      <td>Rhythm Divine</td>\n",
       "      <td>7:35</td>\n",
       "      <td>Latin</td>\n",
       "      <td>1999-12-04</td>\n",
       "      <td>2000-01-22</td>\n",
       "      <td>90</td>\n",
       "      <td>rank</td>\n",
       "      <td>66</td>\n",
       "    </tr>\n",
       "    <tr>\n",
       "      <th>18672</th>\n",
       "      <td>Iglesias, Enrique</td>\n",
       "      <td>Rhythm Divine</td>\n",
       "      <td>7:35</td>\n",
       "      <td>Latin</td>\n",
       "      <td>1999-12-04</td>\n",
       "      <td>2000-01-22</td>\n",
       "      <td>90</td>\n",
       "      <td>rank</td>\n",
       "      <td>88</td>\n",
       "    </tr>\n",
       "    <tr>\n",
       "      <th>18853</th>\n",
       "      <td>Iglesias, Enrique</td>\n",
       "      <td>Rhythm Divine</td>\n",
       "      <td>7:35</td>\n",
       "      <td>Latin</td>\n",
       "      <td>1999-12-04</td>\n",
       "      <td>2000-01-22</td>\n",
       "      <td>90</td>\n",
       "      <td>rank</td>\n",
       "      <td>96</td>\n",
       "    </tr>\n",
       "    <tr>\n",
       "      <th>49</th>\n",
       "      <td>Kenny G</td>\n",
       "      <td>Auld Lang Syne (The</td>\n",
       "      <td>7:50</td>\n",
       "      <td>Jazz</td>\n",
       "      <td>1999-12-25</td>\n",
       "      <td>2000-01-08</td>\n",
       "      <td>89</td>\n",
       "      <td>week</td>\n",
       "      <td>week</td>\n",
       "    </tr>\n",
       "    <tr>\n",
       "      <th>361</th>\n",
       "      <td>Kenny G</td>\n",
       "      <td>Auld Lang Syne (The</td>\n",
       "      <td>7:50</td>\n",
       "      <td>Jazz</td>\n",
       "      <td>1999-12-25</td>\n",
       "      <td>2000-01-08</td>\n",
       "      <td>89</td>\n",
       "      <td>week</td>\n",
       "      <td>week</td>\n",
       "    </tr>\n",
       "    <tr>\n",
       "      <th>668</th>\n",
       "      <td>Kenny G</td>\n",
       "      <td>Auld Lang Syne (The</td>\n",
       "      <td>7:50</td>\n",
       "      <td>Jazz</td>\n",
       "      <td>1999-12-25</td>\n",
       "      <td>2000-01-08</td>\n",
       "      <td>89</td>\n",
       "      <td>week</td>\n",
       "      <td>week</td>\n",
       "    </tr>\n",
       "    <tr>\n",
       "      <th>968</th>\n",
       "      <td>Kenny G</td>\n",
       "      <td>Auld Lang Syne (The</td>\n",
       "      <td>7:50</td>\n",
       "      <td>Jazz</td>\n",
       "      <td>1999-12-25</td>\n",
       "      <td>2000-01-08</td>\n",
       "      <td>89</td>\n",
       "      <td>week</td>\n",
       "      <td>week</td>\n",
       "    </tr>\n",
       "    <tr>\n",
       "      <th>5039</th>\n",
       "      <td>Kenny G</td>\n",
       "      <td>Auld Lang Syne (The</td>\n",
       "      <td>7:50</td>\n",
       "      <td>Jazz</td>\n",
       "      <td>1999-12-25</td>\n",
       "      <td>2000-01-08</td>\n",
       "      <td>89</td>\n",
       "      <td>week</td>\n",
       "      <td>rank</td>\n",
       "    </tr>\n",
       "    <tr>\n",
       "      <th>5351</th>\n",
       "      <td>Kenny G</td>\n",
       "      <td>Auld Lang Syne (The</td>\n",
       "      <td>7:50</td>\n",
       "      <td>Jazz</td>\n",
       "      <td>1999-12-25</td>\n",
       "      <td>2000-01-08</td>\n",
       "      <td>89</td>\n",
       "      <td>week</td>\n",
       "      <td>rank</td>\n",
       "    </tr>\n",
       "    <tr>\n",
       "      <th>5658</th>\n",
       "      <td>Kenny G</td>\n",
       "      <td>Auld Lang Syne (The</td>\n",
       "      <td>7:50</td>\n",
       "      <td>Jazz</td>\n",
       "      <td>1999-12-25</td>\n",
       "      <td>2000-01-08</td>\n",
       "      <td>89</td>\n",
       "      <td>week</td>\n",
       "      <td>rank</td>\n",
       "    </tr>\n",
       "    <tr>\n",
       "      <th>5958</th>\n",
       "      <td>Kenny G</td>\n",
       "      <td>Auld Lang Syne (The</td>\n",
       "      <td>7:50</td>\n",
       "      <td>Jazz</td>\n",
       "      <td>1999-12-25</td>\n",
       "      <td>2000-01-08</td>\n",
       "      <td>89</td>\n",
       "      <td>week</td>\n",
       "      <td>rank</td>\n",
       "    </tr>\n",
       "    <tr>\n",
       "      <th>10029</th>\n",
       "      <td>Kenny G</td>\n",
       "      <td>Auld Lang Syne (The</td>\n",
       "      <td>7:50</td>\n",
       "      <td>Jazz</td>\n",
       "      <td>1999-12-25</td>\n",
       "      <td>2000-01-08</td>\n",
       "      <td>89</td>\n",
       "      <td>rank</td>\n",
       "      <td>2nd_week</td>\n",
       "    </tr>\n",
       "    <tr>\n",
       "      <th>10341</th>\n",
       "      <td>Kenny G</td>\n",
       "      <td>Auld Lang Syne (The</td>\n",
       "      <td>7:50</td>\n",
       "      <td>Jazz</td>\n",
       "      <td>1999-12-25</td>\n",
       "      <td>2000-01-08</td>\n",
       "      <td>89</td>\n",
       "      <td>rank</td>\n",
       "      <td>3rd_week</td>\n",
       "    </tr>\n",
       "    <tr>\n",
       "      <th>10648</th>\n",
       "      <td>Kenny G</td>\n",
       "      <td>Auld Lang Syne (The</td>\n",
       "      <td>7:50</td>\n",
       "      <td>Jazz</td>\n",
       "      <td>1999-12-25</td>\n",
       "      <td>2000-01-08</td>\n",
       "      <td>89</td>\n",
       "      <td>rank</td>\n",
       "      <td>4th_week</td>\n",
       "    </tr>\n",
       "    <tr>\n",
       "      <th>10948</th>\n",
       "      <td>Kenny G</td>\n",
       "      <td>Auld Lang Syne (The</td>\n",
       "      <td>7:50</td>\n",
       "      <td>Jazz</td>\n",
       "      <td>1999-12-25</td>\n",
       "      <td>2000-01-08</td>\n",
       "      <td>89</td>\n",
       "      <td>rank</td>\n",
       "      <td>5th_week</td>\n",
       "    </tr>\n",
       "    <tr>\n",
       "      <th>15019</th>\n",
       "      <td>Kenny G</td>\n",
       "      <td>Auld Lang Syne (The</td>\n",
       "      <td>7:50</td>\n",
       "      <td>Jazz</td>\n",
       "      <td>1999-12-25</td>\n",
       "      <td>2000-01-08</td>\n",
       "      <td>89</td>\n",
       "      <td>rank</td>\n",
       "      <td>89</td>\n",
       "    </tr>\n",
       "    <tr>\n",
       "      <th>15331</th>\n",
       "      <td>Kenny G</td>\n",
       "      <td>Auld Lang Syne (The</td>\n",
       "      <td>7:50</td>\n",
       "      <td>Jazz</td>\n",
       "      <td>1999-12-25</td>\n",
       "      <td>2000-01-08</td>\n",
       "      <td>89</td>\n",
       "      <td>rank</td>\n",
       "      <td>7</td>\n",
       "    </tr>\n",
       "    <tr>\n",
       "      <th>15638</th>\n",
       "      <td>Kenny G</td>\n",
       "      <td>Auld Lang Syne (The</td>\n",
       "      <td>7:50</td>\n",
       "      <td>Jazz</td>\n",
       "      <td>1999-12-25</td>\n",
       "      <td>2000-01-08</td>\n",
       "      <td>89</td>\n",
       "      <td>rank</td>\n",
       "      <td>8</td>\n",
       "    </tr>\n",
       "    <tr>\n",
       "      <th>15938</th>\n",
       "      <td>Kenny G</td>\n",
       "      <td>Auld Lang Syne (The</td>\n",
       "      <td>7:50</td>\n",
       "      <td>Jazz</td>\n",
       "      <td>1999-12-25</td>\n",
       "      <td>2000-01-08</td>\n",
       "      <td>89</td>\n",
       "      <td>rank</td>\n",
       "      <td>66</td>\n",
       "    </tr>\n",
       "  </tbody>\n",
       "</table>\n",
       "<p>19960 rows × 9 columns</p>\n",
       "</div>"
      ],
      "text/plain": [
       "                  artist                 track  time    genre date_entered  \\\n",
       "166        Jackson, Alan            www.memory  2:36  Country   2000-11-04   \n",
       "478        Jackson, Alan            www.memory  2:36  Country   2000-11-04   \n",
       "785        Jackson, Alan            www.memory  2:36  Country   2000-11-04   \n",
       "1085       Jackson, Alan            www.memory  2:36  Country   2000-11-04   \n",
       "1376       Jackson, Alan            www.memory  2:36  Country   2000-11-04   \n",
       "1656       Jackson, Alan            www.memory  2:36  Country   2000-11-04   \n",
       "1923       Jackson, Alan            www.memory  2:36  Country   2000-11-04   \n",
       "2182       Jackson, Alan            www.memory  2:36  Country   2000-11-04   \n",
       "2434       Jackson, Alan            www.memory  2:36  Country   2000-11-04   \n",
       "2679       Jackson, Alan            www.memory  2:36  Country   2000-11-04   \n",
       "2911       Jackson, Alan            www.memory  2:36  Country   2000-11-04   \n",
       "3131       Jackson, Alan            www.memory  2:36  Country   2000-11-04   \n",
       "3339       Jackson, Alan            www.memory  2:36  Country   2000-11-04   \n",
       "3542       Jackson, Alan            www.memory  2:36  Country   2000-11-04   \n",
       "5156       Jackson, Alan            www.memory  2:36  Country   2000-11-04   \n",
       "5468       Jackson, Alan            www.memory  2:36  Country   2000-11-04   \n",
       "5775       Jackson, Alan            www.memory  2:36  Country   2000-11-04   \n",
       "6075       Jackson, Alan            www.memory  2:36  Country   2000-11-04   \n",
       "6366       Jackson, Alan            www.memory  2:36  Country   2000-11-04   \n",
       "6646       Jackson, Alan            www.memory  2:36  Country   2000-11-04   \n",
       "6913       Jackson, Alan            www.memory  2:36  Country   2000-11-04   \n",
       "7172       Jackson, Alan            www.memory  2:36  Country   2000-11-04   \n",
       "7424       Jackson, Alan            www.memory  2:36  Country   2000-11-04   \n",
       "7669       Jackson, Alan            www.memory  2:36  Country   2000-11-04   \n",
       "7901       Jackson, Alan            www.memory  2:36  Country   2000-11-04   \n",
       "8121       Jackson, Alan            www.memory  2:36  Country   2000-11-04   \n",
       "8329       Jackson, Alan            www.memory  2:36  Country   2000-11-04   \n",
       "8532       Jackson, Alan            www.memory  2:36  Country   2000-11-04   \n",
       "10146      Jackson, Alan            www.memory  2:36  Country   2000-11-04   \n",
       "10458      Jackson, Alan            www.memory  2:36  Country   2000-11-04   \n",
       "...                  ...                   ...   ...      ...          ...   \n",
       "15717  Iglesias, Enrique         Rhythm Divine  7:35    Latin   1999-12-04   \n",
       "16017  Iglesias, Enrique         Rhythm Divine  7:35    Latin   1999-12-04   \n",
       "16308  Iglesias, Enrique         Rhythm Divine  7:35    Latin   1999-12-04   \n",
       "16588  Iglesias, Enrique         Rhythm Divine  7:35    Latin   1999-12-04   \n",
       "16855  Iglesias, Enrique         Rhythm Divine  7:35    Latin   1999-12-04   \n",
       "17115  Iglesias, Enrique         Rhythm Divine  7:35    Latin   1999-12-04   \n",
       "17367  Iglesias, Enrique         Rhythm Divine  7:35    Latin   1999-12-04   \n",
       "17611  Iglesias, Enrique         Rhythm Divine  7:35    Latin   1999-12-04   \n",
       "17844  Iglesias, Enrique         Rhythm Divine  7:35    Latin   1999-12-04   \n",
       "18065  Iglesias, Enrique         Rhythm Divine  7:35    Latin   1999-12-04   \n",
       "18274  Iglesias, Enrique         Rhythm Divine  7:35    Latin   1999-12-04   \n",
       "18477  Iglesias, Enrique         Rhythm Divine  7:35    Latin   1999-12-04   \n",
       "18672  Iglesias, Enrique         Rhythm Divine  7:35    Latin   1999-12-04   \n",
       "18853  Iglesias, Enrique         Rhythm Divine  7:35    Latin   1999-12-04   \n",
       "49               Kenny G  Auld Lang Syne (The   7:50     Jazz   1999-12-25   \n",
       "361              Kenny G  Auld Lang Syne (The   7:50     Jazz   1999-12-25   \n",
       "668              Kenny G  Auld Lang Syne (The   7:50     Jazz   1999-12-25   \n",
       "968              Kenny G  Auld Lang Syne (The   7:50     Jazz   1999-12-25   \n",
       "5039             Kenny G  Auld Lang Syne (The   7:50     Jazz   1999-12-25   \n",
       "5351             Kenny G  Auld Lang Syne (The   7:50     Jazz   1999-12-25   \n",
       "5658             Kenny G  Auld Lang Syne (The   7:50     Jazz   1999-12-25   \n",
       "5958             Kenny G  Auld Lang Syne (The   7:50     Jazz   1999-12-25   \n",
       "10029            Kenny G  Auld Lang Syne (The   7:50     Jazz   1999-12-25   \n",
       "10341            Kenny G  Auld Lang Syne (The   7:50     Jazz   1999-12-25   \n",
       "10648            Kenny G  Auld Lang Syne (The   7:50     Jazz   1999-12-25   \n",
       "10948            Kenny G  Auld Lang Syne (The   7:50     Jazz   1999-12-25   \n",
       "15019            Kenny G  Auld Lang Syne (The   7:50     Jazz   1999-12-25   \n",
       "15331            Kenny G  Auld Lang Syne (The   7:50     Jazz   1999-12-25   \n",
       "15638            Kenny G  Auld Lang Syne (The   7:50     Jazz   1999-12-25   \n",
       "15938            Kenny G  Auld Lang Syne (The   7:50     Jazz   1999-12-25   \n",
       "\n",
       "      date_peaked  1st_week  week      rank  \n",
       "166    2000-12-23        75  week      week  \n",
       "478    2000-12-23        75  week      week  \n",
       "785    2000-12-23        75  week      week  \n",
       "1085   2000-12-23        75  week      week  \n",
       "1376   2000-12-23        75  week      week  \n",
       "1656   2000-12-23        75  week      week  \n",
       "1923   2000-12-23        75  week      week  \n",
       "2182   2000-12-23        75  week      week  \n",
       "2434   2000-12-23        75  week      week  \n",
       "2679   2000-12-23        75  week      week  \n",
       "2911   2000-12-23        75  week      week  \n",
       "3131   2000-12-23        75  week      week  \n",
       "3339   2000-12-23        75  week      week  \n",
       "3542   2000-12-23        75  week      week  \n",
       "5156   2000-12-23        75  week      rank  \n",
       "5468   2000-12-23        75  week      rank  \n",
       "5775   2000-12-23        75  week      rank  \n",
       "6075   2000-12-23        75  week      rank  \n",
       "6366   2000-12-23        75  week      rank  \n",
       "6646   2000-12-23        75  week      rank  \n",
       "6913   2000-12-23        75  week      rank  \n",
       "7172   2000-12-23        75  week      rank  \n",
       "7424   2000-12-23        75  week      rank  \n",
       "7669   2000-12-23        75  week      rank  \n",
       "7901   2000-12-23        75  week      rank  \n",
       "8121   2000-12-23        75  week      rank  \n",
       "8329   2000-12-23        75  week      rank  \n",
       "8532   2000-12-23        75  week      rank  \n",
       "10146  2000-12-23        75  rank  2nd_week  \n",
       "10458  2000-12-23        75  rank  3rd_week  \n",
       "...           ...       ...   ...       ...  \n",
       "15717  2000-01-22        90  rank        67  \n",
       "16017  2000-01-22        90  rank        67  \n",
       "16308  2000-01-22        90  rank        39  \n",
       "16588  2000-01-22        90  rank        33  \n",
       "16855  2000-01-22        90  rank        32  \n",
       "17115  2000-01-22        90  rank        38  \n",
       "17367  2000-01-22        90  rank        38  \n",
       "17611  2000-01-22        90  rank        49  \n",
       "17844  2000-01-22        90  rank        51  \n",
       "18065  2000-01-22        90  rank        61  \n",
       "18274  2000-01-22        90  rank        61  \n",
       "18477  2000-01-22        90  rank        66  \n",
       "18672  2000-01-22        90  rank        88  \n",
       "18853  2000-01-22        90  rank        96  \n",
       "49     2000-01-08        89  week      week  \n",
       "361    2000-01-08        89  week      week  \n",
       "668    2000-01-08        89  week      week  \n",
       "968    2000-01-08        89  week      week  \n",
       "5039   2000-01-08        89  week      rank  \n",
       "5351   2000-01-08        89  week      rank  \n",
       "5658   2000-01-08        89  week      rank  \n",
       "5958   2000-01-08        89  week      rank  \n",
       "10029  2000-01-08        89  rank  2nd_week  \n",
       "10341  2000-01-08        89  rank  3rd_week  \n",
       "10648  2000-01-08        89  rank  4th_week  \n",
       "10948  2000-01-08        89  rank  5th_week  \n",
       "15019  2000-01-08        89  rank        89  \n",
       "15331  2000-01-08        89  rank         7  \n",
       "15638  2000-01-08        89  rank         8  \n",
       "15938  2000-01-08        89  rank        66  \n",
       "\n",
       "[19960 rows x 9 columns]"
      ]
     },
     "execution_count": 30,
     "metadata": {},
     "output_type": "execute_result"
    }
   ],
   "source": [
    "billboards.columns[7:]\n",
    "billboards = pd.melt(billboards, id_vars=billboards.columns[:7].values, var_name='week', value_name='rank').dropna(subset=['rank'])\n",
    "billboards.sort_values(by=['time', 'artist','track'])"
   ]
  },
  {
   "cell_type": "code",
   "execution_count": 31,
   "metadata": {
    "collapsed": false
   },
   "outputs": [
    {
     "data": {
      "text/plain": [
       "\"\\n#I wanted to create a melted data frame that included time for my problem statement exploration.\\nweek_melt_time = pd.melt(billboards, id_vars=['artist', 'time'], value_vars=clean_week_columns, var_name='Week')\\nweek_melt_time\\n\""
      ]
     },
     "execution_count": 31,
     "metadata": {},
     "output_type": "execute_result"
    }
   ],
   "source": [
    "\"\"\"\n",
    "#I wanted to create a melted data frame that included time for my problem statement exploration.\n",
    "week_melt_time = pd.melt(billboards, id_vars=['artist', 'time'], value_vars=clean_week_columns, var_name='Week')\n",
    "week_melt_time\n",
    "\"\"\""
   ]
  },
  {
   "cell_type": "markdown",
   "metadata": {
    "focus": false,
    "id": "2023c5a8-1f4e-4d83-9a52-c41a5090af74"
   },
   "source": [
    "## Step 3: Visualize your data."
   ]
  },
  {
   "cell_type": "markdown",
   "metadata": {
    "focus": false,
    "id": "dfaca026-8eca-4119-b4c1-e43433790c8e"
   },
   "source": [
    "##### Using a plotting utility of your choice (Tableau or python modules or both), create visualizations that will provide context to your data. There is no minimum or maximum number of graphs you should generate, but there should be a clear and consistent story being told. Give insights to the distribution, statistics, and relationships of the data. "
   ]
  },
  {
   "cell_type": "markdown",
   "metadata": {},
   "source": [
    "This chart shows that a good amount of the tracks on the top 100 are low to medium in length."
   ]
  },
  {
   "cell_type": "code",
   "execution_count": 36,
   "metadata": {
    "collapsed": false
   },
   "outputs": [
    {
     "data": {
      "text/plain": [
       "<matplotlib.axes._subplots.AxesSubplot at 0x117a45f50>"
      ]
     },
     "execution_count": 36,
     "metadata": {},
     "output_type": "execute_result"
    },
    {
     "data": {
      "image/png": "[encoded data removed]",
      "text/plain": [
       "<matplotlib.figure.Figure at 0x117a5fe90>"
      ]
     },
     "metadata": {},
     "output_type": "display_data"
    }
   ],
   "source": [
    "time.plot(kind='hist')"
   ]
  },
  {
   "cell_type": "markdown",
   "metadata": {
    "focus": false,
    "id": "8401c631-245b-4560-8971-25cb2406c2ab"
   },
   "source": [
    "## Step 4: Create a Problem Statement.\n",
    "\n",
    "##### Having explored the data, come up with a problem statement for this data set. You can feel free to introduce data from any other source to support your problem statement, just be sure to provide a link to the origin of the data. Once again- be creative!"
   ]
  },
  {
   "cell_type": "markdown",
   "metadata": {
    "collapsed": true,
    "focus": false,
    "id": "e1b81214-9b26-4735-8c1b-4482e948b355"
   },
   "source": [
    "Does the shorter the length of a track, increase it's probability to be on the Billboard top 100 in the year 2000?"
   ]
  },
  {
   "cell_type": "markdown",
   "metadata": {
    "collapsed": false,
    "focus": false,
    "id": "a0ff30a0-48be-4851-9ec3-4ce8ece08a67"
   },
   "source": [
    "## Step 5: Brainstorm your Approach.\n",
    "##### In bullet-list form, provide a proposed approach for evaluating your problem statement. This can be somewhat high-level, but start to think about ways you can massage the data for maximum efficacy. "
   ]
  },
  {
   "cell_type": "markdown",
   "metadata": {
    "collapsed": true,
    "focus": false,
    "id": "9d772c7b-61e0-4bc4-bb1a-f3d43ba54862"
   },
   "source": [
    "- Compare the tracks that are on the Billboard rankings the most with the length of the tracks.\n",
    "- Find the mean and standard deviation of the track lengths for the tracks on the Billboard list for 2000.\n",
    "- Attempt to find the correlation between the time of a track and it's ranking on the billboard chart. "
   ]
  }
 ],
 "metadata": {
  "kernelspec": {
   "display_name": "Python 2",
   "language": "python",
   "name": "python2"
  },
  "language_info": {
   "codemirror_mode": {
    "name": "ipython",
    "version": 2
   },
   "file_extension": ".py",
   "mimetype": "text/x-python",
   "name": "python",
   "nbconvert_exporter": "python",
   "pygments_lexer": "ipython2",
   "version": "2.7.11"
  }
 },
 "nbformat": 4,
 "nbformat_minor": 0
}
