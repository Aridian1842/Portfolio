{
 "cells": [
  {
   "cell_type": "markdown",
   "metadata": {
    "focus": true,
    "id": "d21ca30e-294e-4146-8e4f-a5c331f7a36e"
   },
   "source": [
    "### Project 7 \n",
    "\n",
    "In this project, you will implement the the clustering techniques that you've learned this week. \n",
    "\n",
    "#### Step 1: Load the python libraries that you will need for this project "
   ]
  },
  {
   "cell_type": "code",
   "execution_count": 1,
   "metadata": {
    "collapsed": true,
    "focus": false,
    "id": "78c3bb3f-f513-437b-94f8-bc363b6e7a8b"
   },
   "outputs": [],
   "source": [
    "import pandas as pd \n",
    "import matplotlib as plt\n",
    "import numpy as np\n",
    "import sklearn as sk \n",
    "import psycopg2 as psy\n",
    "import seaborn as sns\n",
    "from scipy.stats import pearsonr, normaltest\n",
    "from sklearn import preprocessing\n",
    "from sklearn.decomposition import PCA\n",
    "from sklearn import metrics\n",
    "%matplotlib inline\n",
    "sns.set_style('whitegrid')"
   ]
  },
  {
   "cell_type": "markdown",
   "metadata": {
    "focus": false,
    "id": "2c6f52ae-e694-463c-87d8-1974726c2e7a"
   },
   "source": [
    "#### Step 2: Examine your data "
   ]
  },
  {
   "cell_type": "code",
   "execution_count": 2,
   "metadata": {
    "collapsed": false,
    "focus": false,
    "id": "0f64db5a-e176-46a1-a10b-8c7db09437bc"
   },
   "outputs": [
    {
     "name": "stdout",
     "output_type": "stream",
     "text": [
      "  Airport    Year  Departure Cancellations  Arrival Cancellations  \\\n",
      "0     ABQ  2004.0                    242.0                  235.0   \n",
      "1     ABQ  2005.0                    221.0                  190.0   \n",
      "2     ABQ  2006.0                    392.0                  329.0   \n",
      "3     ABQ  2007.0                    366.0                  304.0   \n",
      "4     ABQ  2008.0                    333.0                  300.0   \n",
      "\n",
      "   Departure Diversions  Arrival Diversions  \n",
      "0                  71.0                46.0  \n",
      "1                  61.0                33.0  \n",
      "2                  71.0               124.0  \n",
      "3                 107.0                45.0  \n",
      "4                  79.0                42.0  \n"
     ]
    }
   ],
   "source": [
    "df_raw = pd.read_csv(\"../assets/airport_cancellations.csv\")\n",
    "df = df_raw.dropna() \n",
    "print df.head()"
   ]
  },
  {
   "cell_type": "code",
   "execution_count": 3,
   "metadata": {
    "collapsed": false
   },
   "outputs": [
    {
     "name": "stdout",
     "output_type": "stream",
     "text": [
      "  airport  year  departures for metric computation  \\\n",
      "0     ABQ  2004                              53971   \n",
      "1     ABQ  2005                              51829   \n",
      "2     ABQ  2006                              49682   \n",
      "3     ABQ  2007                              53255   \n",
      "4     ABQ  2008                              49589   \n",
      "\n",
      "   arrivals for metric computation  percent on-time gate departures  \\\n",
      "0                            53818                           0.8030   \n",
      "1                            51877                           0.8140   \n",
      "2                            51199                           0.7983   \n",
      "3                            53611                           0.8005   \n",
      "4                            49512                           0.8103   \n",
      "\n",
      "   percent on-time airport departures  percent on-time gate arrivals  \\\n",
      "0                              0.7809                         0.7921   \n",
      "1                              0.7922                         0.8001   \n",
      "2                              0.7756                         0.7746   \n",
      "3                              0.7704                         0.7647   \n",
      "4                              0.7844                         0.7875   \n",
      "\n",
      "   average_gate_departure_delay  average_taxi_out_time  \\\n",
      "0                         10.38                   9.89   \n",
      "1                          9.60                   9.79   \n",
      "2                         10.84                   9.89   \n",
      "3                         11.29                  10.34   \n",
      "4                         10.79                  10.41   \n",
      "\n",
      "   average taxi out delay  average airport departure delay  \\\n",
      "0                    2.43                            12.10   \n",
      "1                    2.29                            11.20   \n",
      "2                    2.16                            12.33   \n",
      "3                    2.40                            12.95   \n",
      "4                    2.41                            12.32   \n",
      "\n",
      "   average airborne delay  average taxi in delay  average block delay  \\\n",
      "0                    2.46                   0.83                 2.55   \n",
      "1                    2.26                   0.89                 2.34   \n",
      "2                    2.12                   0.84                 2.66   \n",
      "3                    2.19                   1.29                 3.06   \n",
      "4                    1.82                   1.03                 2.79   \n",
      "\n",
      "   average gate arrival delay  \n",
      "0                       10.87  \n",
      "1                       10.24  \n",
      "2                       11.82  \n",
      "3                       12.71  \n",
      "4                       11.48  \n"
     ]
    }
   ],
   "source": [
    "df2_raw = pd.read_csv(\"../assets/Airport_operations.csv\")\n",
    "df2 = df2_raw.dropna() \n",
    "print df2.head()"
   ]
  },
  {
   "cell_type": "markdown",
   "metadata": {
    "focus": false,
    "id": "3690c265-ac0f-484d-ac79-f42da341e4cd"
   },
   "source": [
    "### Intro: Write a problem statement / aim for this project"
   ]
  },
  {
   "cell_type": "markdown",
   "metadata": {
    "focus": false,
    "id": "58297e17-aa21-4d1d-a46b-a36a4b92aac7"
   },
   "source": [
    "I have been hired by the FAA as a consultant to analyze the operations of major airports around the country. The FAA wants to cut down on delays nationwide, and the most important part of this task is understanding the characteristics and groupings of airports based on a dataset of departure and operational delays.\n",
    "\n",
    "The datasets provided include a dataset detailing the arrival and departure delays/diversions by airport, a dataset that provides metrics related to arrivals and departures for each airport, and a dataset that details names and characteristics for each airport code.\n",
    "\n",
    "Using the provided datasets, I intend to understand the distribution, characteristics, and components of individual airports operations that are leading to these delays.  I will conduct PCA analysis to reveal the core components leading to delays in the airports."
   ]
  },
  {
   "cell_type": "markdown",
   "metadata": {
    "focus": false,
    "id": "a3cccc0e-8531-4dfe-bb23-8c632aa7404e"
   },
   "source": [
    "### Part 1: Create a PostgreSQL database "
   ]
  },
  {
   "cell_type": "markdown",
   "metadata": {
    "focus": false,
    "id": "b51ca850-aa85-43e1-b7cd-627af62f5fe8"
   },
   "source": [
    "#### 1. Let's create a database where we can house our airport data"
   ]
  },
  {
   "cell_type": "code",
   "execution_count": 4,
   "metadata": {
    "collapsed": false,
    "focus": false,
    "id": "5d1b5e84-b49a-4bad-b961-abcb8e6f2751"
   },
   "outputs": [],
   "source": [
    "import psycopg2  \n",
    "from sqlalchemy import create_engine"
   ]
  },
  {
   "cell_type": "markdown",
   "metadata": {},
   "source": [
    "We start by creating access to a local database utilizing postgres"
   ]
  },
  {
   "cell_type": "code",
   "execution_count": 5,
   "metadata": {
    "collapsed": false
   },
   "outputs": [
    {
     "name": "stdout",
     "output_type": "stream",
     "text": [
      "········\n"
     ]
    }
   ],
   "source": [
    "from sqlalchemy import create_engine\n",
    "import getpass\n",
    "\n",
    "p = getpass.getpass() #makes it so we don't have the password in the code, not good for script building"
   ]
  },
  {
   "cell_type": "code",
   "execution_count": 6,
   "metadata": {
    "collapsed": true
   },
   "outputs": [],
   "source": [
    "engine = create_engine('postgresql://Lappy9000:%s@localhost:5432/airport_db' % p)"
   ]
  },
  {
   "cell_type": "markdown",
   "metadata": {
    "focus": false,
    "id": "b40e2d2b-5535-42c6-94d6-083b3e428b14"
   },
   "source": [
    "Load our csv files into tables"
   ]
  },
  {
   "cell_type": "code",
   "execution_count": 7,
   "metadata": {
    "collapsed": false,
    "focus": false,
    "id": "5cb41423-7467-4005-964c-9b423c3af977"
   },
   "outputs": [],
   "source": [
    "df.to_sql('cancellations', con=engine, if_exists='replace')"
   ]
  },
  {
   "cell_type": "code",
   "execution_count": 8,
   "metadata": {
    "collapsed": false
   },
   "outputs": [],
   "source": [
    "df2.to_sql('operations', con=engine, if_exists='replace')"
   ]
  },
  {
   "cell_type": "code",
   "execution_count": 9,
   "metadata": {
    "collapsed": false
   },
   "outputs": [
    {
     "name": "stdout",
     "output_type": "stream",
     "text": [
      "Index([u'Airport', u'Year', u'Departure Cancellations',\n",
      "       u'Arrival Cancellations', u'Departure Diversions',\n",
      "       u'Arrival Diversions'],\n",
      "      dtype='object')\n",
      "Index([u'airport', u'year', u'departures for metric computation',\n",
      "       u'arrivals for metric computation', u'percent on-time gate departures',\n",
      "       u'percent on-time airport departures', u'percent on-time gate arrivals',\n",
      "       u'average_gate_departure_delay', u'average_taxi_out_time',\n",
      "       u'average taxi out delay', u'average airport departure delay',\n",
      "       u'average airborne delay', u'average taxi in delay',\n",
      "       u'average block delay', u'average gate arrival delay'],\n",
      "      dtype='object')\n"
     ]
    }
   ],
   "source": [
    "print df.columns\n",
    "print df2.columns"
   ]
  },
  {
   "cell_type": "markdown",
   "metadata": {
    "focus": false,
    "id": "a0ca5023-4860-4d86-ae40-218d120ece17"
   },
   "source": [
    "Join airport_cancellations.csv and operations.csv into one table"
   ]
  },
  {
   "cell_type": "code",
   "execution_count": 10,
   "metadata": {
    "collapsed": false,
    "focus": false,
    "id": "0192b97c-b99f-498b-b64b-f857451b5218"
   },
   "outputs": [
    {
     "data": {
      "text/html": [
       "<div>\n",
       "<table border=\"1\" class=\"dataframe\">\n",
       "  <thead>\n",
       "    <tr style=\"text-align: right;\">\n",
       "      <th></th>\n",
       "      <th>index</th>\n",
       "      <th>airport</th>\n",
       "      <th>year</th>\n",
       "      <th>departures for metric computation</th>\n",
       "      <th>arrivals for metric computation</th>\n",
       "      <th>percent on-time gate departures</th>\n",
       "      <th>percent on-time airport departures</th>\n",
       "      <th>percent on-time gate arrivals</th>\n",
       "      <th>average_gate_departure_delay</th>\n",
       "      <th>average_taxi_out_time</th>\n",
       "      <th>...</th>\n",
       "      <th>average taxi in delay</th>\n",
       "      <th>average block delay</th>\n",
       "      <th>average gate arrival delay</th>\n",
       "      <th>index</th>\n",
       "      <th>Airport</th>\n",
       "      <th>Year</th>\n",
       "      <th>Departure Cancellations</th>\n",
       "      <th>Arrival Cancellations</th>\n",
       "      <th>Departure Diversions</th>\n",
       "      <th>Arrival Diversions</th>\n",
       "    </tr>\n",
       "  </thead>\n",
       "  <tbody>\n",
       "    <tr>\n",
       "      <th>0</th>\n",
       "      <td>0</td>\n",
       "      <td>ABQ</td>\n",
       "      <td>2004</td>\n",
       "      <td>53971</td>\n",
       "      <td>53818</td>\n",
       "      <td>0.8030</td>\n",
       "      <td>0.7809</td>\n",
       "      <td>0.7921</td>\n",
       "      <td>10.38</td>\n",
       "      <td>9.89</td>\n",
       "      <td>...</td>\n",
       "      <td>0.83</td>\n",
       "      <td>2.55</td>\n",
       "      <td>10.87</td>\n",
       "      <td>0</td>\n",
       "      <td>ABQ</td>\n",
       "      <td>2004.0</td>\n",
       "      <td>242.0</td>\n",
       "      <td>235.0</td>\n",
       "      <td>71.0</td>\n",
       "      <td>46.0</td>\n",
       "    </tr>\n",
       "    <tr>\n",
       "      <th>1</th>\n",
       "      <td>1</td>\n",
       "      <td>ABQ</td>\n",
       "      <td>2005</td>\n",
       "      <td>51829</td>\n",
       "      <td>51877</td>\n",
       "      <td>0.8140</td>\n",
       "      <td>0.7922</td>\n",
       "      <td>0.8001</td>\n",
       "      <td>9.60</td>\n",
       "      <td>9.79</td>\n",
       "      <td>...</td>\n",
       "      <td>0.89</td>\n",
       "      <td>2.34</td>\n",
       "      <td>10.24</td>\n",
       "      <td>0</td>\n",
       "      <td>ABQ</td>\n",
       "      <td>2004.0</td>\n",
       "      <td>242.0</td>\n",
       "      <td>235.0</td>\n",
       "      <td>71.0</td>\n",
       "      <td>46.0</td>\n",
       "    </tr>\n",
       "    <tr>\n",
       "      <th>2</th>\n",
       "      <td>2</td>\n",
       "      <td>ABQ</td>\n",
       "      <td>2006</td>\n",
       "      <td>49682</td>\n",
       "      <td>51199</td>\n",
       "      <td>0.7983</td>\n",
       "      <td>0.7756</td>\n",
       "      <td>0.7746</td>\n",
       "      <td>10.84</td>\n",
       "      <td>9.89</td>\n",
       "      <td>...</td>\n",
       "      <td>0.84</td>\n",
       "      <td>2.66</td>\n",
       "      <td>11.82</td>\n",
       "      <td>0</td>\n",
       "      <td>ABQ</td>\n",
       "      <td>2004.0</td>\n",
       "      <td>242.0</td>\n",
       "      <td>235.0</td>\n",
       "      <td>71.0</td>\n",
       "      <td>46.0</td>\n",
       "    </tr>\n",
       "    <tr>\n",
       "      <th>3</th>\n",
       "      <td>3</td>\n",
       "      <td>ABQ</td>\n",
       "      <td>2007</td>\n",
       "      <td>53255</td>\n",
       "      <td>53611</td>\n",
       "      <td>0.8005</td>\n",
       "      <td>0.7704</td>\n",
       "      <td>0.7647</td>\n",
       "      <td>11.29</td>\n",
       "      <td>10.34</td>\n",
       "      <td>...</td>\n",
       "      <td>1.29</td>\n",
       "      <td>3.06</td>\n",
       "      <td>12.71</td>\n",
       "      <td>0</td>\n",
       "      <td>ABQ</td>\n",
       "      <td>2004.0</td>\n",
       "      <td>242.0</td>\n",
       "      <td>235.0</td>\n",
       "      <td>71.0</td>\n",
       "      <td>46.0</td>\n",
       "    </tr>\n",
       "    <tr>\n",
       "      <th>4</th>\n",
       "      <td>4</td>\n",
       "      <td>ABQ</td>\n",
       "      <td>2008</td>\n",
       "      <td>49589</td>\n",
       "      <td>49512</td>\n",
       "      <td>0.8103</td>\n",
       "      <td>0.7844</td>\n",
       "      <td>0.7875</td>\n",
       "      <td>10.79</td>\n",
       "      <td>10.41</td>\n",
       "      <td>...</td>\n",
       "      <td>1.03</td>\n",
       "      <td>2.79</td>\n",
       "      <td>11.48</td>\n",
       "      <td>0</td>\n",
       "      <td>ABQ</td>\n",
       "      <td>2004.0</td>\n",
       "      <td>242.0</td>\n",
       "      <td>235.0</td>\n",
       "      <td>71.0</td>\n",
       "      <td>46.0</td>\n",
       "    </tr>\n",
       "  </tbody>\n",
       "</table>\n",
       "<p>5 rows × 23 columns</p>\n",
       "</div>"
      ],
      "text/plain": [
       "   index airport  year  departures for metric computation  \\\n",
       "0      0     ABQ  2004                              53971   \n",
       "1      1     ABQ  2005                              51829   \n",
       "2      2     ABQ  2006                              49682   \n",
       "3      3     ABQ  2007                              53255   \n",
       "4      4     ABQ  2008                              49589   \n",
       "\n",
       "   arrivals for metric computation  percent on-time gate departures  \\\n",
       "0                            53818                           0.8030   \n",
       "1                            51877                           0.8140   \n",
       "2                            51199                           0.7983   \n",
       "3                            53611                           0.8005   \n",
       "4                            49512                           0.8103   \n",
       "\n",
       "   percent on-time airport departures  percent on-time gate arrivals  \\\n",
       "0                              0.7809                         0.7921   \n",
       "1                              0.7922                         0.8001   \n",
       "2                              0.7756                         0.7746   \n",
       "3                              0.7704                         0.7647   \n",
       "4                              0.7844                         0.7875   \n",
       "\n",
       "   average_gate_departure_delay  average_taxi_out_time         ...          \\\n",
       "0                         10.38                   9.89         ...           \n",
       "1                          9.60                   9.79         ...           \n",
       "2                         10.84                   9.89         ...           \n",
       "3                         11.29                  10.34         ...           \n",
       "4                         10.79                  10.41         ...           \n",
       "\n",
       "   average taxi in delay  average block delay  average gate arrival delay  \\\n",
       "0                   0.83                 2.55                       10.87   \n",
       "1                   0.89                 2.34                       10.24   \n",
       "2                   0.84                 2.66                       11.82   \n",
       "3                   1.29                 3.06                       12.71   \n",
       "4                   1.03                 2.79                       11.48   \n",
       "\n",
       "   index  Airport    Year  Departure Cancellations Arrival Cancellations  \\\n",
       "0      0      ABQ  2004.0                    242.0                 235.0   \n",
       "1      0      ABQ  2004.0                    242.0                 235.0   \n",
       "2      0      ABQ  2004.0                    242.0                 235.0   \n",
       "3      0      ABQ  2004.0                    242.0                 235.0   \n",
       "4      0      ABQ  2004.0                    242.0                 235.0   \n",
       "\n",
       "   Departure Diversions  Arrival Diversions  \n",
       "0                  71.0                46.0  \n",
       "1                  71.0                46.0  \n",
       "2                  71.0                46.0  \n",
       "3                  71.0                46.0  \n",
       "4                  71.0                46.0  \n",
       "\n",
       "[5 rows x 23 columns]"
      ]
     },
     "execution_count": 10,
     "metadata": {},
     "output_type": "execute_result"
    }
   ],
   "source": [
    "joined_tables = pd.read_sql_query(\"SELECT * FROM operations INNER JOIN cancellations ON airport = Airport;\", con=engine)\n",
    "#con.commit()\n",
    "joined_tables.head() "
   ]
  },
  {
   "cell_type": "code",
   "execution_count": 11,
   "metadata": {
    "collapsed": false
   },
   "outputs": [
    {
     "data": {
      "text/plain": [
       "index                                 677005\n",
       "airport                               677005\n",
       "year                                  677005\n",
       "departures for metric computation     677005\n",
       "arrivals for metric computation       677005\n",
       "percent on-time gate departures       677005\n",
       "percent on-time airport departures    677005\n",
       "percent on-time gate arrivals         677005\n",
       "average_gate_departure_delay          677005\n",
       "average_taxi_out_time                 677005\n",
       "average taxi out delay                677005\n",
       "average airport departure delay       677005\n",
       "average airborne delay                677005\n",
       "average taxi in delay                 677005\n",
       "average block delay                   677005\n",
       "average gate arrival delay            677005\n",
       "index                                 677005\n",
       "Airport                               677005\n",
       "Year                                  677005\n",
       "Departure Cancellations               677005\n",
       "Arrival Cancellations                 677005\n",
       "Departure Diversions                  677005\n",
       "Arrival Diversions                    677005\n",
       "dtype: int64"
      ]
     },
     "execution_count": 11,
     "metadata": {},
     "output_type": "execute_result"
    }
   ],
   "source": [
    "joined_tables.count()"
   ]
  },
  {
   "cell_type": "markdown",
   "metadata": {
    "focus": false,
    "id": "a5fa5f85-1cd6-4ab6-b936-93e9c951e1b7"
   },
   "source": [
    "Query the database for our intial data"
   ]
  },
  {
   "cell_type": "code",
   "execution_count": 86,
   "metadata": {
    "collapsed": false,
    "focus": false,
    "id": "385da01a-0b74-47bc-9757-447e46fa194a"
   },
   "outputs": [],
   "source": [
    "df3 = joined_tables.dropna()\n",
    "df3.to_csv('df3.csv')"
   ]
  },
  {
   "cell_type": "code",
   "execution_count": 88,
   "metadata": {
    "collapsed": false
   },
   "outputs": [
    {
     "data": {
      "text/html": [
       "<div>\n",
       "<table border=\"1\" class=\"dataframe\">\n",
       "  <thead>\n",
       "    <tr style=\"text-align: right;\">\n",
       "      <th></th>\n",
       "      <th>Unnamed: 0</th>\n",
       "      <th>index</th>\n",
       "      <th>airport</th>\n",
       "      <th>year</th>\n",
       "      <th>departures for metric computation</th>\n",
       "      <th>arrivals for metric computation</th>\n",
       "      <th>percent on-time gate departures</th>\n",
       "      <th>percent on-time airport departures</th>\n",
       "      <th>percent on-time gate arrivals</th>\n",
       "      <th>average_gate_departure_delay</th>\n",
       "      <th>...</th>\n",
       "      <th>average taxi in delay</th>\n",
       "      <th>average block delay</th>\n",
       "      <th>average gate arrival delay</th>\n",
       "      <th>index.1</th>\n",
       "      <th>Airport</th>\n",
       "      <th>Year</th>\n",
       "      <th>Departure Cancellations</th>\n",
       "      <th>Arrival Cancellations</th>\n",
       "      <th>Departure Diversions</th>\n",
       "      <th>Arrival Diversions</th>\n",
       "    </tr>\n",
       "  </thead>\n",
       "  <tbody>\n",
       "    <tr>\n",
       "      <th>0</th>\n",
       "      <td>0</td>\n",
       "      <td>0</td>\n",
       "      <td>ABQ</td>\n",
       "      <td>2004</td>\n",
       "      <td>53971</td>\n",
       "      <td>53818</td>\n",
       "      <td>0.8030</td>\n",
       "      <td>0.7809</td>\n",
       "      <td>0.7921</td>\n",
       "      <td>10.38</td>\n",
       "      <td>...</td>\n",
       "      <td>0.83</td>\n",
       "      <td>2.55</td>\n",
       "      <td>10.87</td>\n",
       "      <td>0</td>\n",
       "      <td>ABQ</td>\n",
       "      <td>2004.0</td>\n",
       "      <td>242.0</td>\n",
       "      <td>235.0</td>\n",
       "      <td>71.0</td>\n",
       "      <td>46.0</td>\n",
       "    </tr>\n",
       "    <tr>\n",
       "      <th>1</th>\n",
       "      <td>1</td>\n",
       "      <td>1</td>\n",
       "      <td>ABQ</td>\n",
       "      <td>2005</td>\n",
       "      <td>51829</td>\n",
       "      <td>51877</td>\n",
       "      <td>0.8140</td>\n",
       "      <td>0.7922</td>\n",
       "      <td>0.8001</td>\n",
       "      <td>9.60</td>\n",
       "      <td>...</td>\n",
       "      <td>0.89</td>\n",
       "      <td>2.34</td>\n",
       "      <td>10.24</td>\n",
       "      <td>0</td>\n",
       "      <td>ABQ</td>\n",
       "      <td>2004.0</td>\n",
       "      <td>242.0</td>\n",
       "      <td>235.0</td>\n",
       "      <td>71.0</td>\n",
       "      <td>46.0</td>\n",
       "    </tr>\n",
       "    <tr>\n",
       "      <th>2</th>\n",
       "      <td>2</td>\n",
       "      <td>2</td>\n",
       "      <td>ABQ</td>\n",
       "      <td>2006</td>\n",
       "      <td>49682</td>\n",
       "      <td>51199</td>\n",
       "      <td>0.7983</td>\n",
       "      <td>0.7756</td>\n",
       "      <td>0.7746</td>\n",
       "      <td>10.84</td>\n",
       "      <td>...</td>\n",
       "      <td>0.84</td>\n",
       "      <td>2.66</td>\n",
       "      <td>11.82</td>\n",
       "      <td>0</td>\n",
       "      <td>ABQ</td>\n",
       "      <td>2004.0</td>\n",
       "      <td>242.0</td>\n",
       "      <td>235.0</td>\n",
       "      <td>71.0</td>\n",
       "      <td>46.0</td>\n",
       "    </tr>\n",
       "    <tr>\n",
       "      <th>3</th>\n",
       "      <td>3</td>\n",
       "      <td>3</td>\n",
       "      <td>ABQ</td>\n",
       "      <td>2007</td>\n",
       "      <td>53255</td>\n",
       "      <td>53611</td>\n",
       "      <td>0.8005</td>\n",
       "      <td>0.7704</td>\n",
       "      <td>0.7647</td>\n",
       "      <td>11.29</td>\n",
       "      <td>...</td>\n",
       "      <td>1.29</td>\n",
       "      <td>3.06</td>\n",
       "      <td>12.71</td>\n",
       "      <td>0</td>\n",
       "      <td>ABQ</td>\n",
       "      <td>2004.0</td>\n",
       "      <td>242.0</td>\n",
       "      <td>235.0</td>\n",
       "      <td>71.0</td>\n",
       "      <td>46.0</td>\n",
       "    </tr>\n",
       "    <tr>\n",
       "      <th>4</th>\n",
       "      <td>4</td>\n",
       "      <td>4</td>\n",
       "      <td>ABQ</td>\n",
       "      <td>2008</td>\n",
       "      <td>49589</td>\n",
       "      <td>49512</td>\n",
       "      <td>0.8103</td>\n",
       "      <td>0.7844</td>\n",
       "      <td>0.7875</td>\n",
       "      <td>10.79</td>\n",
       "      <td>...</td>\n",
       "      <td>1.03</td>\n",
       "      <td>2.79</td>\n",
       "      <td>11.48</td>\n",
       "      <td>0</td>\n",
       "      <td>ABQ</td>\n",
       "      <td>2004.0</td>\n",
       "      <td>242.0</td>\n",
       "      <td>235.0</td>\n",
       "      <td>71.0</td>\n",
       "      <td>46.0</td>\n",
       "    </tr>\n",
       "  </tbody>\n",
       "</table>\n",
       "<p>5 rows × 24 columns</p>\n",
       "</div>"
      ],
      "text/plain": [
       "   Unnamed: 0  index airport  year  departures for metric computation  \\\n",
       "0           0      0     ABQ  2004                              53971   \n",
       "1           1      1     ABQ  2005                              51829   \n",
       "2           2      2     ABQ  2006                              49682   \n",
       "3           3      3     ABQ  2007                              53255   \n",
       "4           4      4     ABQ  2008                              49589   \n",
       "\n",
       "   arrivals for metric computation  percent on-time gate departures  \\\n",
       "0                            53818                           0.8030   \n",
       "1                            51877                           0.8140   \n",
       "2                            51199                           0.7983   \n",
       "3                            53611                           0.8005   \n",
       "4                            49512                           0.8103   \n",
       "\n",
       "   percent on-time airport departures  percent on-time gate arrivals  \\\n",
       "0                              0.7809                         0.7921   \n",
       "1                              0.7922                         0.8001   \n",
       "2                              0.7756                         0.7746   \n",
       "3                              0.7704                         0.7647   \n",
       "4                              0.7844                         0.7875   \n",
       "\n",
       "   average_gate_departure_delay         ...          average taxi in delay  \\\n",
       "0                         10.38         ...                           0.83   \n",
       "1                          9.60         ...                           0.89   \n",
       "2                         10.84         ...                           0.84   \n",
       "3                         11.29         ...                           1.29   \n",
       "4                         10.79         ...                           1.03   \n",
       "\n",
       "   average block delay  average gate arrival delay  index.1  Airport    Year  \\\n",
       "0                 2.55                       10.87        0      ABQ  2004.0   \n",
       "1                 2.34                       10.24        0      ABQ  2004.0   \n",
       "2                 2.66                       11.82        0      ABQ  2004.0   \n",
       "3                 3.06                       12.71        0      ABQ  2004.0   \n",
       "4                 2.79                       11.48        0      ABQ  2004.0   \n",
       "\n",
       "   Departure Cancellations  Arrival Cancellations Departure Diversions  \\\n",
       "0                    242.0                  235.0                 71.0   \n",
       "1                    242.0                  235.0                 71.0   \n",
       "2                    242.0                  235.0                 71.0   \n",
       "3                    242.0                  235.0                 71.0   \n",
       "4                    242.0                  235.0                 71.0   \n",
       "\n",
       "   Arrival Diversions  \n",
       "0                46.0  \n",
       "1                46.0  \n",
       "2                46.0  \n",
       "3                46.0  \n",
       "4                46.0  \n",
       "\n",
       "[5 rows x 24 columns]"
      ]
     },
     "execution_count": 88,
     "metadata": {},
     "output_type": "execute_result"
    }
   ],
   "source": [
    "#saving df3 to a csv file for easier access as I work on the project\n",
    "df3 = pd.read_csv('../starter-code/df3.csv')\n",
    "df3.head()"
   ]
  },
  {
   "cell_type": "code",
   "execution_count": 89,
   "metadata": {
    "collapsed": false
   },
   "outputs": [
    {
     "data": {
      "text/plain": [
       "Unnamed: 0                            677005\n",
       "index                                 677005\n",
       "airport                               677005\n",
       "year                                  677005\n",
       "departures for metric computation     677005\n",
       "arrivals for metric computation       677005\n",
       "percent on-time gate departures       677005\n",
       "percent on-time airport departures    677005\n",
       "percent on-time gate arrivals         677005\n",
       "average_gate_departure_delay          677005\n",
       "average_taxi_out_time                 677005\n",
       "average taxi out delay                677005\n",
       "average airport departure delay       677005\n",
       "average airborne delay                677005\n",
       "average taxi in delay                 677005\n",
       "average block delay                   677005\n",
       "average gate arrival delay            677005\n",
       "index.1                               677005\n",
       "Airport                               677005\n",
       "Year                                  677005\n",
       "Departure Cancellations               677005\n",
       "Arrival Cancellations                 677005\n",
       "Departure Diversions                  677005\n",
       "Arrival Diversions                    677005\n",
       "dtype: int64"
      ]
     },
     "execution_count": 89,
     "metadata": {},
     "output_type": "execute_result"
    }
   ],
   "source": [
    "df3.count()"
   ]
  },
  {
   "cell_type": "markdown",
   "metadata": {
    "focus": false,
    "id": "0b511b59-41ea-478f-bf2d-7e392dc9edaa"
   },
   "source": [
    "#### 1.2 What are the risks and assumptions of our data? "
   ]
  },
  {
   "cell_type": "markdown",
   "metadata": {
    "focus": false,
    "id": "0936ff6a-6919-4436-9fc1-d6ef90d5ba9e"
   },
   "source": [
    "Since this dataset was provided to us we are assuming it's accuracy.  Human error could cause discrepency in the data and influence any correaltion we arrive at in our analysis.  "
   ]
  },
  {
   "cell_type": "markdown",
   "metadata": {
    "focus": false,
    "id": "e97b4707-0f0e-4f6a-90ab-fbb634c2305d"
   },
   "source": [
    "### Part 2: Exploratory Data Analysis"
   ]
  },
  {
   "cell_type": "markdown",
   "metadata": {
    "focus": false,
    "id": "6be9cf88-1b92-4360-b424-a495d5e2d4ba"
   },
   "source": [
    "#### 2.1 Plot and Describe the Data"
   ]
  },
  {
   "cell_type": "code",
   "execution_count": 90,
   "metadata": {
    "collapsed": false
   },
   "outputs": [
    {
     "data": {
      "text/html": [
       "<div>\n",
       "<table border=\"1\" class=\"dataframe\">\n",
       "  <thead>\n",
       "    <tr style=\"text-align: right;\">\n",
       "      <th></th>\n",
       "      <th>Unnamed: 0</th>\n",
       "      <th>index</th>\n",
       "      <th>year</th>\n",
       "      <th>departures for metric computation</th>\n",
       "      <th>arrivals for metric computation</th>\n",
       "      <th>percent on-time gate departures</th>\n",
       "      <th>percent on-time airport departures</th>\n",
       "      <th>percent on-time gate arrivals</th>\n",
       "      <th>average_gate_departure_delay</th>\n",
       "      <th>average_taxi_out_time</th>\n",
       "      <th>...</th>\n",
       "      <th>average airborne delay</th>\n",
       "      <th>average taxi in delay</th>\n",
       "      <th>average block delay</th>\n",
       "      <th>average gate arrival delay</th>\n",
       "      <th>index.1</th>\n",
       "      <th>Year</th>\n",
       "      <th>Departure Cancellations</th>\n",
       "      <th>Arrival Cancellations</th>\n",
       "      <th>Departure Diversions</th>\n",
       "      <th>Arrival Diversions</th>\n",
       "    </tr>\n",
       "  </thead>\n",
       "  <tbody>\n",
       "    <tr>\n",
       "      <th>count</th>\n",
       "      <td>677005.000000</td>\n",
       "      <td>677005.000000</td>\n",
       "      <td>677005.000000</td>\n",
       "      <td>677005.000000</td>\n",
       "      <td>677005.000000</td>\n",
       "      <td>677005.000000</td>\n",
       "      <td>677005.000000</td>\n",
       "      <td>677005.000000</td>\n",
       "      <td>677005.000000</td>\n",
       "      <td>677005.000000</td>\n",
       "      <td>...</td>\n",
       "      <td>677005.000000</td>\n",
       "      <td>677005.000000</td>\n",
       "      <td>677005.000000</td>\n",
       "      <td>677005.000000</td>\n",
       "      <td>677005.000000</td>\n",
       "      <td>677005.000000</td>\n",
       "      <td>677005.000000</td>\n",
       "      <td>677005.000000</td>\n",
       "      <td>677005.000000</td>\n",
       "      <td>677005.000000</td>\n",
       "    </tr>\n",
       "    <tr>\n",
       "      <th>mean</th>\n",
       "      <td>338502.000000</td>\n",
       "      <td>420.000000</td>\n",
       "      <td>2009.028537</td>\n",
       "      <td>108257.063020</td>\n",
       "      <td>107815.561237</td>\n",
       "      <td>0.764119</td>\n",
       "      <td>0.714283</td>\n",
       "      <td>0.754281</td>\n",
       "      <td>13.561403</td>\n",
       "      <td>13.703389</td>\n",
       "      <td>...</td>\n",
       "      <td>2.921237</td>\n",
       "      <td>1.348894</td>\n",
       "      <td>3.330773</td>\n",
       "      <td>14.013222</td>\n",
       "      <td>402.000000</td>\n",
       "      <td>2008.986335</td>\n",
       "      <td>1292.038509</td>\n",
       "      <td>1333.124224</td>\n",
       "      <td>173.315528</td>\n",
       "      <td>169.413665</td>\n",
       "    </tr>\n",
       "    <tr>\n",
       "      <th>std</th>\n",
       "      <td>195434.653833</td>\n",
       "      <td>242.775796</td>\n",
       "      <td>3.154622</td>\n",
       "      <td>98220.027197</td>\n",
       "      <td>97858.748987</td>\n",
       "      <td>0.093305</td>\n",
       "      <td>0.101211</td>\n",
       "      <td>0.082253</td>\n",
       "      <td>4.743744</td>\n",
       "      <td>3.789929</td>\n",
       "      <td>...</td>\n",
       "      <td>1.200739</td>\n",
       "      <td>0.881728</td>\n",
       "      <td>1.026262</td>\n",
       "      <td>4.479552</td>\n",
       "      <td>232.383476</td>\n",
       "      <td>3.156156</td>\n",
       "      <td>1834.822595</td>\n",
       "      <td>1973.999097</td>\n",
       "      <td>172.238586</td>\n",
       "      <td>228.379800</td>\n",
       "    </tr>\n",
       "    <tr>\n",
       "      <th>min</th>\n",
       "      <td>0.000000</td>\n",
       "      <td>0.000000</td>\n",
       "      <td>2004.000000</td>\n",
       "      <td>261.000000</td>\n",
       "      <td>259.000000</td>\n",
       "      <td>0.246700</td>\n",
       "      <td>0.245700</td>\n",
       "      <td>0.324100</td>\n",
       "      <td>5.350000</td>\n",
       "      <td>7.040000</td>\n",
       "      <td>...</td>\n",
       "      <td>0.950000</td>\n",
       "      <td>0.000000</td>\n",
       "      <td>1.230000</td>\n",
       "      <td>6.330000</td>\n",
       "      <td>0.000000</td>\n",
       "      <td>2004.000000</td>\n",
       "      <td>0.000000</td>\n",
       "      <td>0.000000</td>\n",
       "      <td>0.000000</td>\n",
       "      <td>0.000000</td>\n",
       "    </tr>\n",
       "    <tr>\n",
       "      <th>25%</th>\n",
       "      <td>169251.000000</td>\n",
       "      <td>210.000000</td>\n",
       "      <td>2006.000000</td>\n",
       "      <td>37653.000000</td>\n",
       "      <td>37502.000000</td>\n",
       "      <td>0.745700</td>\n",
       "      <td>0.684800</td>\n",
       "      <td>0.737500</td>\n",
       "      <td>10.910000</td>\n",
       "      <td>11.260000</td>\n",
       "      <td>...</td>\n",
       "      <td>2.050000</td>\n",
       "      <td>0.800000</td>\n",
       "      <td>2.630000</td>\n",
       "      <td>11.300000</td>\n",
       "      <td>201.000000</td>\n",
       "      <td>2006.000000</td>\n",
       "      <td>349.000000</td>\n",
       "      <td>314.000000</td>\n",
       "      <td>62.000000</td>\n",
       "      <td>41.000000</td>\n",
       "    </tr>\n",
       "    <tr>\n",
       "      <th>50%</th>\n",
       "      <td>338502.000000</td>\n",
       "      <td>420.000000</td>\n",
       "      <td>2009.000000</td>\n",
       "      <td>72043.000000</td>\n",
       "      <td>71254.000000</td>\n",
       "      <td>0.782500</td>\n",
       "      <td>0.737200</td>\n",
       "      <td>0.768300</td>\n",
       "      <td>12.640000</td>\n",
       "      <td>12.810000</td>\n",
       "      <td>...</td>\n",
       "      <td>2.650000</td>\n",
       "      <td>1.080000</td>\n",
       "      <td>3.160000</td>\n",
       "      <td>13.080000</td>\n",
       "      <td>402.000000</td>\n",
       "      <td>2009.000000</td>\n",
       "      <td>663.000000</td>\n",
       "      <td>642.000000</td>\n",
       "      <td>110.000000</td>\n",
       "      <td>84.000000</td>\n",
       "    </tr>\n",
       "    <tr>\n",
       "      <th>75%</th>\n",
       "      <td>507753.000000</td>\n",
       "      <td>630.000000</td>\n",
       "      <td>2012.000000</td>\n",
       "      <td>162913.000000</td>\n",
       "      <td>160775.000000</td>\n",
       "      <td>0.809800</td>\n",
       "      <td>0.772200</td>\n",
       "      <td>0.796500</td>\n",
       "      <td>14.950000</td>\n",
       "      <td>15.650000</td>\n",
       "      <td>...</td>\n",
       "      <td>3.620000</td>\n",
       "      <td>1.740000</td>\n",
       "      <td>3.860000</td>\n",
       "      <td>15.250000</td>\n",
       "      <td>603.000000</td>\n",
       "      <td>2012.000000</td>\n",
       "      <td>1472.000000</td>\n",
       "      <td>1523.000000</td>\n",
       "      <td>236.000000</td>\n",
       "      <td>190.000000</td>\n",
       "    </tr>\n",
       "    <tr>\n",
       "      <th>max</th>\n",
       "      <td>677004.000000</td>\n",
       "      <td>840.000000</td>\n",
       "      <td>2014.000000</td>\n",
       "      <td>491826.000000</td>\n",
       "      <td>486799.000000</td>\n",
       "      <td>0.909700</td>\n",
       "      <td>0.897400</td>\n",
       "      <td>0.880300</td>\n",
       "      <td>40.800000</td>\n",
       "      <td>35.760000</td>\n",
       "      <td>...</td>\n",
       "      <td>7.820000</td>\n",
       "      <td>6.180000</td>\n",
       "      <td>7.520000</td>\n",
       "      <td>34.880000</td>\n",
       "      <td>804.000000</td>\n",
       "      <td>2014.000000</td>\n",
       "      <td>16618.000000</td>\n",
       "      <td>17571.000000</td>\n",
       "      <td>1064.000000</td>\n",
       "      <td>1948.000000</td>\n",
       "    </tr>\n",
       "  </tbody>\n",
       "</table>\n",
       "<p>8 rows × 22 columns</p>\n",
       "</div>"
      ],
      "text/plain": [
       "          Unnamed: 0          index           year  \\\n",
       "count  677005.000000  677005.000000  677005.000000   \n",
       "mean   338502.000000     420.000000    2009.028537   \n",
       "std    195434.653833     242.775796       3.154622   \n",
       "min         0.000000       0.000000    2004.000000   \n",
       "25%    169251.000000     210.000000    2006.000000   \n",
       "50%    338502.000000     420.000000    2009.000000   \n",
       "75%    507753.000000     630.000000    2012.000000   \n",
       "max    677004.000000     840.000000    2014.000000   \n",
       "\n",
       "       departures for metric computation  arrivals for metric computation  \\\n",
       "count                      677005.000000                    677005.000000   \n",
       "mean                       108257.063020                    107815.561237   \n",
       "std                         98220.027197                     97858.748987   \n",
       "min                           261.000000                       259.000000   \n",
       "25%                         37653.000000                     37502.000000   \n",
       "50%                         72043.000000                     71254.000000   \n",
       "75%                        162913.000000                    160775.000000   \n",
       "max                        491826.000000                    486799.000000   \n",
       "\n",
       "       percent on-time gate departures  percent on-time airport departures  \\\n",
       "count                    677005.000000                       677005.000000   \n",
       "mean                          0.764119                            0.714283   \n",
       "std                           0.093305                            0.101211   \n",
       "min                           0.246700                            0.245700   \n",
       "25%                           0.745700                            0.684800   \n",
       "50%                           0.782500                            0.737200   \n",
       "75%                           0.809800                            0.772200   \n",
       "max                           0.909700                            0.897400   \n",
       "\n",
       "       percent on-time gate arrivals  average_gate_departure_delay  \\\n",
       "count                  677005.000000                 677005.000000   \n",
       "mean                        0.754281                     13.561403   \n",
       "std                         0.082253                      4.743744   \n",
       "min                         0.324100                      5.350000   \n",
       "25%                         0.737500                     10.910000   \n",
       "50%                         0.768300                     12.640000   \n",
       "75%                         0.796500                     14.950000   \n",
       "max                         0.880300                     40.800000   \n",
       "\n",
       "       average_taxi_out_time         ...          average airborne delay  \\\n",
       "count          677005.000000         ...                   677005.000000   \n",
       "mean               13.703389         ...                        2.921237   \n",
       "std                 3.789929         ...                        1.200739   \n",
       "min                 7.040000         ...                        0.950000   \n",
       "25%                11.260000         ...                        2.050000   \n",
       "50%                12.810000         ...                        2.650000   \n",
       "75%                15.650000         ...                        3.620000   \n",
       "max                35.760000         ...                        7.820000   \n",
       "\n",
       "       average taxi in delay  average block delay  average gate arrival delay  \\\n",
       "count          677005.000000        677005.000000               677005.000000   \n",
       "mean                1.348894             3.330773                   14.013222   \n",
       "std                 0.881728             1.026262                    4.479552   \n",
       "min                 0.000000             1.230000                    6.330000   \n",
       "25%                 0.800000             2.630000                   11.300000   \n",
       "50%                 1.080000             3.160000                   13.080000   \n",
       "75%                 1.740000             3.860000                   15.250000   \n",
       "max                 6.180000             7.520000                   34.880000   \n",
       "\n",
       "             index.1           Year  Departure Cancellations  \\\n",
       "count  677005.000000  677005.000000            677005.000000   \n",
       "mean      402.000000    2008.986335              1292.038509   \n",
       "std       232.383476       3.156156              1834.822595   \n",
       "min         0.000000    2004.000000                 0.000000   \n",
       "25%       201.000000    2006.000000               349.000000   \n",
       "50%       402.000000    2009.000000               663.000000   \n",
       "75%       603.000000    2012.000000              1472.000000   \n",
       "max       804.000000    2014.000000             16618.000000   \n",
       "\n",
       "       Arrival Cancellations  Departure Diversions  Arrival Diversions  \n",
       "count          677005.000000         677005.000000       677005.000000  \n",
       "mean             1333.124224            173.315528          169.413665  \n",
       "std              1973.999097            172.238586          228.379800  \n",
       "min                 0.000000              0.000000            0.000000  \n",
       "25%               314.000000             62.000000           41.000000  \n",
       "50%               642.000000            110.000000           84.000000  \n",
       "75%              1523.000000            236.000000          190.000000  \n",
       "max             17571.000000           1064.000000         1948.000000  \n",
       "\n",
       "[8 rows x 22 columns]"
      ]
     },
     "execution_count": 90,
     "metadata": {},
     "output_type": "execute_result"
    }
   ],
   "source": [
    "df3.describe()"
   ]
  },
  {
   "cell_type": "markdown",
   "metadata": {},
   "source": [
    "I chose to pay special attention to the average taxi out time, average gate departure delay, and average airborn delay as these columns seem to be the most important in regards to answering our questions centering around airline delays."
   ]
  },
  {
   "cell_type": "code",
   "execution_count": 91,
   "metadata": {
    "collapsed": false,
    "scrolled": true
   },
   "outputs": [
    {
     "data": {
      "text/plain": [
       "<matplotlib.axes._subplots.AxesSubplot at 0x136ac7110>"
      ]
     },
     "execution_count": 91,
     "metadata": {},
     "output_type": "execute_result"
    },
    {
     "data": {
      "image/png": "[encoded data removed]",
      "text/plain": [
       "<matplotlib.figure.Figure at 0x1323c1a50>"
      ]
     },
     "metadata": {},
     "output_type": "display_data"
    }
   ],
   "source": [
    "sns.distplot(df3['average_taxi_out_time'], hist=True, color=\"y\")"
   ]
  },
  {
   "cell_type": "code",
   "execution_count": 92,
   "metadata": {
    "collapsed": false
   },
   "outputs": [
    {
     "data": {
      "text/plain": [
       "<matplotlib.axes._subplots.AxesSubplot at 0x133f9ac50>"
      ]
     },
     "execution_count": 92,
     "metadata": {},
     "output_type": "execute_result"
    },
    {
     "data": {
      "image/png": "[encoded data removed]",
      "text/plain": [
       "<matplotlib.figure.Figure at 0x134f6c050>"
      ]
     },
     "metadata": {},
     "output_type": "display_data"
    }
   ],
   "source": [
    "sns.distplot(df3['average_gate_departure_delay'], hist=True, color=\"b\")"
   ]
  },
  {
   "cell_type": "code",
   "execution_count": 93,
   "metadata": {
    "collapsed": false
   },
   "outputs": [
    {
     "data": {
      "text/plain": [
       "<matplotlib.axes._subplots.AxesSubplot at 0x133bdf050>"
      ]
     },
     "execution_count": 93,
     "metadata": {},
     "output_type": "execute_result"
    },
    {
     "data": {
      "image/png": "[encoded data removed]",
      "text/plain": [
       "<matplotlib.figure.Figure at 0x136a5f650>"
      ]
     },
     "metadata": {},
     "output_type": "display_data"
    }
   ],
   "source": [
    "sns.distplot(df3['average airborne delay'], hist=True, color=\"r\")"
   ]
  },
  {
   "cell_type": "code",
   "execution_count": 94,
   "metadata": {
    "collapsed": false,
    "scrolled": true
   },
   "outputs": [
    {
     "data": {
      "text/plain": [
       "<matplotlib.axes._subplots.AxesSubplot at 0x13425ba90>"
      ]
     },
     "execution_count": 94,
     "metadata": {},
     "output_type": "execute_result"
    },
    {
     "data": {
      "image/png": "[encoded data removed]",
      "text/plain": [
       "<matplotlib.figure.Figure at 0x1364905d0>"
      ]
     },
     "metadata": {},
     "output_type": "display_data"
    }
   ],
   "source": [
    "sns.boxplot(df3['average_taxi_out_time'], palette=\"Set3\")"
   ]
  },
  {
   "cell_type": "code",
   "execution_count": 95,
   "metadata": {
    "collapsed": false
   },
   "outputs": [
    {
     "data": {
      "text/plain": [
       "<matplotlib.axes._subplots.AxesSubplot at 0x130b95c90>"
      ]
     },
     "execution_count": 95,
     "metadata": {},
     "output_type": "execute_result"
    },
    {
     "data": {
      "image/png": "[encoded data removed]",
      "text/plain": [
       "<matplotlib.figure.Figure at 0x1306dfa50>"
      ]
     },
     "metadata": {},
     "output_type": "display_data"
    }
   ],
   "source": [
    "sns.boxplot(df3['average_gate_departure_delay'], palette=\"Set2\")"
   ]
  },
  {
   "cell_type": "code",
   "execution_count": 96,
   "metadata": {
    "collapsed": false
   },
   "outputs": [
    {
     "data": {
      "text/plain": [
       "<matplotlib.axes._subplots.AxesSubplot at 0x130859d90>"
      ]
     },
     "execution_count": 96,
     "metadata": {},
     "output_type": "execute_result"
    },
    {
     "data": {
      "image/png": "[encoded data removed]",
      "text/plain": [
       "<matplotlib.figure.Figure at 0x135b7dcd0>"
      ]
     },
     "metadata": {},
     "output_type": "display_data"
    }
   ],
   "source": [
    "sns.boxplot(df3['average airborne delay'], palette=\"Set1\")"
   ]
  },
  {
   "cell_type": "markdown",
   "metadata": {
    "focus": false,
    "id": "3d12188d-3aa9-4d47-a0e8-b5d6e8f071de"
   },
   "source": [
    "#### Are there any unique values? "
   ]
  },
  {
   "cell_type": "markdown",
   "metadata": {},
   "source": [
    "The aiport column showcases a wide variety of unique values:"
   ]
  },
  {
   "cell_type": "code",
   "execution_count": 97,
   "metadata": {
    "collapsed": false,
    "focus": false,
    "id": "d76cfc84-4d16-4f6f-aca8-3dc77d3b8f5c"
   },
   "outputs": [
    {
     "data": {
      "text/plain": [
       "array(['ABQ', 'ANC', 'ATL', 'AUS', 'BDL', 'BHM', 'BNA', 'BOS', 'BUF',\n",
       "       'BUR', 'BWI', 'CLE', 'CLT', 'CVG', 'DAL', 'DAY', 'DCA', 'DEN',\n",
       "       'DFW', 'DTW', 'EWR', 'FLL', 'GYY', 'HNL', 'HOU', 'HPN', 'IAD',\n",
       "       'IAH', 'IND', 'ISP', 'JAX', 'JFK', 'LAS', 'LAX', 'LGA', 'LGB',\n",
       "       'MCI', 'MCO', 'MDW', 'MEM', 'MHT', 'MIA', 'MKE', 'MSP', 'MSY',\n",
       "       'OAK', 'OGG', 'OMA', 'ONT', 'ORD', 'OXR', 'PBI', 'PDX', 'PHL',\n",
       "       'PHX', 'PIT', 'PSP', 'PVD', 'RDU', 'RFD', 'RSW', 'SAN', 'SAT',\n",
       "       'SDF', 'SEA', 'SFO', 'SJC', 'SJU', 'SLC', 'SMF', 'SNA', 'STL',\n",
       "       'SWF', 'TEB', 'TPA', 'TUS', 'VNY'], dtype=object)"
      ]
     },
     "execution_count": 97,
     "metadata": {},
     "output_type": "execute_result"
    }
   ],
   "source": [
    "df3.airport.unique()"
   ]
  },
  {
   "cell_type": "markdown",
   "metadata": {
    "focus": false,
    "id": "e2ddc27c-94d6-4ab1-95ef-1093bb2726b0"
   },
   "source": [
    "### Part 3: Data Mining"
   ]
  },
  {
   "cell_type": "markdown",
   "metadata": {
    "focus": false,
    "id": "a746fd8c-fdb0-45c3-9e17-ad4c89360055"
   },
   "source": [
    "#### 3.1 Create Dummy Variables"
   ]
  },
  {
   "cell_type": "code",
   "execution_count": 98,
   "metadata": {
    "collapsed": false,
    "focus": false,
    "id": "eae97f78-3695-4777-91c5-f282dfd26e96"
   },
   "outputs": [],
   "source": [
    "dummyair = preprocessing.LabelEncoder()\n",
    "df3.airport = dummyair.fit_transform(df3.airport)"
   ]
  },
  {
   "cell_type": "code",
   "execution_count": 99,
   "metadata": {
    "collapsed": false
   },
   "outputs": [
    {
     "data": {
      "text/html": [
       "<div>\n",
       "<table border=\"1\" class=\"dataframe\">\n",
       "  <thead>\n",
       "    <tr style=\"text-align: right;\">\n",
       "      <th></th>\n",
       "      <th>Unnamed: 0</th>\n",
       "      <th>index</th>\n",
       "      <th>airport</th>\n",
       "      <th>year</th>\n",
       "      <th>departures for metric computation</th>\n",
       "      <th>arrivals for metric computation</th>\n",
       "      <th>percent on-time gate departures</th>\n",
       "      <th>percent on-time airport departures</th>\n",
       "      <th>percent on-time gate arrivals</th>\n",
       "      <th>average_gate_departure_delay</th>\n",
       "      <th>...</th>\n",
       "      <th>average taxi in delay</th>\n",
       "      <th>average block delay</th>\n",
       "      <th>average gate arrival delay</th>\n",
       "      <th>index.1</th>\n",
       "      <th>Airport</th>\n",
       "      <th>Year</th>\n",
       "      <th>Departure Cancellations</th>\n",
       "      <th>Arrival Cancellations</th>\n",
       "      <th>Departure Diversions</th>\n",
       "      <th>Arrival Diversions</th>\n",
       "    </tr>\n",
       "  </thead>\n",
       "  <tbody>\n",
       "    <tr>\n",
       "      <th>0</th>\n",
       "      <td>0</td>\n",
       "      <td>0</td>\n",
       "      <td>0</td>\n",
       "      <td>2004</td>\n",
       "      <td>53971</td>\n",
       "      <td>53818</td>\n",
       "      <td>0.8030</td>\n",
       "      <td>0.7809</td>\n",
       "      <td>0.7921</td>\n",
       "      <td>10.38</td>\n",
       "      <td>...</td>\n",
       "      <td>0.83</td>\n",
       "      <td>2.55</td>\n",
       "      <td>10.87</td>\n",
       "      <td>0</td>\n",
       "      <td>ABQ</td>\n",
       "      <td>2004.0</td>\n",
       "      <td>242.0</td>\n",
       "      <td>235.0</td>\n",
       "      <td>71.0</td>\n",
       "      <td>46.0</td>\n",
       "    </tr>\n",
       "    <tr>\n",
       "      <th>1</th>\n",
       "      <td>1</td>\n",
       "      <td>1</td>\n",
       "      <td>0</td>\n",
       "      <td>2005</td>\n",
       "      <td>51829</td>\n",
       "      <td>51877</td>\n",
       "      <td>0.8140</td>\n",
       "      <td>0.7922</td>\n",
       "      <td>0.8001</td>\n",
       "      <td>9.60</td>\n",
       "      <td>...</td>\n",
       "      <td>0.89</td>\n",
       "      <td>2.34</td>\n",
       "      <td>10.24</td>\n",
       "      <td>0</td>\n",
       "      <td>ABQ</td>\n",
       "      <td>2004.0</td>\n",
       "      <td>242.0</td>\n",
       "      <td>235.0</td>\n",
       "      <td>71.0</td>\n",
       "      <td>46.0</td>\n",
       "    </tr>\n",
       "    <tr>\n",
       "      <th>2</th>\n",
       "      <td>2</td>\n",
       "      <td>2</td>\n",
       "      <td>0</td>\n",
       "      <td>2006</td>\n",
       "      <td>49682</td>\n",
       "      <td>51199</td>\n",
       "      <td>0.7983</td>\n",
       "      <td>0.7756</td>\n",
       "      <td>0.7746</td>\n",
       "      <td>10.84</td>\n",
       "      <td>...</td>\n",
       "      <td>0.84</td>\n",
       "      <td>2.66</td>\n",
       "      <td>11.82</td>\n",
       "      <td>0</td>\n",
       "      <td>ABQ</td>\n",
       "      <td>2004.0</td>\n",
       "      <td>242.0</td>\n",
       "      <td>235.0</td>\n",
       "      <td>71.0</td>\n",
       "      <td>46.0</td>\n",
       "    </tr>\n",
       "    <tr>\n",
       "      <th>3</th>\n",
       "      <td>3</td>\n",
       "      <td>3</td>\n",
       "      <td>0</td>\n",
       "      <td>2007</td>\n",
       "      <td>53255</td>\n",
       "      <td>53611</td>\n",
       "      <td>0.8005</td>\n",
       "      <td>0.7704</td>\n",
       "      <td>0.7647</td>\n",
       "      <td>11.29</td>\n",
       "      <td>...</td>\n",
       "      <td>1.29</td>\n",
       "      <td>3.06</td>\n",
       "      <td>12.71</td>\n",
       "      <td>0</td>\n",
       "      <td>ABQ</td>\n",
       "      <td>2004.0</td>\n",
       "      <td>242.0</td>\n",
       "      <td>235.0</td>\n",
       "      <td>71.0</td>\n",
       "      <td>46.0</td>\n",
       "    </tr>\n",
       "    <tr>\n",
       "      <th>4</th>\n",
       "      <td>4</td>\n",
       "      <td>4</td>\n",
       "      <td>0</td>\n",
       "      <td>2008</td>\n",
       "      <td>49589</td>\n",
       "      <td>49512</td>\n",
       "      <td>0.8103</td>\n",
       "      <td>0.7844</td>\n",
       "      <td>0.7875</td>\n",
       "      <td>10.79</td>\n",
       "      <td>...</td>\n",
       "      <td>1.03</td>\n",
       "      <td>2.79</td>\n",
       "      <td>11.48</td>\n",
       "      <td>0</td>\n",
       "      <td>ABQ</td>\n",
       "      <td>2004.0</td>\n",
       "      <td>242.0</td>\n",
       "      <td>235.0</td>\n",
       "      <td>71.0</td>\n",
       "      <td>46.0</td>\n",
       "    </tr>\n",
       "  </tbody>\n",
       "</table>\n",
       "<p>5 rows × 24 columns</p>\n",
       "</div>"
      ],
      "text/plain": [
       "   Unnamed: 0  index  airport  year  departures for metric computation  \\\n",
       "0           0      0        0  2004                              53971   \n",
       "1           1      1        0  2005                              51829   \n",
       "2           2      2        0  2006                              49682   \n",
       "3           3      3        0  2007                              53255   \n",
       "4           4      4        0  2008                              49589   \n",
       "\n",
       "   arrivals for metric computation  percent on-time gate departures  \\\n",
       "0                            53818                           0.8030   \n",
       "1                            51877                           0.8140   \n",
       "2                            51199                           0.7983   \n",
       "3                            53611                           0.8005   \n",
       "4                            49512                           0.8103   \n",
       "\n",
       "   percent on-time airport departures  percent on-time gate arrivals  \\\n",
       "0                              0.7809                         0.7921   \n",
       "1                              0.7922                         0.8001   \n",
       "2                              0.7756                         0.7746   \n",
       "3                              0.7704                         0.7647   \n",
       "4                              0.7844                         0.7875   \n",
       "\n",
       "   average_gate_departure_delay         ...          average taxi in delay  \\\n",
       "0                         10.38         ...                           0.83   \n",
       "1                          9.60         ...                           0.89   \n",
       "2                         10.84         ...                           0.84   \n",
       "3                         11.29         ...                           1.29   \n",
       "4                         10.79         ...                           1.03   \n",
       "\n",
       "   average block delay  average gate arrival delay  index.1  Airport    Year  \\\n",
       "0                 2.55                       10.87        0      ABQ  2004.0   \n",
       "1                 2.34                       10.24        0      ABQ  2004.0   \n",
       "2                 2.66                       11.82        0      ABQ  2004.0   \n",
       "3                 3.06                       12.71        0      ABQ  2004.0   \n",
       "4                 2.79                       11.48        0      ABQ  2004.0   \n",
       "\n",
       "   Departure Cancellations  Arrival Cancellations Departure Diversions  \\\n",
       "0                    242.0                  235.0                 71.0   \n",
       "1                    242.0                  235.0                 71.0   \n",
       "2                    242.0                  235.0                 71.0   \n",
       "3                    242.0                  235.0                 71.0   \n",
       "4                    242.0                  235.0                 71.0   \n",
       "\n",
       "   Arrival Diversions  \n",
       "0                46.0  \n",
       "1                46.0  \n",
       "2                46.0  \n",
       "3                46.0  \n",
       "4                46.0  \n",
       "\n",
       "[5 rows x 24 columns]"
      ]
     },
     "execution_count": 99,
     "metadata": {},
     "output_type": "execute_result"
    }
   ],
   "source": [
    "df3.head()"
   ]
  },
  {
   "cell_type": "markdown",
   "metadata": {
    "focus": false,
    "id": "c9b12f39-5410-42d7-aff9-859c0b2ccb70"
   },
   "source": [
    "#### 3.2 Format and Clean the Data"
   ]
  },
  {
   "cell_type": "markdown",
   "metadata": {},
   "source": [
    "Creating variables off of the below columns will help us simplify our code in our PCA analysis."
   ]
  },
  {
   "cell_type": "code",
   "execution_count": 100,
   "metadata": {
    "collapsed": true,
    "focus": false,
    "id": "c2f083d5-edf1-4380-a245-13c77315daa7"
   },
   "outputs": [],
   "source": [
    "taxi = df3['average_taxi_out_time']\n",
    "gate_delay = df3['average_gate_departure_delay']\n",
    "year = df3['year']\n",
    "taxi_delay = df3['average taxi out delay']\n",
    "airborne_delay = df3['average airborne delay']"
   ]
  },
  {
   "cell_type": "markdown",
   "metadata": {},
   "source": [
    "Need to remove the below columns to allow our dataset to meet a normal distribution:"
   ]
  },
  {
   "cell_type": "code",
   "execution_count": 101,
   "metadata": {
    "collapsed": false
   },
   "outputs": [],
   "source": [
    "del df3['departures for metric computation']\n",
    "del df3['arrivals for metric computation']\n",
    "del df3['Airport']"
   ]
  },
  {
   "cell_type": "markdown",
   "metadata": {
    "focus": false,
    "id": "27db8e3b-27d2-4420-bbab-1ddbba3dc3e5"
   },
   "source": [
    "### Part 4: Define the Data"
   ]
  },
  {
   "cell_type": "markdown",
   "metadata": {
    "focus": false,
    "id": "9bcb3ba6-8c35-470c-a821-47d7ba6a32f2"
   },
   "source": [
    "#### 4.1 Confirm that the dataset has a normal distribution. How can you tell? "
   ]
  },
  {
   "cell_type": "markdown",
   "metadata": {},
   "source": [
    "Using SciPy to our advantage we can utilize the function \"normaltest\" to determine if our datset has a normal distribution.  The scipy documention states, \"This function tests the null hypothesis that a sample comes from a normal distribution. It is based on D’Agostino and Pearson’s test that combines skew and kurtosis to produce an omnibus test of normality.\""
   ]
  },
  {
   "cell_type": "code",
   "execution_count": 102,
   "metadata": {
    "collapsed": false,
    "focus": false,
    "id": "9c365cbd-7b6d-46bf-b4e4-b0e2e7bd5ff6"
   },
   "outputs": [
    {
     "data": {
      "text/plain": [
       "NormaltestResult(statistic=array([ 601312.66835318,  601332.70315474,  572376.44707492,\n",
       "        682120.48632101,  452130.8371191 ,  268681.11963836,\n",
       "        388666.28044673,  381727.90994623,  241371.15242566,\n",
       "        343228.46193773,  223774.30842342,   99705.50799271,\n",
       "        179981.514105  ,   89504.1932594 ,  282416.88715862,\n",
       "        601334.44376626,  711642.1691817 ,  546823.0293196 ,\n",
       "        543249.8270913 ,  273819.13674719,  437522.68805677]), pvalue=array([ 0.,  0.,  0.,  0.,  0.,  0.,  0.,  0.,  0.,  0.,  0.,  0.,  0.,\n",
       "        0.,  0.,  0.,  0.,  0.,  0.,  0.,  0.]))"
      ]
     },
     "execution_count": 102,
     "metadata": {},
     "output_type": "execute_result"
    }
   ],
   "source": [
    "normaltest(df3)"
   ]
  },
  {
   "cell_type": "code",
   "execution_count": 103,
   "metadata": {
    "collapsed": false
   },
   "outputs": [],
   "source": [
    "df3_normalized = preprocessing.normalize(df3, norm='l2')"
   ]
  },
  {
   "cell_type": "markdown",
   "metadata": {
    "focus": false,
    "id": "17457da4-1175-4348-b10a-99f41f7a24dd"
   },
   "source": [
    "#### 4.2 Find correlations in the data"
   ]
  },
  {
   "cell_type": "markdown",
   "metadata": {},
   "source": [
    "As we move in to finding correlations and PCA analysis, it will be helpful to look at a specific portion of the dataset.  The below code truncates the columns we will be looking at to fit our model, using the variables we created earlier."
   ]
  },
  {
   "cell_type": "code",
   "execution_count": 104,
   "metadata": {
    "collapsed": false,
    "focus": false,
    "id": "78003f34-c0d8-40f6-bafe-e0892df3f1ca"
   },
   "outputs": [],
   "source": [
    "taxi1 = taxi[0:1000]\n",
    "gate_delay1 = gate_delay[0:1000]\n",
    "year1 = year[0:1000]\n",
    "taxi_delay1 = taxi_delay[0:1000]\n",
    "airborne_delay1 = airborne_delay[0:1000]"
   ]
  },
  {
   "cell_type": "markdown",
   "metadata": {},
   "source": [
    "\"personr\" calculates a Pearson correlation coefficient and the p-value for testing\n",
    "non-correlation.  \n",
    "\n",
    "The documentation for The Pearson correlation coefficient states that it, \"measures the linear relationship between two datasets. Strictly speaking, Pearson's correlation requires that each dataset be normally distributed, and not necessarily zero-mean. Like other correlation coefficients, this one varies between -1 and +1 with 0 implying no correlation. Correlations of -1 or +1 imply an exact linear relationship. Positive correlations imply that as x increases, so does y. Negative correlations imply that as x increases, y decreases.\"\n",
    "\n",
    "\n",
    "The p-value measures the strength of the relationship between x and y. In other words, it shows us how likely it is that the null hypothesis is true and in the case of a correlation, how likely it is that two arrays are or are not related to each other.  As the documentation states, p-values are not entirely reliable but are reasonable for datasets larger than 500 or so."
   ]
  },
  {
   "cell_type": "code",
   "execution_count": 105,
   "metadata": {
    "collapsed": false
   },
   "outputs": [
    {
     "data": {
      "text/plain": [
       "(0.52207601409465054, 5.2380583934433219e-71)"
      ]
     },
     "execution_count": 105,
     "metadata": {},
     "output_type": "execute_result"
    }
   ],
   "source": [
    "pearsonr(taxi1, airborne_delay1)"
   ]
  },
  {
   "cell_type": "code",
   "execution_count": 106,
   "metadata": {
    "collapsed": false,
    "scrolled": true
   },
   "outputs": [
    {
     "data": {
      "text/plain": [
       "(-0.35284387346879525, 1.0909315519623537e-30)"
      ]
     },
     "execution_count": 106,
     "metadata": {},
     "output_type": "execute_result"
    }
   ],
   "source": [
    "pearsonr(year1, airborne_delay1)"
   ]
  },
  {
   "cell_type": "code",
   "execution_count": 107,
   "metadata": {
    "collapsed": false,
    "scrolled": true
   },
   "outputs": [
    {
     "data": {
      "text/plain": [
       "(0.3835672471338829, 2.1283622921756145e-36)"
      ]
     },
     "execution_count": 107,
     "metadata": {},
     "output_type": "execute_result"
    }
   ],
   "source": [
    "pearsonr(gate_delay1, airborne_delay1)"
   ]
  },
  {
   "cell_type": "markdown",
   "metadata": {},
   "source": [
    "The personr tests have shown us that we are dealing with linear relationships in the datasets we have chosen to look at. In the case of year to airborne delay, y will decrease as x increases - whereas when comparing airborne delay to taxi delay and and gate delay, y will increase as x increases.\n",
    "\n",
    "An interesting observation here is that the data seems to be indicating that the older the airport data, the more frequent airborne delays.  This would imply that over time, as airports modernized, they saw less airborne delays.  One suggestion that could come out of this, if proven true, would be to invest in modernizing the older airports."
   ]
  },
  {
   "cell_type": "markdown",
   "metadata": {
    "focus": false,
    "id": "886b49bf-d7fa-41b0-b94c-740345580d88"
   },
   "source": [
    "#### 4.3 What is the value of understanding correlations before PCA? "
   ]
  },
  {
   "cell_type": "markdown",
   "metadata": {
    "focus": false,
    "id": "192df272-c2b1-46da-bcfa-c2b02d7445a8"
   },
   "source": [
    "Highly correlated variables will help us better understand patterns in our data as they are a common factor in PCA analysis."
   ]
  },
  {
   "cell_type": "markdown",
   "metadata": {
    "focus": false,
    "id": "87689b59-fda0-4a07-a9d3-95936deaf8ee"
   },
   "source": [
    "#### 4.4 How can you improve your overall analysis? "
   ]
  },
  {
   "cell_type": "markdown",
   "metadata": {
    "focus": false,
    "id": "000bc40d-e033-4621-82a4-e09717947fb3"
   },
   "source": [
    "We may be able to improve our analysis by reducing the amount of elements in our dataset.  We could also possibly find better correlations in other datasets."
   ]
  },
  {
   "cell_type": "markdown",
   "metadata": {
    "focus": false,
    "id": "cea5d879-f180-448a-bd50-b30b2b7d6d28"
   },
   "source": [
    "### Part 5: Perform a PCA and Present Findings"
   ]
  },
  {
   "cell_type": "markdown",
   "metadata": {
    "focus": false,
    "id": "27c1212c-3490-45ff-a6da-501075f3eee5"
   },
   "source": [
    "#### 5.1 Conduct the PCA"
   ]
  },
  {
   "cell_type": "code",
   "execution_count": 77,
   "metadata": {
    "collapsed": false,
    "focus": false,
    "id": "a8e7ac46-ba4f-47a8-99f8-b67a7f7e108e"
   },
   "outputs": [
    {
     "name": "stdout",
     "output_type": "stream",
     "text": [
      "   airport  year  average_taxi_out_time  average_gate_departure_delay  \\\n",
      "0        0  2004                   9.89                         10.38   \n",
      "1        0  2005                   9.79                          9.60   \n",
      "2        0  2006                   9.89                         10.84   \n",
      "3        0  2007                  10.34                         11.29   \n",
      "4        0  2008                  10.41                         10.79   \n",
      "\n",
      "   average taxi out delay  average airborne delay  \n",
      "0                    2.43                    2.46  \n",
      "1                    2.29                    2.26  \n",
      "2                    2.16                    2.12  \n",
      "3                    2.40                    2.19  \n",
      "4                    2.41                    1.82  \n"
     ]
    }
   ],
   "source": [
    "# Create a clean data frame \n",
    "df4 = df3[['airport','year','average_taxi_out_time','average_gate_departure_delay', 'average taxi out delay', 'average airborne delay']]\n",
    "print df4.head()"
   ]
  },
  {
   "cell_type": "markdown",
   "metadata": {},
   "source": [
    "Before diving deep in to PCA analysis, we can find some interesting correlations out of the raw data.  To do that I will create a dataset built on the most interesting columns in relation to delays."
   ]
  },
  {
   "cell_type": "code",
   "execution_count": 78,
   "metadata": {
    "collapsed": true
   },
   "outputs": [],
   "source": [
    "df4_columns = ['average_taxi_out_time','average_gate_departure_delay', 'average taxi out delay', 'average airborne delay']\n",
    "df4_compare = df4[df4_columns]"
   ]
  },
  {
   "cell_type": "markdown",
   "metadata": {},
   "source": [
    "We can then take those columns and standardize them with some simple arithmetic:"
   ]
  },
  {
   "cell_type": "code",
   "execution_count": 79,
   "metadata": {
    "collapsed": false
   },
   "outputs": [],
   "source": [
    "df4_compare = (df4_compare - df4_compare.mean()) / df4_compare.std()"
   ]
  },
  {
   "cell_type": "markdown",
   "metadata": {},
   "source": [
    "This allows us to see some basic correlations across the columns associated with delays - date is not included here.\n",
    "\n",
    "We see a direct correlation between average taxi out time and average departure delay, which is not suprising. \n",
    "\n",
    "However, average taxi out delay and average airborne delay do not seem to be correlated and that has some interesting implication.\n",
    "\n",
    "We will move on to a more robust PCA analysis from here to see if we can prove out these correlations in further detail."
   ]
  },
  {
   "cell_type": "code",
   "execution_count": 81,
   "metadata": {
    "collapsed": false
   },
   "outputs": [
    {
     "data": {
      "text/plain": [
       "<seaborn.axisgrid.PairGrid at 0x12f8c65d0>"
      ]
     },
     "execution_count": 81,
     "metadata": {},
     "output_type": "execute_result"
    },
    {
     "data": {
      "image/png": "[encoded data removed]",
      "text/plain": [
       "<matplotlib.figure.Figure at 0x12f8c6fd0>"
      ]
     },
     "metadata": {},
     "output_type": "display_data"
    }
   ],
   "source": [
    "sns.pairplot(df4_compare, kind='reg')"
   ]
  },
  {
   "cell_type": "markdown",
   "metadata": {},
   "source": [
    "I will now define my x and y variables to conduct a more in depth PCA analysis:"
   ]
  },
  {
   "cell_type": "code",
   "execution_count": 26,
   "metadata": {
    "collapsed": true,
    "focus": false,
    "id": "98fd6a42-89e0-4621-a70d-1e2c8c4bb975"
   },
   "outputs": [],
   "source": [
    "x = df4.ix[:,1:6].values\n",
    "y = df4.ix[:,0].values"
   ]
  },
  {
   "cell_type": "markdown",
   "metadata": {},
   "source": [
    "I then want to standardize my x variable (I chose to do this using StandardScalar):"
   ]
  },
  {
   "cell_type": "code",
   "execution_count": 27,
   "metadata": {
    "collapsed": true
   },
   "outputs": [],
   "source": [
    "xStand = preprocessing.StandardScaler().fit_transform(x)"
   ]
  },
  {
   "cell_type": "markdown",
   "metadata": {},
   "source": [
    "Next we create the coveriance matrix (Covariance indicates the level to which two variables vary together):"
   ]
  },
  {
   "cell_type": "code",
   "execution_count": 28,
   "metadata": {
    "collapsed": true
   },
   "outputs": [],
   "source": [
    "covMat = np.cov(xStand.T)\n",
    "eigenValues, eigenVectors = np.linalg.eig(covMat)"
   ]
  },
  {
   "cell_type": "markdown",
   "metadata": {},
   "source": [
    "Then we can check the Eigenvalues and Eigenvectors:"
   ]
  },
  {
   "cell_type": "code",
   "execution_count": 29,
   "metadata": {
    "collapsed": false
   },
   "outputs": [
    {
     "name": "stdout",
     "output_type": "stream",
     "text": [
      "[ 2.44388812  0.07281262  0.32263724  1.02017005  1.14049936]\n"
     ]
    }
   ],
   "source": [
    "print(eigenValues)"
   ]
  },
  {
   "cell_type": "code",
   "execution_count": 30,
   "metadata": {
    "collapsed": false
   },
   "outputs": [
    {
     "name": "stdout",
     "output_type": "stream",
     "text": [
      "[[ 0.19306352 -0.0906295  -0.32050182  0.89458841 -0.22694258]\n",
      " [-0.57588793  0.70638184  0.20813431  0.19517447 -0.29658865]\n",
      " [-0.18115436 -0.05769204  0.44411399  0.39109011  0.78336838]\n",
      " [-0.57410332 -0.69922001  0.24166833  0.05160777 -0.34702999]\n",
      " [-0.51833198 -0.02395826 -0.7735101  -0.07748336  0.35557898]]\n"
     ]
    }
   ],
   "source": [
    "print(eigenVectors)"
   ]
  },
  {
   "cell_type": "markdown",
   "metadata": {},
   "source": [
    "An eigenvalue tells us how much variance exists in the data in a certain direction, which is represented by theeigenvector. When conducting PCA analysis, think of our data as an ellipse, with the datapoints marking the outside rim of this elipse. When decomposed, the selected datapoints forming the outside of this ring are our eigenvalues.\n",
    "\n",
    "Now, let's imagine we drew a straight axis through the middle of this elipse; the distance between these points the axis would represent our eigenvectors From this, the eigenvectors that has the highest associated eigenvalues are our principal components.\n",
    "\n",
    "As you can see, there is an intuitive relationship between the covariance matrix and the eigenvectors/eigenvalues. Where the covariance matrix represents covariance across dimensions, its decomposition directly results in the eigenvector, which measures variance - we are simply reducing the dimensions so that we are left with fewer values."
   ]
  },
  {
   "cell_type": "markdown",
   "metadata": {},
   "source": [
    "This also allows us to find the Eigen Pairs:"
   ]
  },
  {
   "cell_type": "code",
   "execution_count": 27,
   "metadata": {
    "collapsed": false
   },
   "outputs": [
    {
     "name": "stdout",
     "output_type": "stream",
     "text": [
      "2.44388811951\n",
      "1.14049935853\n",
      "1.02017005327\n",
      "0.322637238878\n",
      "0.0728126152871\n"
     ]
    }
   ],
   "source": [
    "eigenPairs = [(np.abs(eigenValues[i]), eigenVectors[:,i]) for i in range(len(eigenValues))]\n",
    "eigenPairs.sort()\n",
    "eigenPairs.reverse()\n",
    "for i in eigenPairs:\n",
    "    print(i[0])"
   ]
  },
  {
   "cell_type": "markdown",
   "metadata": {},
   "source": [
    "Now we can conduct our PCA analysis:"
   ]
  },
  {
   "cell_type": "code",
   "execution_count": 44,
   "metadata": {
    "collapsed": false
   },
   "outputs": [],
   "source": [
    "PCA_A = PCA(n_components=5)\n",
    "Y = PCA_A.fit_transform(xStand)"
   ]
  },
  {
   "cell_type": "code",
   "execution_count": 45,
   "metadata": {
    "collapsed": false
   },
   "outputs": [
    {
     "name": "stdout",
     "output_type": "stream",
     "text": [
      "[[ 0.85408798  0.15646283 -1.87843258 -0.1905465   0.19955778]\n",
      " [ 1.08023724 -0.07535569 -1.65442507 -0.1251146   0.19248764]\n",
      " [ 1.17055318  0.0270676  -1.25723808 -0.2221403   0.17683032]\n",
      " ..., \n",
      " [ 0.52361749  3.13195367  1.83046886 -0.19949381 -0.24225838]\n",
      " [ 1.08859431  2.59800276  2.23478444 -1.06462088 -0.21664182]\n",
      " [ 0.77404429  2.77980503  2.50144188 -0.50341615 -0.21039137]]\n"
     ]
    }
   ],
   "source": [
    "print Y"
   ]
  },
  {
   "cell_type": "markdown",
   "metadata": {},
   "source": [
    "Creating a dataframe from the PCA analysis will allow us to visualize our results:"
   ]
  },
  {
   "cell_type": "code",
   "execution_count": 46,
   "metadata": {
    "collapsed": false
   },
   "outputs": [],
   "source": [
    "Ydf = pd.DataFrame(Y, columns=[\"PC1\", \"PC2\", \"PCA3\", \"PCA4\", \"PCA5\"])"
   ]
  },
  {
   "cell_type": "code",
   "execution_count": 47,
   "metadata": {
    "collapsed": false
   },
   "outputs": [],
   "source": [
    "components = PCA_A.components_"
   ]
  },
  {
   "cell_type": "markdown",
   "metadata": {},
   "source": [
    "We can use the below code to show the results of our PC vectors.  This allows us to observe some very relevant correlations in regards to delays in respect to our dataset.\n",
    "\n",
    "The index shows you what each vector represents - starting with year and going in order after that.  So in the case of PC1 weighting vector: Year = 0.19306352, Average Taxi Out Time = -0.57588793, Average Gate Departure Delay = -0.18115436,  Average Taxi Out Delay = -0.57410332, and Average Airborne Delay = -0.51833198\".  \n",
    "\n",
    "The below weighting vectors further prove that age has a direct correlation to delays.  Take note that whenever the Year vector is positive, the vectors associated with delays are in the negative.  \n",
    "\n",
    "We also see a correlation between Average Taxi Out Time and Average Taxi Out Delay - which is predictable.  \n",
    "\n",
    "Perhaps surprisingly, we also can take note that Average Airborne delay and Average Taxi Out Delay do not seem correlated.  This would imply that delays can occur whether an aircraft is on time or late to get off the ground.  "
   ]
  },
  {
   "cell_type": "code",
   "execution_count": 53,
   "metadata": {
    "collapsed": false
   },
   "outputs": [
    {
     "name": "stdout",
     "output_type": "stream",
     "text": [
      "Index([u'airport', u'year', u'average_taxi_out_time',\n",
      "       u'average_gate_departure_delay', u'average taxi out delay',\n",
      "       u'average airborne delay'],\n",
      "      dtype='object') \n",
      "\n",
      "-------------------------------------\n",
      "\n",
      "PC1 weighting vector: [ 0.19306352 -0.57588793 -0.18115436 -0.57410332 -0.51833198]\n",
      "-------------------------------------\n",
      "\n",
      "PC2 weighting vector: [-0.22694258 -0.29658865  0.78336838 -0.34702999  0.35557898]\n",
      "-------------------------------------\n",
      "\n",
      "PC3 weighting vector: [ 0.89458841  0.19517447  0.39109011  0.05160777 -0.07748336]\n",
      "-------------------------------------\n",
      "\n",
      "PC4 weighting vector: [ 0.32050182 -0.20813431 -0.44411399 -0.24166833  0.7735101 ]\n",
      "-------------------------------------\n",
      "\n",
      "PC5 weighting vector: [ 0.0906295  -0.70638184  0.05769204  0.69922001  0.02395826]\n",
      "-------------------------------------\n",
      "\n"
     ]
    }
   ],
   "source": [
    "print df4.columns, '\\n'\n",
    "print '-------------------------------------\\n'\n",
    "\n",
    "for i, pc in enumerate(['PC1','PC2','PC3', 'PC4', 'PC5']):\n",
    "    print pc, 'weighting vector:', components[i]\n",
    "    print '-------------------------------------\\n'"
   ]
  },
  {
   "cell_type": "markdown",
   "metadata": {},
   "source": [
    "We can also use a new dataframe - utilizing the airport and year columns - and join the PCA results with the new dataframe to form a new set and speak directly to our problem statement:"
   ]
  },
  {
   "cell_type": "code",
   "execution_count": 49,
   "metadata": {
    "collapsed": false
   },
   "outputs": [],
   "source": [
    "df5 = df4[['airport', 'year']]"
   ]
  },
  {
   "cell_type": "code",
   "execution_count": 50,
   "metadata": {
    "collapsed": false
   },
   "outputs": [],
   "source": [
    "airport_pca = df5.join(Ydf, on=None, how='left')"
   ]
  },
  {
   "cell_type": "markdown",
   "metadata": {
    "focus": false,
    "id": "63387c7b-3c90-4732-808c-298225e1c0fb"
   },
   "source": [
    "### Bonus: Create a 3-Dimensional Plot of your new dataset with PCA applied"
   ]
  },
  {
   "cell_type": "code",
   "execution_count": 51,
   "metadata": {
    "collapsed": false
   },
   "outputs": [
    {
     "data": {
      "text/plain": [
       "<matplotlib.axes._subplots.AxesSubplot at 0x1183abbd0>"
      ]
     },
     "execution_count": 51,
     "metadata": {},
     "output_type": "execute_result"
    },
    {
     "data": {
      "image/png": "[encoded data removed]",
      "text/plain": [
       "<matplotlib.figure.Figure at 0x1183abad0>"
      ]
     },
     "metadata": {},
     "output_type": "display_data"
    }
   ],
   "source": [
    "graph = airport_pca.plot(kind='scatter', x='PC2', y='PC1', figsize=(16,8))\n",
    "graph"
   ]
  },
  {
   "cell_type": "markdown",
   "metadata": {
    "focus": false,
    "id": "023d9120-1eb3-4f20-b083-5a8fa1605f06"
   },
   "source": [
    "#### 5.2 Write an analysis plan of your findings "
   ]
  },
  {
   "cell_type": "markdown",
   "metadata": {
    "focus": false,
    "id": "140af42e-0757-400e-ae39-0410a54d2581"
   },
   "source": [
    "PCA turned out to be a great resource in helping us better understand the provided dataset in relation to aiport/airline delays.  \n",
    "\n",
    "By far, the most helpful observation came from the age correlation we discovered in our PCA analysis.  In every model we tested, we saw a distinct increase in delays across the board, the older the report was.  This indicates that as airports and airlines modernized, they reduced their delays.  This justifies an argument that if aiports invested resources in modernizing their airlines and airports - they would see a decrease in delays both on the ground and in the air.  This would be my initial recommendation to the FAA.  \n",
    "\n",
    "From here I would like to build a more robust module in correlation to age, utilizing some other modeling techniques that could solidify the above recommendation.  I would also like to test some other models to find out what other correlations could be found in the data we were provided.  We did not look at the percentage of on time arrivals and departures, and I think there could be some very useful data in there."
   ]
  },
  {
   "cell_type": "markdown",
   "metadata": {
    "focus": false,
    "id": "8e08640c-4901-4724-9805-32c518521b2f"
   },
   "source": [
    "### Part 6: Copy your Database to AWS "
   ]
  },
  {
   "cell_type": "markdown",
   "metadata": {
    "focus": false,
    "id": "bf5d7088-46cd-4c47-9fcc-c1fd200cd164"
   },
   "source": [
    "Make sure to properly document all of the features of your dataset"
   ]
  },
  {
   "cell_type": "code",
   "execution_count": null,
   "metadata": {
    "collapsed": false,
    "focus": false,
    "id": "d181acff-8a70-40e9-8e39-fdc2b95550a2"
   },
   "outputs": [],
   "source": [
    "psql \\\n",
    "   -f mydb2dump.sql \\\n",
    "   --host dsi.cp1ptjkm04bz.us-west-1.rds.amazonaws.com \\\n",
    "   --port 5432 \\\n",
    "   --username usr_username \\\n",
    "   --password usr_psswrd \\\n",
    "   --dbname testtest "
   ]
  },
  {
   "cell_type": "markdown",
   "metadata": {},
   "source": [
    "Worked through terminal and posgres to put the databse on AWS using the template above as my final code."
   ]
  }
 ],
 "metadata": {
  "kernelspec": {
   "display_name": "Python 2",
   "language": "python",
   "name": "python2"
  },
  "language_info": {
   "codemirror_mode": {
    "name": "ipython",
    "version": 2
   },
   "file_extension": ".py",
   "mimetype": "text/x-python",
   "name": "python",
   "nbconvert_exporter": "python",
   "pygments_lexer": "ipython2",
   "version": "2.7.11"
  }
 },
 "nbformat": 4,
 "nbformat_minor": 0
}
