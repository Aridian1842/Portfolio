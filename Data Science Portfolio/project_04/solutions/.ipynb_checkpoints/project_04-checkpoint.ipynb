{
 "cells": [
  {
   "cell_type": "markdown",
   "metadata": {
    "focus": false,
    "id": "69b9a648-bcc7-490d-9f9b-ea244d156bd6"
   },
   "source": [
    "# Web Scraping for Indeed.com & Predicting Salaries"
   ]
  },
  {
   "cell_type": "markdown",
   "metadata": {
    "focus": false,
    "id": "34681254-c802-462f-829d-8894d0772d08"
   },
   "source": [
    "In this project, we will practice two major skills: collecting data by scraping a website and then building a binary predictor with Logistic Regression.\n",
    "\n",
    "We are going to collect salary information on data science jobs in a variety of markets. Then using the location, title and summary of the job we will attempt to predict the salary of the job. For job posting sites, this would be extraordinarily useful. While most listings DO NOT come with salary information (as you will see in this exercise), being to able extrapolate or predict the expected salaries from other listings can help guide negotiations.\n",
    "\n",
    "Normally, we could use regression for this task; however, we will convert this problem into classification and use Logistic Regression.\n",
    "\n",
    "- Question: Why would we want this to be a classification problem?\n",
    "- Answer: While more precision may be better, there is a fair amount of natural variance in job salaries - predicting a range be may be useful.\n",
    "\n",
    "Therefore, the first part of the assignment will be focused on scraping Indeed.com. In the second, we'll focus on using listings with salary information to build a model and predict additional salaries."
   ]
  },
  {
   "cell_type": "markdown",
   "metadata": {
    "focus": false,
    "id": "a948d79c-5527-4c0d-ab23-f5d43ce72056"
   },
   "source": [
    "### Scraping job listings from Indeed.com"
   ]
  },
  {
   "cell_type": "markdown",
   "metadata": {
    "focus": true,
    "id": "7203e0c9-e437-4802-a6ad-7dc464f94436"
   },
   "source": [
    "We will be scraping job listings from Indeed.com using BeautifulSoup. Luckily, Indeed.com is a simple text page where we can easily find relevant entries.\n",
    "\n",
    "First, look at the source of an Indeed.com page: (http://www.indeed.com/jobs?q=data+scientist+%2420%2C000&l=New+York&start=10\")\n",
    "\n",
    "Notice, each job listing is underneath a `div` tag with a class name of `result`. We can use BeautifulSoup to extract those. "
   ]
  },
  {
   "cell_type": "markdown",
   "metadata": {
    "focus": false,
    "id": "9732c901-ae26-4160-8376-42e22dd327df"
   },
   "source": [
    "#### Setup a request (using `requests`) to the URL below. Use BeautifulSoup to parse the page and extract all results (HINT: Look for div tags with class name result)"
   ]
  },
  {
   "cell_type": "code",
   "execution_count": 1,
   "metadata": {
    "collapsed": false,
    "focus": false,
    "id": "e915023e-6b0d-4982-af2a-b1e0355f4927"
   },
   "outputs": [],
   "source": [
    "URL = \"http://www.indeed.com/jobs?q=data+scientist+%2420%2C000&l=New+York&start=10\""
   ]
  },
  {
   "cell_type": "code",
   "execution_count": 2,
   "metadata": {
    "collapsed": true,
    "focus": false,
    "id": "2efefc73-064a-482d-b3b5-ddf5508cb4ec"
   },
   "outputs": [],
   "source": [
    "import requests\n",
    "import bs4\n",
    "from bs4 import BeautifulSoup"
   ]
  },
  {
   "cell_type": "code",
   "execution_count": 3,
   "metadata": {
    "collapsed": false,
    "focus": false,
    "id": "2c6752c4-7704-4c94-8bc0-6f13d2d0d570"
   },
   "outputs": [],
   "source": [
    "r = requests.get(URL)"
   ]
  },
  {
   "cell_type": "code",
   "execution_count": 4,
   "metadata": {
    "collapsed": false
   },
   "outputs": [],
   "source": [
    "bs = BeautifulSoup(r.content, \"lxml\")\n",
    "#print bs.prettify()"
   ]
  },
  {
   "cell_type": "code",
   "execution_count": 5,
   "metadata": {
    "collapsed": false
   },
   "outputs": [
    {
     "data": {
      "text/plain": [
       "[<h1><font size=\"+1\">data scientist $20,000 jobs in New York State</font></h1>]"
      ]
     },
     "execution_count": 5,
     "metadata": {},
     "output_type": "execute_result"
    }
   ],
   "source": [
    "bs.select('h1')"
   ]
  },
  {
   "cell_type": "code",
   "execution_count": 6,
   "metadata": {
    "collapsed": false
   },
   "outputs": [],
   "source": [
    "results = bs.findAll('div', {\"class\" : \" row  result\"})"
   ]
  },
  {
   "cell_type": "code",
   "execution_count": 7,
   "metadata": {
    "collapsed": true
   },
   "outputs": [],
   "source": [
    "#results = bs.findAll('div', {\"class\" : \"sjcl\"})"
   ]
  },
  {
   "cell_type": "markdown",
   "metadata": {
    "focus": false,
    "id": "bb0b866a-26a7-45e9-8084-5a0f90eb4b3e"
   },
   "source": [
    "Let's look at one result more closely. A single `result` looks like\n",
    "\n",
    "```\n",
    "<div class=\" row result\" data-jk=\"2480d203f7e97210\" data-tn-component=\"organicJob\" id=\"p_2480d203f7e97210\" itemscope=\"\" itemtype=\"http://schema.org/JobPosting\">\n",
    "<h2 class=\"jobtitle\" id=\"jl_2480d203f7e97210\">\n",
    "<a class=\"turnstileLink\" data-tn-element=\"jobTitle\" onmousedown=\"return rclk(this,jobmap[0],1);\" rel=\"nofollow\" target=\"_blank\" title=\"AVP/Quantitative Analyst\">AVP/Quantitative Analyst</a>\n",
    "</h2>\n",
    "<span class=\"company\" itemprop=\"hiringOrganization\" itemtype=\"http://schema.org/Organization\">\n",
    "<span itemprop=\"name\">\n",
    "<a href=\"/cmp/Alliancebernstein?from=SERP&amp;campaignid=serp-linkcompanyname&amp;fromjk=2480d203f7e97210&amp;jcid=b374f2a780e04789\" target=\"_blank\">\n",
    "    AllianceBernstein</a></span>\n",
    "</span>\n",
    "<tr>\n",
    "<td class=\"snip\">\n",
    "<nobr>$117,500 - $127,500 a year</nobr>\n",
    "<div>\n",
    "<span class=\"summary\" itemprop=\"description\">\n",
    "C onduct quantitative and statistical research as well as portfolio management for various investment portfolios. Collaborate with Quantitative Analysts and</span>\n",
    "</div>\n",
    "</div>\n",
    "</td>\n",
    "</tr>\n",
    "</table>\n",
    "</div>\n",
    "```\n",
    "\n",
    "While this has some more verbose elements removed, we can see that there is some structure to the above:\n",
    "- The salary is available in a `nobr` element inside of a `td` element with `class='snip`.\n",
    "- The title of a job is in a link with class set to `jobtitle` and a `data-tn-element=\"jobTitle`.  \n",
    "- The location is set in a `span` with `class='location'`. \n",
    "- The company is set in a `span` with `class='company'`. "
   ]
  },
  {
   "cell_type": "markdown",
   "metadata": {
    "focus": false,
    "id": "f1eddb90-4ba8-483c-a229-77e93aa53119"
   },
   "source": [
    "### Write 4 functions to extract each item: location, company, job, and salary.\n",
    "\n",
    "example: \n",
    "```python\n",
    "def extract_location_from_result(result):\n",
    "    return result.find ...\n",
    "```\n",
    "\n",
    "\n",
    "- Make sure these functions are robust and can handle cases where the data/field may not be available.\n",
    "- Test the functions on the results above"
   ]
  },
  {
   "cell_type": "code",
   "execution_count": 8,
   "metadata": {
    "collapsed": false
   },
   "outputs": [
    {
     "data": {
      "text/plain": [
       "u'PlaceIQ'"
      ]
     },
     "execution_count": 8,
     "metadata": {},
     "output_type": "execute_result"
    }
   ],
   "source": [
    "company = bs.select('span.company')\n",
    "company[3].text.strip()"
   ]
  },
  {
   "cell_type": "code",
   "execution_count": 9,
   "metadata": {
    "collapsed": false
   },
   "outputs": [
    {
     "data": {
      "text/plain": [
       "u'New York, NY'"
      ]
     },
     "execution_count": 9,
     "metadata": {},
     "output_type": "execute_result"
    }
   ],
   "source": [
    "location = bs.select('span.location')\n",
    "location[3].text.strip()"
   ]
  },
  {
   "cell_type": "code",
   "execution_count": 10,
   "metadata": {
    "collapsed": false
   },
   "outputs": [
    {
     "data": {
      "text/plain": [
       "[]"
      ]
     },
     "execution_count": 10,
     "metadata": {},
     "output_type": "execute_result"
    }
   ],
   "source": [
    "job = bs.findAll('a[data-tn-element=\"jobTitle\"]')\n",
    "job"
   ]
  },
  {
   "cell_type": "code",
   "execution_count": 44,
   "metadata": {
    "collapsed": true,
    "focus": false,
    "id": "a1af53c9-9090-494f-b82e-cadb60a54909"
   },
   "outputs": [],
   "source": [
    "\"\"\"\n",
    "#template\n",
    "def extract_text(el):\n",
    "    if el:\n",
    "        return el.text.strip()\n",
    "    else:\n",
    "        return ''\n",
    "\"\"\""
   ]
  },
  {
   "cell_type": "code",
   "execution_count": 46,
   "metadata": {
    "collapsed": false
   },
   "outputs": [
    {
     "name": "stdout",
     "output_type": "stream",
     "text": [
      "AbilTo, Inc\n"
     ]
    }
   ],
   "source": [
    "\"\"\"\n",
    "def get_company_from_result(result):\n",
    "    return extract_text(result.find('span', {'class' : 'company'}))\n",
    "print get_company_from_result(bs)\n",
    "\"\"\""
   ]
  },
  {
   "cell_type": "markdown",
   "metadata": {},
   "source": [
    "## Per new instructions the rest of the assignment will be done with an imported csv file."
   ]
  },
  {
   "cell_type": "code",
   "execution_count": 1,
   "metadata": {
    "collapsed": false,
    "focus": false,
    "id": "6e259594-1c52-436b-ab9e-527e071941c1"
   },
   "outputs": [],
   "source": [
    "import pandas as pd\n",
    "import numpy as np\n",
    "import matplotlib.pyplot as plt\n",
    "import seaborn as sns\n",
    "%matplotlib inline"
   ]
  },
  {
   "cell_type": "code",
   "execution_count": 2,
   "metadata": {
    "collapsed": false
   },
   "outputs": [
    {
     "data": {
      "text/html": [
       "<div>\n",
       "<table border=\"1\" class=\"dataframe\">\n",
       "  <thead>\n",
       "    <tr style=\"text-align: right;\">\n",
       "      <th></th>\n",
       "      <th>city</th>\n",
       "      <th>company</th>\n",
       "      <th>salary</th>\n",
       "      <th>summary</th>\n",
       "      <th>title</th>\n",
       "      <th>parsed_salary</th>\n",
       "    </tr>\n",
       "  </thead>\n",
       "  <tbody>\n",
       "    <tr>\n",
       "      <th>0</th>\n",
       "      <td>San+Francisco</td>\n",
       "      <td>MarkMonitor</td>\n",
       "      <td>$180,000 a year</td>\n",
       "      <td>Data skills (SQL, Hive, Pig). Applying machine...</td>\n",
       "      <td>Data Scientist</td>\n",
       "      <td>180000.0</td>\n",
       "    </tr>\n",
       "    <tr>\n",
       "      <th>1</th>\n",
       "      <td>San+Francisco</td>\n",
       "      <td>Workbridge Associates</td>\n",
       "      <td>$130,000 - $180,000 a year</td>\n",
       "      <td>3+ years of industry experience in a data scie...</td>\n",
       "      <td>Senior Data Scientist</td>\n",
       "      <td>155000.0</td>\n",
       "    </tr>\n",
       "    <tr>\n",
       "      <th>2</th>\n",
       "      <td>San+Francisco</td>\n",
       "      <td>Mines.io</td>\n",
       "      <td>$80,000 - $120,000 a year</td>\n",
       "      <td>We are looking for a data scientist/developer ...</td>\n",
       "      <td>Full-Stack Data Scientist</td>\n",
       "      <td>100000.0</td>\n",
       "    </tr>\n",
       "    <tr>\n",
       "      <th>3</th>\n",
       "      <td>San+Francisco</td>\n",
       "      <td>Workbridge Associates</td>\n",
       "      <td>$150,000 - $180,000 a year</td>\n",
       "      <td>In this position you will share programming an...</td>\n",
       "      <td>Data Scientist</td>\n",
       "      <td>165000.0</td>\n",
       "    </tr>\n",
       "    <tr>\n",
       "      <th>4</th>\n",
       "      <td>San+Francisco</td>\n",
       "      <td>Smith Hanley Associates</td>\n",
       "      <td>$140,000 a year</td>\n",
       "      <td>This person will recruit, build and lead a tea...</td>\n",
       "      <td>Data Scientist</td>\n",
       "      <td>140000.0</td>\n",
       "    </tr>\n",
       "  </tbody>\n",
       "</table>\n",
       "</div>"
      ],
      "text/plain": [
       "            city                  company                      salary  \\\n",
       "0  San+Francisco              MarkMonitor             $180,000 a year   \n",
       "1  San+Francisco    Workbridge Associates  $130,000 - $180,000 a year   \n",
       "2  San+Francisco                 Mines.io   $80,000 - $120,000 a year   \n",
       "3  San+Francisco    Workbridge Associates  $150,000 - $180,000 a year   \n",
       "4  San+Francisco  Smith Hanley Associates             $140,000 a year   \n",
       "\n",
       "                                             summary  \\\n",
       "0  Data skills (SQL, Hive, Pig). Applying machine...   \n",
       "1  3+ years of industry experience in a data scie...   \n",
       "2  We are looking for a data scientist/developer ...   \n",
       "3  In this position you will share programming an...   \n",
       "4  This person will recruit, build and lead a tea...   \n",
       "\n",
       "                       title  parsed_salary  \n",
       "0             Data Scientist       180000.0  \n",
       "1      Senior Data Scientist       155000.0  \n",
       "2  Full-Stack Data Scientist       100000.0  \n",
       "3             Data Scientist       165000.0  \n",
       "4             Data Scientist       140000.0  "
      ]
     },
     "execution_count": 2,
     "metadata": {},
     "output_type": "execute_result"
    }
   ],
   "source": [
    "df = pd.read_csv('../assets/indeed-scraped-job-postings.csv')\n",
    "df.head()"
   ]
  },
  {
   "cell_type": "code",
   "execution_count": 3,
   "metadata": {
    "collapsed": false
   },
   "outputs": [
    {
     "data": {
      "text/plain": [
       "city              object\n",
       "company           object\n",
       "salary            object\n",
       "summary           object\n",
       "title             object\n",
       "parsed_salary    float64\n",
       "dtype: object"
      ]
     },
     "execution_count": 3,
     "metadata": {},
     "output_type": "execute_result"
    }
   ],
   "source": [
    "df.dtypes"
   ]
  },
  {
   "cell_type": "code",
   "execution_count": 4,
   "metadata": {
    "collapsed": false
   },
   "outputs": [
    {
     "data": {
      "text/plain": [
       "(4791, 6)"
      ]
     },
     "execution_count": 4,
     "metadata": {},
     "output_type": "execute_result"
    }
   ],
   "source": [
    "df.shape"
   ]
  },
  {
   "cell_type": "code",
   "execution_count": 5,
   "metadata": {
    "collapsed": false
   },
   "outputs": [],
   "source": [
    "#removing the salary column, since we have a parsed salary column and removing summary since we will not be using it.\n",
    "del df['salary']\n",
    "del df['summary']"
   ]
  },
  {
   "cell_type": "code",
   "execution_count": 6,
   "metadata": {
    "collapsed": true
   },
   "outputs": [],
   "source": [
    "df2 = df"
   ]
  },
  {
   "cell_type": "markdown",
   "metadata": {},
   "source": [
    "There are a significant amount of duplicate roles that will skew our data predictions if left in."
   ]
  },
  {
   "cell_type": "code",
   "execution_count": 7,
   "metadata": {
    "collapsed": true
   },
   "outputs": [],
   "source": [
    "df2 = df2.drop_duplicates()"
   ]
  },
  {
   "cell_type": "code",
   "execution_count": 10,
   "metadata": {
    "collapsed": false
   },
   "outputs": [
    {
     "data": {
      "text/plain": [
       "(224, 4)"
      ]
     },
     "execution_count": 10,
     "metadata": {},
     "output_type": "execute_result"
    }
   ],
   "source": [
    "df2.shape"
   ]
  },
  {
   "cell_type": "markdown",
   "metadata": {},
   "source": [
    "In reviewing the salary column, it became apparent that there were both yearly and monthly salaries.  In order to resolve this, we can make an assumption that any salary under $20k is a monthly salary, as minimum wage would put a yearly salary above that.  "
   ]
  },
  {
   "cell_type": "code",
   "execution_count": 11,
   "metadata": {
    "collapsed": false
   },
   "outputs": [],
   "source": [
    "#Assuming that any salary under $20k is a monthly salary, we can use the following for loop to convert to a yearly\n",
    "salary_list = []\n",
    "for i in df['parsed_salary']:\n",
    "    if i < 20000.0:\n",
    "        salary_list.append(i*12)\n",
    "    else:\n",
    "        salary_list.append(i)"
   ]
  },
  {
   "cell_type": "code",
   "execution_count": 12,
   "metadata": {
    "collapsed": true
   },
   "outputs": [],
   "source": [
    "df['parsed_salary'] = salary_list"
   ]
  },
  {
   "cell_type": "code",
   "execution_count": 13,
   "metadata": {
    "collapsed": false
   },
   "outputs": [
    {
     "data": {
      "text/html": [
       "<div>\n",
       "<table border=\"1\" class=\"dataframe\">\n",
       "  <thead>\n",
       "    <tr style=\"text-align: right;\">\n",
       "      <th></th>\n",
       "      <th>city</th>\n",
       "      <th>company</th>\n",
       "      <th>title</th>\n",
       "      <th>parsed_salary</th>\n",
       "    </tr>\n",
       "  </thead>\n",
       "  <tbody>\n",
       "    <tr>\n",
       "      <th>0</th>\n",
       "      <td>San+Francisco</td>\n",
       "      <td>MarkMonitor</td>\n",
       "      <td>Data Scientist</td>\n",
       "      <td>180000.0</td>\n",
       "    </tr>\n",
       "    <tr>\n",
       "      <th>1</th>\n",
       "      <td>San+Francisco</td>\n",
       "      <td>Workbridge Associates</td>\n",
       "      <td>Senior Data Scientist</td>\n",
       "      <td>155000.0</td>\n",
       "    </tr>\n",
       "    <tr>\n",
       "      <th>2</th>\n",
       "      <td>San+Francisco</td>\n",
       "      <td>Mines.io</td>\n",
       "      <td>Full-Stack Data Scientist</td>\n",
       "      <td>100000.0</td>\n",
       "    </tr>\n",
       "    <tr>\n",
       "      <th>3</th>\n",
       "      <td>San+Francisco</td>\n",
       "      <td>Workbridge Associates</td>\n",
       "      <td>Data Scientist</td>\n",
       "      <td>165000.0</td>\n",
       "    </tr>\n",
       "    <tr>\n",
       "      <th>4</th>\n",
       "      <td>San+Francisco</td>\n",
       "      <td>Smith Hanley Associates</td>\n",
       "      <td>Data Scientist</td>\n",
       "      <td>140000.0</td>\n",
       "    </tr>\n",
       "  </tbody>\n",
       "</table>\n",
       "</div>"
      ],
      "text/plain": [
       "            city                  company                      title  \\\n",
       "0  San+Francisco              MarkMonitor             Data Scientist   \n",
       "1  San+Francisco    Workbridge Associates      Senior Data Scientist   \n",
       "2  San+Francisco                 Mines.io  Full-Stack Data Scientist   \n",
       "3  San+Francisco    Workbridge Associates             Data Scientist   \n",
       "4  San+Francisco  Smith Hanley Associates             Data Scientist   \n",
       "\n",
       "   parsed_salary  \n",
       "0       180000.0  \n",
       "1       155000.0  \n",
       "2       100000.0  \n",
       "3       165000.0  \n",
       "4       140000.0  "
      ]
     },
     "execution_count": 13,
     "metadata": {},
     "output_type": "execute_result"
    }
   ],
   "source": [
    "df.head()"
   ]
  },
  {
   "cell_type": "code",
   "execution_count": 14,
   "metadata": {
    "collapsed": false,
    "scrolled": true
   },
   "outputs": [
    {
     "name": "stderr",
     "output_type": "stream",
     "text": [
      "/anaconda/lib/python2.7/site-packages/ipykernel/__main__.py:2: SettingWithCopyWarning: \n",
      "A value is trying to be set on a copy of a slice from a DataFrame.\n",
      "Try using .loc[row_indexer,col_indexer] = value instead\n",
      "\n",
      "See the caveats in the documentation: http://pandas.pydata.org/pandas-docs/stable/indexing.html#indexing-view-versus-copy\n",
      "  from ipykernel import kernelapp as app\n"
     ]
    }
   ],
   "source": [
    "#Removing the '+' in the city column and replacing it with a space\n",
    "df2['city'] = df2['city'].map(lambda x: x.replace('+', ' '))"
   ]
  },
  {
   "cell_type": "code",
   "execution_count": 15,
   "metadata": {
    "collapsed": false
   },
   "outputs": [
    {
     "data": {
      "text/html": [
       "<div>\n",
       "<table border=\"1\" class=\"dataframe\">\n",
       "  <thead>\n",
       "    <tr style=\"text-align: right;\">\n",
       "      <th></th>\n",
       "      <th>city</th>\n",
       "      <th>company</th>\n",
       "      <th>title</th>\n",
       "      <th>parsed_salary</th>\n",
       "    </tr>\n",
       "  </thead>\n",
       "  <tbody>\n",
       "    <tr>\n",
       "      <th>0</th>\n",
       "      <td>San Francisco</td>\n",
       "      <td>MarkMonitor</td>\n",
       "      <td>Data Scientist</td>\n",
       "      <td>180000.0</td>\n",
       "    </tr>\n",
       "    <tr>\n",
       "      <th>1</th>\n",
       "      <td>San Francisco</td>\n",
       "      <td>Workbridge Associates</td>\n",
       "      <td>Senior Data Scientist</td>\n",
       "      <td>155000.0</td>\n",
       "    </tr>\n",
       "    <tr>\n",
       "      <th>2</th>\n",
       "      <td>San Francisco</td>\n",
       "      <td>Mines.io</td>\n",
       "      <td>Full-Stack Data Scientist</td>\n",
       "      <td>100000.0</td>\n",
       "    </tr>\n",
       "    <tr>\n",
       "      <th>3</th>\n",
       "      <td>San Francisco</td>\n",
       "      <td>Workbridge Associates</td>\n",
       "      <td>Data Scientist</td>\n",
       "      <td>165000.0</td>\n",
       "    </tr>\n",
       "    <tr>\n",
       "      <th>4</th>\n",
       "      <td>San Francisco</td>\n",
       "      <td>Smith Hanley Associates</td>\n",
       "      <td>Data Scientist</td>\n",
       "      <td>140000.0</td>\n",
       "    </tr>\n",
       "  </tbody>\n",
       "</table>\n",
       "</div>"
      ],
      "text/plain": [
       "            city                  company                      title  \\\n",
       "0  San Francisco              MarkMonitor             Data Scientist   \n",
       "1  San Francisco    Workbridge Associates      Senior Data Scientist   \n",
       "2  San Francisco                 Mines.io  Full-Stack Data Scientist   \n",
       "3  San Francisco    Workbridge Associates             Data Scientist   \n",
       "4  San Francisco  Smith Hanley Associates             Data Scientist   \n",
       "\n",
       "   parsed_salary  \n",
       "0       180000.0  \n",
       "1       155000.0  \n",
       "2       100000.0  \n",
       "3       165000.0  \n",
       "4       140000.0  "
      ]
     },
     "execution_count": 15,
     "metadata": {},
     "output_type": "execute_result"
    }
   ],
   "source": [
    "df2.head()"
   ]
  },
  {
   "cell_type": "markdown",
   "metadata": {},
   "source": [
    "Exploring the data in order to determine the columns I will be using in my regression"
   ]
  },
  {
   "cell_type": "code",
   "execution_count": 16,
   "metadata": {
    "collapsed": false,
    "scrolled": true
   },
   "outputs": [
    {
     "data": {
      "text/plain": [
       "{'Austin', 'Chicago', 'New York', 'San Francisco', 'Seattle'}"
      ]
     },
     "execution_count": 16,
     "metadata": {},
     "output_type": "execute_result"
    }
   ],
   "source": [
    "set(df2['city'])"
   ]
  },
  {
   "cell_type": "code",
   "execution_count": 17,
   "metadata": {
    "collapsed": false
   },
   "outputs": [
    {
     "data": {
      "text/plain": [
       "{'3coast',\n",
       " \"ADMIN FOR CHILDREN'S SVCS\",\n",
       " 'All-In Analytics',\n",
       " 'AllianceBernstein',\n",
       " 'Analytic Recruiting',\n",
       " 'AreteX Engineering',\n",
       " 'Atrium Staffing',\n",
       " 'Averity',\n",
       " 'Brilent',\n",
       " 'California State University',\n",
       " 'Clinical Management Consultants',\n",
       " 'Corporate Labs Technology',\n",
       " 'DEPARTMENT OF FINANCE',\n",
       " 'DEPT OF ENVIRONMENT PROTECTION',\n",
       " 'DEPT OF HEALTH/MENTAL HYGIENE',\n",
       " 'Datacom Technology Group',\n",
       " 'Department Of Veterans Affairs',\n",
       " 'Department of the Navy',\n",
       " 'Dept of State Health Services',\n",
       " 'Econtetni',\n",
       " 'Emoters Robotics',\n",
       " 'Empiric Solutions',\n",
       " 'Etech Hi Inc.',\n",
       " 'Execsolution, Inc.',\n",
       " 'FIRE DEPARTMENT',\n",
       " 'Food Management Search',\n",
       " 'Galvanize',\n",
       " 'HOUSING PRESERVATION & DVLPMNT',\n",
       " 'HRA/DEPT OF SOCIAL SERVICES',\n",
       " 'HSF Consulting',\n",
       " 'Harvey Nash USA',\n",
       " 'Health Research Incorporated',\n",
       " 'Health, Department of',\n",
       " 'Helix Sleep',\n",
       " 'Hire Solutions Inc.',\n",
       " 'Hirewell',\n",
       " 'ITStaff Technical Resources',\n",
       " 'Infinity Consulting Solutions',\n",
       " 'Insurance Fund, State',\n",
       " 'JE Compliance',\n",
       " 'Jobspring Partners',\n",
       " 'King County',\n",
       " 'LT',\n",
       " 'MarkMonitor',\n",
       " 'Mines.io',\n",
       " 'Myriad Development',\n",
       " 'NJF Search',\n",
       " 'NextGen Jane, Inc.',\n",
       " 'North shore Staffing Group',\n",
       " 'NuWest Group',\n",
       " 'OFFICE OF LABOR RELATIONS',\n",
       " 'Oliver James Associates',\n",
       " 'POLICE DEPARTMENT',\n",
       " 'Penfield Search Partners',\n",
       " 'Prime Team Partners',\n",
       " 'Princeton Consulting',\n",
       " 'Providence Partners',\n",
       " 'Pullskill Technologies',\n",
       " 'Rakuten, Inc.',\n",
       " 'Research Foundation of The City University of New...',\n",
       " 'Roc Search',\n",
       " 'Roland & Associates',\n",
       " 'Selby Jennings',\n",
       " 'Smart Host',\n",
       " 'Smith Arnold Partners',\n",
       " 'Smith Hanley Associates',\n",
       " 'Talent Compliance Consulting Services',\n",
       " 'TalentHub Worldwide',\n",
       " 'TechTank Staffing & Consulting Solutions',\n",
       " 'Technical Source',\n",
       " 'Texas Department of Public Safety',\n",
       " 'The Big Game Hunter',\n",
       " 'The University of Texas System',\n",
       " 'University at Buffalo',\n",
       " 'University of California Berkeley',\n",
       " 'University of Texas at Austin',\n",
       " 'University of Washington',\n",
       " 'University of Washington Medical Center',\n",
       " 'University of Washington School of Medicine',\n",
       " 'Univision communications inc',\n",
       " 'Wade & Wendy',\n",
       " 'Washington State Government',\n",
       " 'Workbridge Associates',\n",
       " 'ingenium'}"
      ]
     },
     "execution_count": 17,
     "metadata": {},
     "output_type": "execute_result"
    }
   ],
   "source": [
    "set(df2['company'])"
   ]
  },
  {
   "cell_type": "code",
   "execution_count": 18,
   "metadata": {
    "collapsed": false
   },
   "outputs": [
    {
     "data": {
      "text/plain": [
       "{'(Sr.) Statistical Consultant',\n",
       " 'AVP/Quantitative Analyst',\n",
       " 'Administrative Analyst/Specialist, Exempt I - Office of Rese...',\n",
       " 'Administrative Assistant',\n",
       " 'Analyst, Strategy & Insights \\xe2\\x80\\x93 Custom Research',\n",
       " 'Assistant Director Biostatistics',\n",
       " 'Assistant Research Scientist (Virology) - 34114',\n",
       " 'Associate Director Statistics Phase I',\n",
       " 'Assurance Coordinator, Bureau of Sexually Transmitted Diseas...',\n",
       " 'Big Data Engineer',\n",
       " 'Business Analyst ( Data)',\n",
       " 'Business Data Analyst',\n",
       " 'Business Intelligence Data Scientist',\n",
       " 'Business Intelligence Scientist',\n",
       " 'CHARGE CAPTURE COORDINATOR',\n",
       " 'CLINICAL LABORATORY TECHNICIAN 1',\n",
       " 'COMPUTER MAINTENANCE TECHNICIAN 3',\n",
       " 'CONTACT CENTER REPRESENTATIVE 1 - CANDIDATE BANK',\n",
       " 'Chief Algorithm Developer (Signal Processing) - Wearables',\n",
       " 'Child Welfare Analyst',\n",
       " 'DATA ANALYST',\n",
       " 'DRIVER-WAREHOUSE WORKER',\n",
       " 'Data Analyst / Scientist',\n",
       " 'Data Analyst, Bureau of Chronic Disease Prevention and Tobac...',\n",
       " 'Data Engineer',\n",
       " 'Data Engineer (Partially Remote)',\n",
       " 'Data Science Engineer',\n",
       " 'Data Science Resident (DSR), Data Engineering Resident (DER)...',\n",
       " 'Data Scientist',\n",
       " 'Data Scientist (AML Experience)',\n",
       " 'Data Scientist (Econometrics)',\n",
       " 'Data Scientist (Lead)',\n",
       " 'Data Scientist (Machine Learning)',\n",
       " 'Data Scientist (Natural Language Processing)',\n",
       " 'Data Scientist (Software Engineering)',\n",
       " 'Data Scientist (Statistics/Economics)',\n",
       " 'Data Scientist - Big Data',\n",
       " 'Data Scientist - Digital Marketing - Technology Start-Up',\n",
       " 'Data Scientist - Life Sciences',\n",
       " 'Data Scientist - North Austin/80k/Analytics',\n",
       " 'Data Scientist - Python',\n",
       " 'Data Scientist -Fitness/Wellness Firm',\n",
       " 'Data Scientist Programmer/Specialist',\n",
       " 'Data Use and Research Analyst, Bureau of Vital Statistics',\n",
       " 'Database Administrator, GSE',\n",
       " 'Digital Data Scientist',\n",
       " 'Director of Data Analytics',\n",
       " 'Director of Data Science',\n",
       " 'Director of Data Science (Mapping)',\n",
       " 'Director of Predictive Analytics (Statistician)',\n",
       " 'Director of Qualitative Review & Evaluation Unit',\n",
       " 'ELECTRONIC INVOICE SPECIALIST, HMC ACCTS PAYABLE',\n",
       " 'Emergency Preparedness Coordinator, Bureau of Healthcare Sys...',\n",
       " 'Engineering Scientist - GNSS Analyst',\n",
       " 'Engineering Scientist - Geospatial Application Software Deve...',\n",
       " 'Engineering Scientist - R and D Algorithm and System Develop...',\n",
       " 'Engineering Scientist - Senior Software Defined Radio Receiv...',\n",
       " 'Engineering Scientist - Underwater Robotics Algorithm Lead',\n",
       " 'Engineering Scientist Associate - GNSS Analyst Associate',\n",
       " 'Engineering Scientist Associate - R and D Software Developer',\n",
       " 'Engineering Scientist Associate - Software Defined Radio Rec...',\n",
       " 'Engineering Scientist Associate - Software Engineering Assoc...',\n",
       " 'Engineering Scientist Associate - Underwater Robotics Algori...',\n",
       " 'Equity Research Analyst \\xe2\\x80\\x93 Biotech - Chicago, IL',\n",
       " 'Erlang Engineer',\n",
       " 'Evaluator/Statistician, Family and Child Health/Bureau of Sc...',\n",
       " 'Executive Director of Data Governance',\n",
       " 'Food Scientist MS or PhD - Meat Products',\n",
       " 'Fraud Data Scientist',\n",
       " 'Full-Stack Data Scientist',\n",
       " 'HIV Phylogenetic Testing Group Leader, Bureau of Public Heal...',\n",
       " 'Institutional Research Analyst',\n",
       " 'International Environmental Specialist',\n",
       " 'JR. Full Stack Developer',\n",
       " 'Java Developer',\n",
       " 'Junior Quantitative Analyst / Developer for $5B Hedge Fund',\n",
       " 'Junior Research Analyst, Family and Child Health Administrat...',\n",
       " 'Lead Data Engineer',\n",
       " 'Lead Data Scientist',\n",
       " 'Lecturer - Statistics - Department of Statistics (includes s...',\n",
       " 'Linkage Specialist',\n",
       " 'MEDICAL LABORATORY SCIENTIST 1 OR TRAINEE',\n",
       " 'MEDICAL LABORATORY SCIENTIST 2',\n",
       " 'MEDICAL LABORATORY SCIENTIST-TRAINEE OR 1',\n",
       " 'Machine Learning Data Engineer',\n",
       " 'Machine Learning Engineer',\n",
       " 'Machine Learning Engineer Entry Level',\n",
       " 'Machine Learning Research Scientist - Hedgefund',\n",
       " 'Manager Health Information Management Data Analysis HIM',\n",
       " 'Manager of Data Science (Python, R)',\n",
       " 'Market Research Analyst',\n",
       " 'Market Research Senior Analyst',\n",
       " 'Medical Technologist (Laboratory Information Manager)',\n",
       " 'Mid-Level C# .NET Software Engineer',\n",
       " 'Mid-Level Data Engineer',\n",
       " 'Molecular Biology Researcher',\n",
       " 'NSF-Sponsored Postdoctoral Fellow: EEG Analysis',\n",
       " 'OFFICE OPERATIONS AND ACCESSIONS ANALYST',\n",
       " 'PATIENT FINANCIAL SERVICES SPECIALIST 2',\n",
       " 'PROPERTY AND EVIDENCE CUSTODIAN',\n",
       " 'Policy Data Analyst',\n",
       " 'Post-Doctoral Scholar-Employee: Analysis of omics data',\n",
       " 'Postdoc / Research Scientist',\n",
       " 'Predictive Analytics Professionals-- ROAD WARRIORS',\n",
       " 'Predictive Risk Analyst',\n",
       " 'Principal Data Scientist',\n",
       " 'Product Development Specialist - Food R&D',\n",
       " 'Program Coordinator',\n",
       " 'Program Research Specialist III',\n",
       " 'Project Coordinator, Bureau of HIV/AIDS Prevention and Contr...',\n",
       " 'Property Valuation Modeler',\n",
       " 'Python Developer (Machine Learning)',\n",
       " 'QA Engineer',\n",
       " 'Quality Assurance Officer',\n",
       " 'Quality Control Scientist',\n",
       " 'Quantitative Analyst',\n",
       " 'Quantitative Analyst (Big Data Focus) at $10+ Billion Hedge...',\n",
       " 'Quantitative Analyst (Fundamental Quant Equities) - Hedge Fu...',\n",
       " 'Quantitative Data Scientist - Large Asset Manager',\n",
       " 'Quantitative Researcher, Machine Learning & Bayesian inferen...',\n",
       " 'RESEARCH STUDY ASSISTANT',\n",
       " 'RESEARCH STUDY COORDINATOR 2 (50%)',\n",
       " 'Reportable Disease Analyst, Bureau of Communicable Diseases',\n",
       " 'Research Analyst',\n",
       " 'Research Analyst (excel, analysis, client-facing)',\n",
       " 'Research Analyst, Bureau of Systems Strengthening and Access',\n",
       " 'Research Analyst/Customer Serv',\n",
       " 'Research Analyst/Operations',\n",
       " 'Research Associate - Array Processing Scientist',\n",
       " 'Research Associate - R and D Data Scientist',\n",
       " 'Research Associate, Bureau of Systems Strengthening and Acce...',\n",
       " 'Research Associate- CHO Cell Process Development',\n",
       " 'Research Engineering/ Scientist Assistant - Laboratory Techn...',\n",
       " 'Research Engineering/ Scientist Associate II - Paleontology...',\n",
       " 'Research Engineering/ Scientist Associate IV',\n",
       " 'Research Engineering/ Scientist Associate IV - Spatial Data...',\n",
       " 'Research Scientist',\n",
       " 'Research Scientist I',\n",
       " 'Researcher and Data Analyst, Developmental Disabilities',\n",
       " 'Robotics software engineer (involves machine learning, AI, a...',\n",
       " 'SERVICE DESK ANALYST',\n",
       " 'SR. SCIENTIST',\n",
       " 'STATISTICIAN, LEVEL I',\n",
       " 'STOCKROOM ATTENDANT 2',\n",
       " 'Scientific Researcher',\n",
       " 'Senior Business Intelligence Data Scientist',\n",
       " 'Senior Business Intelligence Scientist',\n",
       " 'Senior Data Analyst',\n",
       " 'Senior Data Analyst, Bureau of Sexually Transmitted Disease',\n",
       " 'Senior Data Analyst, Bureau of Sexually Transmitted Disease...',\n",
       " 'Senior Data Scientist',\n",
       " 'Senior Data Scientist (Autonomous Vehicle Research)',\n",
       " 'Senior Data Scientist (Deep Learning or NLP)',\n",
       " 'Senior Data Scientist (FinTech)',\n",
       " 'Senior Data Scientist (Healthcare)',\n",
       " 'Senior Data Scientist (Python, R) in Des Plaines',\n",
       " 'Senior Data Scientist (Python, R, recommendation)',\n",
       " 'Senior Deep Learning Data Scientist',\n",
       " 'Senior Java Computer Scientist',\n",
       " 'Senior NLP Scientist/Engineer',\n",
       " 'Senior Quantitative/Machine Learning - Contract',\n",
       " 'Senior Research Analyst',\n",
       " 'Senior Statistical Market Research Analyst',\n",
       " 'Software Development Engineer (Machine Learning)',\n",
       " 'Sr. Data Scientist, Compensation Analytics',\n",
       " 'Sr. Global Device Manager',\n",
       " 'Sr. Machine Learning Data Scientist',\n",
       " 'Staff Engineer, Machine Learning (Scala)',\n",
       " 'Staff Research Associate, PMB',\n",
       " 'Statistical Analyst',\n",
       " 'Statistician',\n",
       " 'Statistician III-IV, HSOC, THP-Austin',\n",
       " 'Statistician \\xe2\\x80\\x93 Trading Firm',\n",
       " 'Surveillance analyst, Bureau of Communicable Diseases',\n",
       " 'Survey Methodologist',\n",
       " 'Technical Project Manager/Business Analyst',\n",
       " 'Technical Researcher',\n",
       " 'Trace Organics - Environmental Lab Scientist II',\n",
       " 'VP - Predictive Modeling / Data Scientist',\n",
       " 'VP - Predictive Modeling Actuary',\n",
       " 'VP Data Scientist',\n",
       " 'VP of Data Services',\n",
       " 'Vice President Engineering (Big Data/ Machine Learning)',\n",
       " 'Water Quality Modeler'}"
      ]
     },
     "execution_count": 18,
     "metadata": {},
     "output_type": "execute_result"
    }
   ],
   "source": [
    "set(df2['title'])"
   ]
  },
  {
   "cell_type": "markdown",
   "metadata": {
    "collapsed": false,
    "focus": false,
    "id": "43e71edd-210e-42b1-9336-70a931f048af"
   },
   "source": [
    "### Save your results as a CSV"
   ]
  },
  {
   "cell_type": "code",
   "execution_count": 19,
   "metadata": {
    "collapsed": false,
    "focus": false,
    "id": "783fd153-28ac-47ab-bfca-27e7c1de95b4"
   },
   "outputs": [],
   "source": [
    "df2.to_csv('df2.csv')"
   ]
  },
  {
   "cell_type": "markdown",
   "metadata": {
    "focus": false,
    "id": "04563b69-f7b6-466f-9d65-fc62c9ddee6a"
   },
   "source": [
    "## Predicting salaries using Logistic Regression"
   ]
  },
  {
   "cell_type": "code",
   "execution_count": 20,
   "metadata": {
    "collapsed": true
   },
   "outputs": [],
   "source": [
    "#### Load in the the data of scraped salaries"
   ]
  },
  {
   "cell_type": "markdown",
   "metadata": {
    "collapsed": false,
    "focus": false,
    "id": "588f9845-6143-4bcc-bfd1-85d45b79303d"
   },
   "source": [
    "Using the df2 pandas dataframe per new instructions"
   ]
  },
  {
   "cell_type": "code",
   "execution_count": 21,
   "metadata": {
    "collapsed": false
   },
   "outputs": [
    {
     "data": {
      "text/html": [
       "<div>\n",
       "<table border=\"1\" class=\"dataframe\">\n",
       "  <thead>\n",
       "    <tr style=\"text-align: right;\">\n",
       "      <th></th>\n",
       "      <th>city</th>\n",
       "      <th>company</th>\n",
       "      <th>title</th>\n",
       "      <th>parsed_salary</th>\n",
       "    </tr>\n",
       "  </thead>\n",
       "  <tbody>\n",
       "    <tr>\n",
       "      <th>0</th>\n",
       "      <td>San Francisco</td>\n",
       "      <td>MarkMonitor</td>\n",
       "      <td>Data Scientist</td>\n",
       "      <td>180000.0</td>\n",
       "    </tr>\n",
       "    <tr>\n",
       "      <th>1</th>\n",
       "      <td>San Francisco</td>\n",
       "      <td>Workbridge Associates</td>\n",
       "      <td>Senior Data Scientist</td>\n",
       "      <td>155000.0</td>\n",
       "    </tr>\n",
       "    <tr>\n",
       "      <th>2</th>\n",
       "      <td>San Francisco</td>\n",
       "      <td>Mines.io</td>\n",
       "      <td>Full-Stack Data Scientist</td>\n",
       "      <td>100000.0</td>\n",
       "    </tr>\n",
       "    <tr>\n",
       "      <th>3</th>\n",
       "      <td>San Francisco</td>\n",
       "      <td>Workbridge Associates</td>\n",
       "      <td>Data Scientist</td>\n",
       "      <td>165000.0</td>\n",
       "    </tr>\n",
       "    <tr>\n",
       "      <th>4</th>\n",
       "      <td>San Francisco</td>\n",
       "      <td>Smith Hanley Associates</td>\n",
       "      <td>Data Scientist</td>\n",
       "      <td>140000.0</td>\n",
       "    </tr>\n",
       "  </tbody>\n",
       "</table>\n",
       "</div>"
      ],
      "text/plain": [
       "            city                  company                      title  \\\n",
       "0  San Francisco              MarkMonitor             Data Scientist   \n",
       "1  San Francisco    Workbridge Associates      Senior Data Scientist   \n",
       "2  San Francisco                 Mines.io  Full-Stack Data Scientist   \n",
       "3  San Francisco    Workbridge Associates             Data Scientist   \n",
       "4  San Francisco  Smith Hanley Associates             Data Scientist   \n",
       "\n",
       "   parsed_salary  \n",
       "0       180000.0  \n",
       "1       155000.0  \n",
       "2       100000.0  \n",
       "3       165000.0  \n",
       "4       140000.0  "
      ]
     },
     "execution_count": 21,
     "metadata": {},
     "output_type": "execute_result"
    }
   ],
   "source": [
    "df2.head()"
   ]
  },
  {
   "cell_type": "markdown",
   "metadata": {},
   "source": [
    "Problem Statement:  Relocating for a job can be difficult. Knowing there is a bigger paycheck at the end of the road can ease the stress of that relocation. Here, we use logistic regression to predict whether a job will be above a median salary based on location, job title, and company."
   ]
  },
  {
   "cell_type": "markdown",
   "metadata": {
    "focus": false,
    "id": "c7631f51-07f2-4c79-a093-3e9bc7849a48"
   },
   "source": [
    "#### We want to predict a binary variable - whether the salary was low or high. Compute the median salary and create a new binary variable that is true when the salary is high (above the median)"
   ]
  },
  {
   "cell_type": "code",
   "execution_count": 22,
   "metadata": {
    "collapsed": false,
    "focus": false,
    "id": "c20d2498-151c-44c3-a453-3a333c79a0ac"
   },
   "outputs": [],
   "source": [
    "from sklearn.neighbors import KNeighborsClassifier\n",
    "from sklearn.metrics import confusion_matrix\n",
    "from sklearn import cross_validation\n",
    "from sklearn.linear_model import LogisticRegression"
   ]
  },
  {
   "cell_type": "code",
   "execution_count": 23,
   "metadata": {
    "collapsed": false
   },
   "outputs": [
    {
     "data": {
      "text/plain": [
       "94159.54484304933"
      ]
     },
     "execution_count": 23,
     "metadata": {},
     "output_type": "execute_result"
    }
   ],
   "source": [
    "#originally calculated mean because median was returning a nan value - but left in code because it is good to know.\n",
    "np.mean(df2['parsed_salary'])"
   ]
  },
  {
   "cell_type": "markdown",
   "metadata": {},
   "source": [
    "I actually ran the below model on the mean and returned a .68 AUC score.  Ultimately, the median returned a much better model and fits the needs of what the project is asking for."
   ]
  },
  {
   "cell_type": "code",
   "execution_count": 24,
   "metadata": {
    "collapsed": false
   },
   "outputs": [],
   "source": [
    "#there is a na value that is not allowing me to calculate the median, so I use dropna to resolve that.\n",
    "df2 = df2.dropna()"
   ]
  },
  {
   "cell_type": "code",
   "execution_count": 25,
   "metadata": {
    "collapsed": false
   },
   "outputs": [
    {
     "data": {
      "text/plain": [
       "88331.0"
      ]
     },
     "execution_count": 25,
     "metadata": {},
     "output_type": "execute_result"
    }
   ],
   "source": [
    "np.median(df2['parsed_salary'])"
   ]
  },
  {
   "cell_type": "markdown",
   "metadata": {},
   "source": [
    "The below code will create the binary variable for salary."
   ]
  },
  {
   "cell_type": "code",
   "execution_count": 26,
   "metadata": {
    "collapsed": false
   },
   "outputs": [],
   "source": [
    "salary_bin = [1 if x >= 8831 else 0 for x in df2['parsed_salary']] #rounded up from the median"
   ]
  },
  {
   "cell_type": "markdown",
   "metadata": {},
   "source": [
    "Replacing the current 'parsed_salary' column with the new binary variable we created."
   ]
  },
  {
   "cell_type": "code",
   "execution_count": 27,
   "metadata": {
    "collapsed": false
   },
   "outputs": [],
   "source": [
    "df2['parsed_salary'] = salary_bin"
   ]
  },
  {
   "cell_type": "markdown",
   "metadata": {},
   "source": [
    "Converting cities to dummy variables to enable a logistical regression comparing city to salary."
   ]
  },
  {
   "cell_type": "code",
   "execution_count": 28,
   "metadata": {
    "collapsed": false
   },
   "outputs": [],
   "source": [
    "df2 = df2.join(pd.get_dummies(df2['city']))"
   ]
  },
  {
   "cell_type": "code",
   "execution_count": 29,
   "metadata": {
    "collapsed": false
   },
   "outputs": [
    {
     "data": {
      "text/html": [
       "<div>\n",
       "<table border=\"1\" class=\"dataframe\">\n",
       "  <thead>\n",
       "    <tr style=\"text-align: right;\">\n",
       "      <th></th>\n",
       "      <th>city</th>\n",
       "      <th>company</th>\n",
       "      <th>title</th>\n",
       "      <th>parsed_salary</th>\n",
       "      <th>Austin</th>\n",
       "      <th>Chicago</th>\n",
       "      <th>New York</th>\n",
       "      <th>San Francisco</th>\n",
       "      <th>Seattle</th>\n",
       "    </tr>\n",
       "  </thead>\n",
       "  <tbody>\n",
       "    <tr>\n",
       "      <th>0</th>\n",
       "      <td>San Francisco</td>\n",
       "      <td>MarkMonitor</td>\n",
       "      <td>Data Scientist</td>\n",
       "      <td>1</td>\n",
       "      <td>0.0</td>\n",
       "      <td>0.0</td>\n",
       "      <td>0.0</td>\n",
       "      <td>1.0</td>\n",
       "      <td>0.0</td>\n",
       "    </tr>\n",
       "    <tr>\n",
       "      <th>1</th>\n",
       "      <td>San Francisco</td>\n",
       "      <td>Workbridge Associates</td>\n",
       "      <td>Senior Data Scientist</td>\n",
       "      <td>1</td>\n",
       "      <td>0.0</td>\n",
       "      <td>0.0</td>\n",
       "      <td>0.0</td>\n",
       "      <td>1.0</td>\n",
       "      <td>0.0</td>\n",
       "    </tr>\n",
       "    <tr>\n",
       "      <th>2</th>\n",
       "      <td>San Francisco</td>\n",
       "      <td>Mines.io</td>\n",
       "      <td>Full-Stack Data Scientist</td>\n",
       "      <td>1</td>\n",
       "      <td>0.0</td>\n",
       "      <td>0.0</td>\n",
       "      <td>0.0</td>\n",
       "      <td>1.0</td>\n",
       "      <td>0.0</td>\n",
       "    </tr>\n",
       "    <tr>\n",
       "      <th>3</th>\n",
       "      <td>San Francisco</td>\n",
       "      <td>Workbridge Associates</td>\n",
       "      <td>Data Scientist</td>\n",
       "      <td>1</td>\n",
       "      <td>0.0</td>\n",
       "      <td>0.0</td>\n",
       "      <td>0.0</td>\n",
       "      <td>1.0</td>\n",
       "      <td>0.0</td>\n",
       "    </tr>\n",
       "    <tr>\n",
       "      <th>4</th>\n",
       "      <td>San Francisco</td>\n",
       "      <td>Smith Hanley Associates</td>\n",
       "      <td>Data Scientist</td>\n",
       "      <td>1</td>\n",
       "      <td>0.0</td>\n",
       "      <td>0.0</td>\n",
       "      <td>0.0</td>\n",
       "      <td>1.0</td>\n",
       "      <td>0.0</td>\n",
       "    </tr>\n",
       "  </tbody>\n",
       "</table>\n",
       "</div>"
      ],
      "text/plain": [
       "            city                  company                      title  \\\n",
       "0  San Francisco              MarkMonitor             Data Scientist   \n",
       "1  San Francisco    Workbridge Associates      Senior Data Scientist   \n",
       "2  San Francisco                 Mines.io  Full-Stack Data Scientist   \n",
       "3  San Francisco    Workbridge Associates             Data Scientist   \n",
       "4  San Francisco  Smith Hanley Associates             Data Scientist   \n",
       "\n",
       "   parsed_salary  Austin  Chicago  New York  San Francisco  Seattle  \n",
       "0              1     0.0      0.0       0.0            1.0      0.0  \n",
       "1              1     0.0      0.0       0.0            1.0      0.0  \n",
       "2              1     0.0      0.0       0.0            1.0      0.0  \n",
       "3              1     0.0      0.0       0.0            1.0      0.0  \n",
       "4              1     0.0      0.0       0.0            1.0      0.0  "
      ]
     },
     "execution_count": 29,
     "metadata": {},
     "output_type": "execute_result"
    }
   ],
   "source": [
    "#quick check to make sure our work did what it was supposed to do.\n",
    "df2.head()"
   ]
  },
  {
   "cell_type": "markdown",
   "metadata": {
    "focus": false,
    "id": "a7afb2c0-d41e-4779-8216-91cd8dd4473f"
   },
   "source": [
    "#### Thought experiment: What is the baseline accuracy for this model?"
   ]
  },
  {
   "cell_type": "code",
   "execution_count": 30,
   "metadata": {
    "collapsed": false,
    "focus": false,
    "id": "ddbc6159-6854-4ca7-857f-bfecdaf6d9c2"
   },
   "outputs": [
    {
     "data": {
      "text/plain": [
       "LogisticRegression(C=1.0, class_weight=None, dual=False, fit_intercept=True,\n",
       "          intercept_scaling=1, max_iter=100, multi_class='ovr', n_jobs=1,\n",
       "          penalty='l2', random_state=None, solver='liblinear', tol=0.0001,\n",
       "          verbose=0, warm_start=False)"
      ]
     },
     "execution_count": 30,
     "metadata": {},
     "output_type": "execute_result"
    }
   ],
   "source": [
    "lm = LogisticRegression()\n",
    "\n",
    "lm.fit(df2[['Austin', 'Chicago', 'New York', 'San Francisco', 'Seattle']], df2['parsed_salary'])"
   ]
  },
  {
   "cell_type": "markdown",
   "metadata": {},
   "source": [
    "The accuracy with the model with all features is 87.44% as shown by the code below:"
   ]
  },
  {
   "cell_type": "code",
   "execution_count": 31,
   "metadata": {
    "collapsed": false
   },
   "outputs": [
    {
     "name": "stdout",
     "output_type": "stream",
     "text": [
      "0.874439461883\n"
     ]
    }
   ],
   "source": [
    "feature_set = df2[['Austin', 'Chicago', 'New York', 'San Francisco', 'Seattle']]\n",
    "print lm.score(feature_set, df2['parsed_salary'])"
   ]
  },
  {
   "cell_type": "code",
   "execution_count": 32,
   "metadata": {
    "collapsed": false
   },
   "outputs": [],
   "source": [
    "#ran some tests to make sure my columns were formatted correctly.\n",
    "#df2[['Austin', 'Chicago', 'New York', 'San Francisco', 'Seattle']].head()"
   ]
  },
  {
   "cell_type": "code",
   "execution_count": 33,
   "metadata": {
    "collapsed": false,
    "scrolled": true
   },
   "outputs": [],
   "source": [
    "#df2[['Austin', 'Chicago', 'New York', 'San Francisco', 'Seattle']].shape"
   ]
  },
  {
   "cell_type": "code",
   "execution_count": 34,
   "metadata": {
    "collapsed": false
   },
   "outputs": [],
   "source": [
    "#df2['parsed_salary'].shape"
   ]
  },
  {
   "cell_type": "markdown",
   "metadata": {
    "focus": false,
    "id": "4fb29de2-5b98-474c-a4ad-5170b72b9aea"
   },
   "source": [
    "#### Create a Logistic Regression model to predict High/Low salary using statsmodel. Start by ONLY using the location as a feature. Display the coefficients and write a short summary of what they mean."
   ]
  },
  {
   "cell_type": "code",
   "execution_count": 35,
   "metadata": {
    "collapsed": false
   },
   "outputs": [
    {
     "name": "stdout",
     "output_type": "stream",
     "text": [
      "[[-1.87409854  1.56857982  2.2104682   1.08982195 -1.63160646]]\n",
      "[ 1.36316498]\n",
      "0.784753363229\n"
     ]
    }
   ],
   "source": [
    "# Coefficients represent the log-odds. This includes the y-intercept. \n",
    "print lm.coef_\n",
    "print lm.intercept_\n",
    "print df2.parsed_salary.mean()"
   ]
  },
  {
   "cell_type": "markdown",
   "metadata": {},
   "source": [
    "The following code shows us some interesting data in regards to the odds of earning above the salary mean ($94,160.00) per city.  According to this, our greatest chance of earning above the mean salary point is in San Francisco, where your odds are at 4.79, as opposed to Austin where your odds are at .15."
   ]
  },
  {
   "cell_type": "code",
   "execution_count": 36,
   "metadata": {
    "collapsed": false,
    "scrolled": true
   },
   "outputs": [
    {
     "name": "stdout",
     "output_type": "stream",
     "text": [
      "[[ 0.15349327  4.79982674  9.11998535  2.97374456  0.19561507]]\n",
      "[ 3.9085442]\n",
      "0.784753363229\n"
     ]
    }
   ],
   "source": [
    "# You can easily convert these into odds using numpy.exp()\n",
    "print np.exp(lm.coef_)\n",
    "print np.exp(lm.intercept_)\n",
    "print df2.parsed_salary.mean()"
   ]
  },
  {
   "cell_type": "markdown",
   "metadata": {},
   "source": [
    "This model uses the cities as a feature set - converted to dummy variables - and attempts to predict the salary."
   ]
  },
  {
   "cell_type": "code",
   "execution_count": 37,
   "metadata": {
    "collapsed": true
   },
   "outputs": [],
   "source": [
    "from sklearn.metrics import roc_curve, roc_auc_score"
   ]
  },
  {
   "cell_type": "code",
   "execution_count": 38,
   "metadata": {
    "collapsed": false
   },
   "outputs": [
    {
     "data": {
      "text/plain": [
       "[<matplotlib.lines.Line2D at 0x11a4ac110>]"
      ]
     },
     "execution_count": 38,
     "metadata": {},
     "output_type": "execute_result"
    },
    {
     "data": {
      "image/png": "[encoded data removed]",
      "text/plain": [
       "<matplotlib.figure.Figure at 0x117e2ae90>"
      ]
     },
     "metadata": {},
     "output_type": "display_data"
    }
   ],
   "source": [
    "actuals = lm.predict(feature_set) \n",
    "probas = lm.predict_proba(feature_set)\n",
    "plt.plot(roc_curve(df2['parsed_salary'], probas[:,1])[0], roc_curve(df2['parsed_salary'], probas[:,1])[1])"
   ]
  },
  {
   "cell_type": "code",
   "execution_count": 39,
   "metadata": {
    "collapsed": false
   },
   "outputs": [],
   "source": [
    "#print df2['parsed_salary'].head()\n",
    "#print probas[:,1]"
   ]
  },
  {
   "cell_type": "code",
   "execution_count": 40,
   "metadata": {
    "collapsed": false
   },
   "outputs": [
    {
     "data": {
      "text/plain": [
       "[<matplotlib.lines.Line2D at 0x11abec6d0>]"
      ]
     },
     "execution_count": 40,
     "metadata": {},
     "output_type": "execute_result"
    },
    {
     "data": {
      "image/png": "[encoded data removed]",
      "text/plain": [
       "<matplotlib.figure.Figure at 0x11a4cb8d0>"
      ]
     },
     "metadata": {},
     "output_type": "display_data"
    }
   ],
   "source": [
    "plt.plot(roc_curve(df2['parsed_salary'], actuals)[0], roc_curve(df2['parsed_salary'], actuals)[1])"
   ]
  },
  {
   "cell_type": "markdown",
   "metadata": {},
   "source": [
    "The following calculates the area under these curves (AUC):"
   ]
  },
  {
   "cell_type": "code",
   "execution_count": 41,
   "metadata": {
    "collapsed": false,
    "scrolled": true
   },
   "outputs": [
    {
     "data": {
      "text/plain": [
       "0.90488095238095234"
      ]
     },
     "execution_count": 41,
     "metadata": {},
     "output_type": "execute_result"
    }
   ],
   "source": [
    "roc_auc_score(df2['parsed_salary'], lm.predict(feature_set))"
   ]
  },
  {
   "cell_type": "markdown",
   "metadata": {},
   "source": [
    "This shows us that this model is immensely accurate.  Showing that 90% of the time we will return a True Positive, and only 10% of the time we are going to get a False Positive."
   ]
  },
  {
   "cell_type": "markdown",
   "metadata": {},
   "source": [
    "The above code shows us that we can confidently predict salary based on location according to the database we have constructed and the model we created.  "
   ]
  },
  {
   "cell_type": "code",
   "execution_count": 42,
   "metadata": {
    "collapsed": true
   },
   "outputs": [],
   "source": [
    "from IPython.display import Image"
   ]
  },
  {
   "cell_type": "markdown",
   "metadata": {},
   "source": [
    "The below is a fun chart built in Tableau to show the difference in salary based on location."
   ]
  },
  {
   "cell_type": "code",
   "execution_count": 43,
   "metadata": {
    "collapsed": false
   },
   "outputs": [
    {
     "data": {
      "image/png": "[encoded data removed]",
      "text/plain": [
       "<IPython.core.display.Image object>"
      ]
     },
     "execution_count": 43,
     "metadata": {},
     "output_type": "execute_result"
    }
   ],
   "source": [
    "Image(filename=\"/Users/Lappy9000/Dropbox/Dropbox/GA/GitHub/DSI_SM_01/projects/01-projects-weekly/project-04/starter-code/Salary_location_Graph.png\")"
   ]
  },
  {
   "cell_type": "markdown",
   "metadata": {
    "focus": false,
    "id": "0ef04f32-419c-4bf2-baf7-48201f03df89"
   },
   "source": [
    "#### Create a few new variables in your dataframe to represent interesting features of a job title.\n",
    "- For example, create a feature that represents whether 'Senior' is in the title \n",
    "- or whether 'Manager' is in the title. \n",
    "- Then build a new Logistic Regression model with these features. Do they add any value? \n"
   ]
  },
  {
   "cell_type": "code",
   "execution_count": 92,
   "metadata": {
    "collapsed": false,
    "focus": false,
    "id": "068dc1cf-7fd7-4f27-a1f1-7f0a5a221d29"
   },
   "outputs": [],
   "source": [
    "vp = df2[df2['title'].str.contains(\"VP\",\"Vice President\")]\n",
    "senior = df2[df2['title'].str.contains(\"Sr\",\"Senior\")]\n",
    "junior = df2[df2['title'].str.contains(\"JR\")]\n",
    "Intern = df2[df2['title'].str.contains(\"Intern\")]\n",
    "FullStack = df2[df2['title'].str.contains(\"Full Stack\")]\n",
    "manager = df2[df2['title'].str.contains(\"Manager\")]\n",
    "analyst = df2[df2['title'].str.contains(\"Analyst\")]"
   ]
  },
  {
   "cell_type": "code",
   "execution_count": 90,
   "metadata": {
    "collapsed": false
   },
   "outputs": [
    {
     "data": {
      "text/html": [
       "<div>\n",
       "<table border=\"1\" class=\"dataframe\">\n",
       "  <thead>\n",
       "    <tr style=\"text-align: right;\">\n",
       "      <th></th>\n",
       "      <th>city</th>\n",
       "      <th>company</th>\n",
       "      <th>title</th>\n",
       "      <th>parsed_salary</th>\n",
       "      <th>Austin</th>\n",
       "      <th>Chicago</th>\n",
       "      <th>New York</th>\n",
       "      <th>San Francisco</th>\n",
       "      <th>Seattle</th>\n",
       "    </tr>\n",
       "  </thead>\n",
       "  <tbody>\n",
       "    <tr>\n",
       "      <th>5</th>\n",
       "      <td>San Francisco</td>\n",
       "      <td>HSF Consulting</td>\n",
       "      <td>VP of Data Services</td>\n",
       "      <td>1</td>\n",
       "      <td>0.0</td>\n",
       "      <td>0.0</td>\n",
       "      <td>0.0</td>\n",
       "      <td>1.0</td>\n",
       "      <td>0.0</td>\n",
       "    </tr>\n",
       "    <tr>\n",
       "      <th>22</th>\n",
       "      <td>San Francisco</td>\n",
       "      <td>3coast</td>\n",
       "      <td>VP - Predictive Modeling / Data Scientist</td>\n",
       "      <td>1</td>\n",
       "      <td>0.0</td>\n",
       "      <td>0.0</td>\n",
       "      <td>0.0</td>\n",
       "      <td>1.0</td>\n",
       "      <td>0.0</td>\n",
       "    </tr>\n",
       "    <tr>\n",
       "      <th>405</th>\n",
       "      <td>New York</td>\n",
       "      <td>AllianceBernstein</td>\n",
       "      <td>AVP/Quantitative Analyst</td>\n",
       "      <td>1</td>\n",
       "      <td>0.0</td>\n",
       "      <td>0.0</td>\n",
       "      <td>1.0</td>\n",
       "      <td>0.0</td>\n",
       "      <td>0.0</td>\n",
       "    </tr>\n",
       "    <tr>\n",
       "      <th>425</th>\n",
       "      <td>New York</td>\n",
       "      <td>Oliver James Associates</td>\n",
       "      <td>VP - Predictive Modeling Actuary</td>\n",
       "      <td>1</td>\n",
       "      <td>0.0</td>\n",
       "      <td>0.0</td>\n",
       "      <td>1.0</td>\n",
       "      <td>0.0</td>\n",
       "      <td>0.0</td>\n",
       "    </tr>\n",
       "    <tr>\n",
       "      <th>440</th>\n",
       "      <td>New York</td>\n",
       "      <td>Selby Jennings</td>\n",
       "      <td>VP Data Scientist</td>\n",
       "      <td>1</td>\n",
       "      <td>0.0</td>\n",
       "      <td>0.0</td>\n",
       "      <td>1.0</td>\n",
       "      <td>0.0</td>\n",
       "      <td>0.0</td>\n",
       "    </tr>\n",
       "    <tr>\n",
       "      <th>449</th>\n",
       "      <td>New York</td>\n",
       "      <td>3coast</td>\n",
       "      <td>VP - Predictive Modeling / Data Scientist</td>\n",
       "      <td>1</td>\n",
       "      <td>0.0</td>\n",
       "      <td>0.0</td>\n",
       "      <td>1.0</td>\n",
       "      <td>0.0</td>\n",
       "      <td>0.0</td>\n",
       "    </tr>\n",
       "  </tbody>\n",
       "</table>\n",
       "</div>"
      ],
      "text/plain": [
       "              city                  company  \\\n",
       "5    San Francisco           HSF Consulting   \n",
       "22   San Francisco                   3coast   \n",
       "405       New York        AllianceBernstein   \n",
       "425       New York  Oliver James Associates   \n",
       "440       New York           Selby Jennings   \n",
       "449       New York                   3coast   \n",
       "\n",
       "                                         title  parsed_salary  Austin  \\\n",
       "5                          VP of Data Services              1     0.0   \n",
       "22   VP - Predictive Modeling / Data Scientist              1     0.0   \n",
       "405                   AVP/Quantitative Analyst              1     0.0   \n",
       "425           VP - Predictive Modeling Actuary              1     0.0   \n",
       "440                          VP Data Scientist              1     0.0   \n",
       "449  VP - Predictive Modeling / Data Scientist              1     0.0   \n",
       "\n",
       "     Chicago  New York  San Francisco  Seattle  \n",
       "5        0.0       0.0            1.0      0.0  \n",
       "22       0.0       0.0            1.0      0.0  \n",
       "405      0.0       1.0            0.0      0.0  \n",
       "425      0.0       1.0            0.0      0.0  \n",
       "440      0.0       1.0            0.0      0.0  \n",
       "449      0.0       1.0            0.0      0.0  "
      ]
     },
     "execution_count": 90,
     "metadata": {},
     "output_type": "execute_result"
    }
   ],
   "source": [
    "vp"
   ]
  },
  {
   "cell_type": "code",
   "execution_count": 91,
   "metadata": {
    "collapsed": false
   },
   "outputs": [
    {
     "name": "stdout",
     "output_type": "stream",
     "text": [
      "Vice President Titles: \n",
      "6\n",
      "Senior Titles: \n",
      "4\n",
      "Junior Titles: \n",
      "1\n",
      "Interns: \n",
      "1\n",
      "Full Stack Titles: \n",
      "1\n",
      "Manager Titles: \n",
      "6\n",
      "Analyst Titles: \n",
      "37\n"
     ]
    }
   ],
   "source": [
    "print \"Vice President Titles: \"\n",
    "print vp['title'].count()\n",
    "print \"Senior Titles: \"\n",
    "print senior['title'].count()\n",
    "print \"Junior Titles: \"\n",
    "print junior['title'].count()\n",
    "print \"Interns: \"\n",
    "print Intern['title'].count()\n",
    "print \"Full Stack Titles: \"\n",
    "print FullStack['title'].count()\n",
    "print \"Manager Titles: \"\n",
    "print manager['title'].count()\n",
    "print \"Analyst Titles: \"\n",
    "print analyst['title'].count()"
   ]
  },
  {
   "cell_type": "markdown",
   "metadata": {},
   "source": [
    "I chose to take a look at the model with the \"analyst\" variable as it was the most robust variable out of the data set."
   ]
  },
  {
   "cell_type": "code",
   "execution_count": 100,
   "metadata": {
    "collapsed": false
   },
   "outputs": [
    {
     "data": {
      "text/plain": [
       "LogisticRegression(C=1.0, class_weight=None, dual=False, fit_intercept=True,\n",
       "          intercept_scaling=1, max_iter=100, multi_class='ovr', n_jobs=1,\n",
       "          penalty='l2', random_state=None, solver='liblinear', tol=0.0001,\n",
       "          verbose=0, warm_start=False)"
      ]
     },
     "execution_count": 100,
     "metadata": {},
     "output_type": "execute_result"
    }
   ],
   "source": [
    "lm2 = LogisticRegression()\n",
    "\n",
    "lm2.fit(analyst[['Austin', 'Chicago', 'New York', 'San Francisco', 'Seattle']], analyst['parsed_salary'])"
   ]
  },
  {
   "cell_type": "markdown",
   "metadata": {},
   "source": [
    "Right away we can see an improvement in accuracy, which is to be expected, since we greatly reduced the amount of variables in the model.  The new accuracy is at 91.89%"
   ]
  },
  {
   "cell_type": "code",
   "execution_count": 104,
   "metadata": {
    "collapsed": false
   },
   "outputs": [
    {
     "name": "stdout",
     "output_type": "stream",
     "text": [
      "0.918918918919\n"
     ]
    }
   ],
   "source": [
    "feature_set = analyst[['Austin', 'Chicago', 'New York', 'San Francisco', 'Seattle']]\n",
    "print lm.score(feature_set, analyst['parsed_salary'])"
   ]
  },
  {
   "cell_type": "code",
   "execution_count": 101,
   "metadata": {
    "collapsed": false
   },
   "outputs": [
    {
     "name": "stdout",
     "output_type": "stream",
     "text": [
      "[[-0.82048264  0.60360446  1.42454299  0.17416692  0.        ]]\n",
      "[ 1.38183174]\n",
      "0.918918918919\n"
     ]
    }
   ],
   "source": [
    "print lm2.coef_\n",
    "print lm2.intercept_\n",
    "print analyst.parsed_salary.mean()"
   ]
  },
  {
   "cell_type": "code",
   "execution_count": 102,
   "metadata": {
    "collapsed": false
   },
   "outputs": [
    {
     "name": "stdout",
     "output_type": "stream",
     "text": [
      "[[ 0.15349327  4.79982674  9.11998535  2.97374456  0.19561507]]\n",
      "[ 3.9085442]\n",
      "0.918918918919\n"
     ]
    }
   ],
   "source": [
    "print np.exp(lm.coef_)\n",
    "print np.exp(lm.intercept_)\n",
    "print analyst.parsed_salary.mean()"
   ]
  },
  {
   "cell_type": "code",
   "execution_count": 105,
   "metadata": {
    "collapsed": false
   },
   "outputs": [
    {
     "data": {
      "text/plain": [
       "[<matplotlib.lines.Line2D at 0x11b47b250>]"
      ]
     },
     "execution_count": 105,
     "metadata": {},
     "output_type": "execute_result"
    },
    {
     "data": {
      "image/png": "[encoded data removed]",
      "text/plain": [
       "<matplotlib.figure.Figure at 0x11b3fe9d0>"
      ]
     },
     "metadata": {},
     "output_type": "display_data"
    }
   ],
   "source": [
    "actuals = lm2.predict(feature_set) \n",
    "probas = lm2.predict_proba(feature_set)\n",
    "plt.plot(roc_curve(analyst['parsed_salary'], probas[:,1])[0], roc_curve(analyst['parsed_salary'], probas[:,1])[1])"
   ]
  },
  {
   "cell_type": "code",
   "execution_count": 106,
   "metadata": {
    "collapsed": false
   },
   "outputs": [
    {
     "data": {
      "text/plain": [
       "[<matplotlib.lines.Line2D at 0x11b520e50>]"
      ]
     },
     "execution_count": 106,
     "metadata": {},
     "output_type": "execute_result"
    },
    {
     "data": {
      "image/png": "[encoded data removed]",
      "text/plain": [
       "<matplotlib.figure.Figure at 0x11b3e9310>"
      ]
     },
     "metadata": {},
     "output_type": "display_data"
    }
   ],
   "source": [
    "plt.plot(roc_curve(analyst['parsed_salary'], actuals)[0], roc_curve(analyst['parsed_salary'], actuals)[1])"
   ]
  },
  {
   "cell_type": "markdown",
   "metadata": {},
   "source": [
    "The above charts, and below AUC score of 95% - at first glance - could lead us to believe we have improved our model.  However, what the charts show us is that we are actually overcompensating and therefore the results in the model with the analyst variable are not reliable."
   ]
  },
  {
   "cell_type": "code",
   "execution_count": 107,
   "metadata": {
    "collapsed": false
   },
   "outputs": [
    {
     "data": {
      "text/plain": [
       "0.95588235294117641"
      ]
     },
     "execution_count": 107,
     "metadata": {},
     "output_type": "execute_result"
    }
   ],
   "source": [
    "roc_auc_score(analyst['parsed_salary'], lm.predict(feature_set))"
   ]
  }
 ],
 "metadata": {
  "kernelspec": {
   "display_name": "Python 2",
   "language": "python",
   "name": "python2"
  },
  "language_info": {
   "codemirror_mode": {
    "name": "ipython",
    "version": 2
   },
   "file_extension": ".py",
   "mimetype": "text/x-python",
   "name": "python",
   "nbconvert_exporter": "python",
   "pygments_lexer": "ipython2",
   "version": "2.7.11"
  }
 },
 "nbformat": 4,
 "nbformat_minor": 0
}
