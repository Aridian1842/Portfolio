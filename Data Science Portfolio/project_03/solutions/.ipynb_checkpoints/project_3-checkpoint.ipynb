{
 "cells": [
  {
   "cell_type": "markdown",
   "metadata": {},
   "source": [
    "# Scenario 2: Market research for new store locations\n",
    "\n",
    "A liquor store owner in Iowa is looking to expand to new locations and has hired you to investigate the market data for potential new locations. The business owner is interested in the details of the best model you can fit to the data so that his team can evaluate potential locations for a new storefront."
   ]
  },
  {
   "cell_type": "code",
   "execution_count": 1,
   "metadata": {
    "collapsed": false
   },
   "outputs": [
    {
     "data": {
      "text/html": [
       "<div>\n",
       "<table border=\"1\" class=\"dataframe\">\n",
       "  <thead>\n",
       "    <tr style=\"text-align: right;\">\n",
       "      <th></th>\n",
       "      <th>Date</th>\n",
       "      <th>Store Number</th>\n",
       "      <th>City</th>\n",
       "      <th>Zip Code</th>\n",
       "      <th>County Number</th>\n",
       "      <th>County</th>\n",
       "      <th>Category</th>\n",
       "      <th>Category Name</th>\n",
       "      <th>Vendor Number</th>\n",
       "      <th>Item Number</th>\n",
       "      <th>Item Description</th>\n",
       "      <th>Bottle Volume (ml)</th>\n",
       "      <th>State Bottle Cost</th>\n",
       "      <th>State Bottle Retail</th>\n",
       "      <th>Bottles Sold</th>\n",
       "      <th>Sale (Dollars)</th>\n",
       "      <th>Volume Sold (Liters)</th>\n",
       "      <th>Volume Sold (Gallons)</th>\n",
       "    </tr>\n",
       "  </thead>\n",
       "  <tbody>\n",
       "    <tr>\n",
       "      <th>0</th>\n",
       "      <td>11/04/2015</td>\n",
       "      <td>3717</td>\n",
       "      <td>SUMNER</td>\n",
       "      <td>50674</td>\n",
       "      <td>9.0</td>\n",
       "      <td>Bremer</td>\n",
       "      <td>1051100.0</td>\n",
       "      <td>APRICOT BRANDIES</td>\n",
       "      <td>55</td>\n",
       "      <td>54436</td>\n",
       "      <td>Mr. Boston Apricot Brandy</td>\n",
       "      <td>750</td>\n",
       "      <td>$4.50</td>\n",
       "      <td>$6.75</td>\n",
       "      <td>12</td>\n",
       "      <td>$81.00</td>\n",
       "      <td>9.0</td>\n",
       "      <td>2.38</td>\n",
       "    </tr>\n",
       "    <tr>\n",
       "      <th>1</th>\n",
       "      <td>03/02/2016</td>\n",
       "      <td>2614</td>\n",
       "      <td>DAVENPORT</td>\n",
       "      <td>52807</td>\n",
       "      <td>82.0</td>\n",
       "      <td>Scott</td>\n",
       "      <td>1011100.0</td>\n",
       "      <td>BLENDED WHISKIES</td>\n",
       "      <td>395</td>\n",
       "      <td>27605</td>\n",
       "      <td>Tin Cup</td>\n",
       "      <td>750</td>\n",
       "      <td>$13.75</td>\n",
       "      <td>$20.63</td>\n",
       "      <td>2</td>\n",
       "      <td>$41.26</td>\n",
       "      <td>1.5</td>\n",
       "      <td>0.40</td>\n",
       "    </tr>\n",
       "    <tr>\n",
       "      <th>2</th>\n",
       "      <td>02/11/2016</td>\n",
       "      <td>2106</td>\n",
       "      <td>CEDAR FALLS</td>\n",
       "      <td>50613</td>\n",
       "      <td>7.0</td>\n",
       "      <td>Black Hawk</td>\n",
       "      <td>1011200.0</td>\n",
       "      <td>STRAIGHT BOURBON WHISKIES</td>\n",
       "      <td>65</td>\n",
       "      <td>19067</td>\n",
       "      <td>Jim Beam</td>\n",
       "      <td>1000</td>\n",
       "      <td>$12.59</td>\n",
       "      <td>$18.89</td>\n",
       "      <td>24</td>\n",
       "      <td>$453.36</td>\n",
       "      <td>24.0</td>\n",
       "      <td>6.34</td>\n",
       "    </tr>\n",
       "    <tr>\n",
       "      <th>3</th>\n",
       "      <td>02/03/2016</td>\n",
       "      <td>2501</td>\n",
       "      <td>AMES</td>\n",
       "      <td>50010</td>\n",
       "      <td>85.0</td>\n",
       "      <td>Story</td>\n",
       "      <td>1071100.0</td>\n",
       "      <td>AMERICAN COCKTAILS</td>\n",
       "      <td>395</td>\n",
       "      <td>59154</td>\n",
       "      <td>1800 Ultimate Margarita</td>\n",
       "      <td>1750</td>\n",
       "      <td>$9.50</td>\n",
       "      <td>$14.25</td>\n",
       "      <td>6</td>\n",
       "      <td>$85.50</td>\n",
       "      <td>10.5</td>\n",
       "      <td>2.77</td>\n",
       "    </tr>\n",
       "    <tr>\n",
       "      <th>4</th>\n",
       "      <td>08/18/2015</td>\n",
       "      <td>3654</td>\n",
       "      <td>BELMOND</td>\n",
       "      <td>50421</td>\n",
       "      <td>99.0</td>\n",
       "      <td>Wright</td>\n",
       "      <td>1031080.0</td>\n",
       "      <td>VODKA 80 PROOF</td>\n",
       "      <td>297</td>\n",
       "      <td>35918</td>\n",
       "      <td>Five O'clock Vodka</td>\n",
       "      <td>1750</td>\n",
       "      <td>$7.20</td>\n",
       "      <td>$10.80</td>\n",
       "      <td>12</td>\n",
       "      <td>$129.60</td>\n",
       "      <td>21.0</td>\n",
       "      <td>5.55</td>\n",
       "    </tr>\n",
       "  </tbody>\n",
       "</table>\n",
       "</div>"
      ],
      "text/plain": [
       "         Date  Store Number         City Zip Code  County Number      County  \\\n",
       "0  11/04/2015          3717       SUMNER    50674            9.0      Bremer   \n",
       "1  03/02/2016          2614    DAVENPORT    52807           82.0       Scott   \n",
       "2  02/11/2016          2106  CEDAR FALLS    50613            7.0  Black Hawk   \n",
       "3  02/03/2016          2501         AMES    50010           85.0       Story   \n",
       "4  08/18/2015          3654      BELMOND    50421           99.0      Wright   \n",
       "\n",
       "    Category              Category Name  Vendor Number  Item Number  \\\n",
       "0  1051100.0           APRICOT BRANDIES             55        54436   \n",
       "1  1011100.0           BLENDED WHISKIES            395        27605   \n",
       "2  1011200.0  STRAIGHT BOURBON WHISKIES             65        19067   \n",
       "3  1071100.0         AMERICAN COCKTAILS            395        59154   \n",
       "4  1031080.0             VODKA 80 PROOF            297        35918   \n",
       "\n",
       "            Item Description  Bottle Volume (ml) State Bottle Cost  \\\n",
       "0  Mr. Boston Apricot Brandy                 750             $4.50   \n",
       "1                    Tin Cup                 750            $13.75   \n",
       "2                   Jim Beam                1000            $12.59   \n",
       "3    1800 Ultimate Margarita                1750             $9.50   \n",
       "4         Five O'clock Vodka                1750             $7.20   \n",
       "\n",
       "  State Bottle Retail  Bottles Sold Sale (Dollars)  Volume Sold (Liters)  \\\n",
       "0               $6.75            12         $81.00                   9.0   \n",
       "1              $20.63             2         $41.26                   1.5   \n",
       "2              $18.89            24        $453.36                  24.0   \n",
       "3              $14.25             6         $85.50                  10.5   \n",
       "4              $10.80            12        $129.60                  21.0   \n",
       "\n",
       "   Volume Sold (Gallons)  \n",
       "0                   2.38  \n",
       "1                   0.40  \n",
       "2                   6.34  \n",
       "3                   2.77  \n",
       "4                   5.55  "
      ]
     },
     "execution_count": 1,
     "metadata": {},
     "output_type": "execute_result"
    }
   ],
   "source": [
    "import pandas as pd\n",
    "from collections import defaultdict\n",
    "import datetime\n",
    "from matplotlib import pyplot as plt\n",
    "# Make the plots bigger\n",
    "plt.rcParams['figure.figsize'] = 10, 10\n",
    "import seaborn as sns\n",
    "import numpy as np\n",
    "from sklearn import linear_model\n",
    "import statsmodels.api as sm\n",
    "from statsmodels.regression.quantile_regression import QuantReg\n",
    "%matplotlib inline\n",
    "\n",
    "## Load the data into a DataFrame\n",
    "df = pd.read_csv('/Users/Lappy9000/Dropbox/Dropbox/Project 3 Data/Iowa_Liquor_sales_sample_10pct.csv')\n",
    "df.head()\n",
    "## Transform the dates if needed, e.g."
   ]
  },
  {
   "cell_type": "code",
   "execution_count": 149,
   "metadata": {
    "collapsed": false
   },
   "outputs": [
    {
     "name": "stdout",
     "output_type": "stream",
     "text": [
      "/Users/Lappy9000/Dropbox/Dropbox/GA/GitHub/DSI_SM_01/projects/01-projects-weekly/project-03/starter-code\r\n"
     ]
    }
   ],
   "source": [
    "!pwd"
   ]
  },
  {
   "cell_type": "code",
   "execution_count": 150,
   "metadata": {
    "collapsed": false
   },
   "outputs": [],
   "source": [
    "#I chose to get rid of the following columns because I found them to be redundant and/or not callable.\n",
    "del df[\"Category Name\"]\n",
    "del df[\"Item Description\"]\n",
    "del df[\"County\"]\n",
    "del df['Volume Sold (Gallons)']"
   ]
  },
  {
   "cell_type": "code",
   "execution_count": 151,
   "metadata": {
    "collapsed": false
   },
   "outputs": [
    {
     "data": {
      "text/html": [
       "<div>\n",
       "<table border=\"1\" class=\"dataframe\">\n",
       "  <thead>\n",
       "    <tr style=\"text-align: right;\">\n",
       "      <th></th>\n",
       "      <th>Date</th>\n",
       "      <th>Store Number</th>\n",
       "      <th>City</th>\n",
       "      <th>Zip Code</th>\n",
       "      <th>County Number</th>\n",
       "      <th>Category</th>\n",
       "      <th>Vendor Number</th>\n",
       "      <th>Item Number</th>\n",
       "      <th>Bottle Volume (ml)</th>\n",
       "      <th>State Bottle Cost</th>\n",
       "      <th>State Bottle Retail</th>\n",
       "      <th>Bottles Sold</th>\n",
       "      <th>Sale (Dollars)</th>\n",
       "      <th>Volume Sold (Liters)</th>\n",
       "    </tr>\n",
       "  </thead>\n",
       "  <tbody>\n",
       "    <tr>\n",
       "      <th>0</th>\n",
       "      <td>11/04/2015</td>\n",
       "      <td>3717</td>\n",
       "      <td>SUMNER</td>\n",
       "      <td>50674</td>\n",
       "      <td>9.0</td>\n",
       "      <td>1051100.0</td>\n",
       "      <td>55</td>\n",
       "      <td>54436</td>\n",
       "      <td>750</td>\n",
       "      <td>$4.50</td>\n",
       "      <td>$6.75</td>\n",
       "      <td>12</td>\n",
       "      <td>$81.00</td>\n",
       "      <td>9.0</td>\n",
       "    </tr>\n",
       "    <tr>\n",
       "      <th>1</th>\n",
       "      <td>03/02/2016</td>\n",
       "      <td>2614</td>\n",
       "      <td>DAVENPORT</td>\n",
       "      <td>52807</td>\n",
       "      <td>82.0</td>\n",
       "      <td>1011100.0</td>\n",
       "      <td>395</td>\n",
       "      <td>27605</td>\n",
       "      <td>750</td>\n",
       "      <td>$13.75</td>\n",
       "      <td>$20.63</td>\n",
       "      <td>2</td>\n",
       "      <td>$41.26</td>\n",
       "      <td>1.5</td>\n",
       "    </tr>\n",
       "    <tr>\n",
       "      <th>2</th>\n",
       "      <td>02/11/2016</td>\n",
       "      <td>2106</td>\n",
       "      <td>CEDAR FALLS</td>\n",
       "      <td>50613</td>\n",
       "      <td>7.0</td>\n",
       "      <td>1011200.0</td>\n",
       "      <td>65</td>\n",
       "      <td>19067</td>\n",
       "      <td>1000</td>\n",
       "      <td>$12.59</td>\n",
       "      <td>$18.89</td>\n",
       "      <td>24</td>\n",
       "      <td>$453.36</td>\n",
       "      <td>24.0</td>\n",
       "    </tr>\n",
       "    <tr>\n",
       "      <th>3</th>\n",
       "      <td>02/03/2016</td>\n",
       "      <td>2501</td>\n",
       "      <td>AMES</td>\n",
       "      <td>50010</td>\n",
       "      <td>85.0</td>\n",
       "      <td>1071100.0</td>\n",
       "      <td>395</td>\n",
       "      <td>59154</td>\n",
       "      <td>1750</td>\n",
       "      <td>$9.50</td>\n",
       "      <td>$14.25</td>\n",
       "      <td>6</td>\n",
       "      <td>$85.50</td>\n",
       "      <td>10.5</td>\n",
       "    </tr>\n",
       "    <tr>\n",
       "      <th>4</th>\n",
       "      <td>08/18/2015</td>\n",
       "      <td>3654</td>\n",
       "      <td>BELMOND</td>\n",
       "      <td>50421</td>\n",
       "      <td>99.0</td>\n",
       "      <td>1031080.0</td>\n",
       "      <td>297</td>\n",
       "      <td>35918</td>\n",
       "      <td>1750</td>\n",
       "      <td>$7.20</td>\n",
       "      <td>$10.80</td>\n",
       "      <td>12</td>\n",
       "      <td>$129.60</td>\n",
       "      <td>21.0</td>\n",
       "    </tr>\n",
       "  </tbody>\n",
       "</table>\n",
       "</div>"
      ],
      "text/plain": [
       "         Date  Store Number         City Zip Code  County Number   Category  \\\n",
       "0  11/04/2015          3717       SUMNER    50674            9.0  1051100.0   \n",
       "1  03/02/2016          2614    DAVENPORT    52807           82.0  1011100.0   \n",
       "2  02/11/2016          2106  CEDAR FALLS    50613            7.0  1011200.0   \n",
       "3  02/03/2016          2501         AMES    50010           85.0  1071100.0   \n",
       "4  08/18/2015          3654      BELMOND    50421           99.0  1031080.0   \n",
       "\n",
       "   Vendor Number  Item Number  Bottle Volume (ml) State Bottle Cost  \\\n",
       "0             55        54436                 750             $4.50   \n",
       "1            395        27605                 750            $13.75   \n",
       "2             65        19067                1000            $12.59   \n",
       "3            395        59154                1750             $9.50   \n",
       "4            297        35918                1750             $7.20   \n",
       "\n",
       "  State Bottle Retail  Bottles Sold Sale (Dollars)  Volume Sold (Liters)  \n",
       "0               $6.75            12         $81.00                   9.0  \n",
       "1              $20.63             2         $41.26                   1.5  \n",
       "2              $18.89            24        $453.36                  24.0  \n",
       "3              $14.25             6         $85.50                  10.5  \n",
       "4              $10.80            12        $129.60                  21.0  "
      ]
     },
     "execution_count": 151,
     "metadata": {},
     "output_type": "execute_result"
    }
   ],
   "source": [
    "df.head()"
   ]
  },
  {
   "cell_type": "code",
   "execution_count": 152,
   "metadata": {
    "collapsed": true
   },
   "outputs": [],
   "source": [
    "#Removing the dollar signs from the following columns: \"State Bottle Cost\", \"State Bottle Retail\", and \"Sale(Dollars)\"\n",
    "cols = [\"State Bottle Cost\", \"State Bottle Retail\", \"Sale (Dollars)\"]\n",
    "for col in cols:\n",
    "    df[col] = df[col].apply(lambda x: float(x[1:]))"
   ]
  },
  {
   "cell_type": "code",
   "execution_count": 153,
   "metadata": {
    "collapsed": false
   },
   "outputs": [],
   "source": [
    "#the following code transforms the columns in to float types and replaces their na value with 0.0\n",
    "df['Bottle Volume (ml)'] = df['Bottle Volume (ml)'].fillna(0.0).astype(float) \n",
    "df['Bottles Sold'] = df['Bottles Sold'].fillna(0.0).astype(float)\n",
    "df['State Bottle Retail'] = df['State Bottle Retail'].fillna(0.0).astype(float) \n",
    "df['State Bottle Cost'] = df['State Bottle Cost'].fillna(0.0).astype(float)"
   ]
  },
  {
   "cell_type": "code",
   "execution_count": 154,
   "metadata": {
    "collapsed": false,
    "scrolled": true
   },
   "outputs": [
    {
     "data": {
      "text/plain": [
       "Date                     object\n",
       "Store Number              int64\n",
       "City                     object\n",
       "Zip Code                 object\n",
       "County Number           float64\n",
       "Category                float64\n",
       "Vendor Number             int64\n",
       "Item Number               int64\n",
       "Bottle Volume (ml)      float64\n",
       "State Bottle Cost       float64\n",
       "State Bottle Retail     float64\n",
       "Bottles Sold            float64\n",
       "Sale (Dollars)          float64\n",
       "Volume Sold (Liters)    float64\n",
       "dtype: object"
      ]
     },
     "execution_count": 154,
     "metadata": {},
     "output_type": "execute_result"
    }
   ],
   "source": [
    "df.dtypes"
   ]
  },
  {
   "cell_type": "code",
   "execution_count": 155,
   "metadata": {
    "collapsed": false
   },
   "outputs": [],
   "source": [
    "#converting the \"Date\" column to a datetime format\n",
    "df[\"Date\"] = pd.to_datetime(df[\"Date\"], format=\"%m/%d/%Y\")"
   ]
  },
  {
   "cell_type": "code",
   "execution_count": 156,
   "metadata": {
    "collapsed": false
   },
   "outputs": [
    {
     "data": {
      "text/plain": [
       "Timestamp('2015-01-05 00:00:00')"
      ]
     },
     "execution_count": 156,
     "metadata": {},
     "output_type": "execute_result"
    }
   ],
   "source": [
    "df[\"Date\"].min()"
   ]
  },
  {
   "cell_type": "code",
   "execution_count": 157,
   "metadata": {
    "collapsed": false
   },
   "outputs": [
    {
     "data": {
      "text/plain": [
       "Timestamp('2016-03-31 00:00:00')"
      ]
     },
     "execution_count": 157,
     "metadata": {},
     "output_type": "execute_result"
    }
   ],
   "source": [
    "df[\"Date\"].max()"
   ]
  },
  {
   "cell_type": "code",
   "execution_count": 158,
   "metadata": {
    "collapsed": false
   },
   "outputs": [
    {
     "data": {
      "text/html": [
       "<div>\n",
       "<table border=\"1\" class=\"dataframe\">\n",
       "  <thead>\n",
       "    <tr style=\"text-align: right;\">\n",
       "      <th></th>\n",
       "      <th>Date</th>\n",
       "      <th>Store Number</th>\n",
       "      <th>City</th>\n",
       "      <th>Zip Code</th>\n",
       "      <th>County Number</th>\n",
       "      <th>Category</th>\n",
       "      <th>Vendor Number</th>\n",
       "      <th>Item Number</th>\n",
       "      <th>Bottle Volume (ml)</th>\n",
       "      <th>State Bottle Cost</th>\n",
       "      <th>State Bottle Retail</th>\n",
       "      <th>Bottles Sold</th>\n",
       "      <th>Sale (Dollars)</th>\n",
       "      <th>Volume Sold (Liters)</th>\n",
       "    </tr>\n",
       "  </thead>\n",
       "  <tbody>\n",
       "    <tr>\n",
       "      <th>0</th>\n",
       "      <td>2015-11-04</td>\n",
       "      <td>3717</td>\n",
       "      <td>SUMNER</td>\n",
       "      <td>50674</td>\n",
       "      <td>9.0</td>\n",
       "      <td>1051100.0</td>\n",
       "      <td>55</td>\n",
       "      <td>54436</td>\n",
       "      <td>750.0</td>\n",
       "      <td>4.50</td>\n",
       "      <td>6.75</td>\n",
       "      <td>12.0</td>\n",
       "      <td>81.00</td>\n",
       "      <td>9.0</td>\n",
       "    </tr>\n",
       "    <tr>\n",
       "      <th>1</th>\n",
       "      <td>2016-03-02</td>\n",
       "      <td>2614</td>\n",
       "      <td>DAVENPORT</td>\n",
       "      <td>52807</td>\n",
       "      <td>82.0</td>\n",
       "      <td>1011100.0</td>\n",
       "      <td>395</td>\n",
       "      <td>27605</td>\n",
       "      <td>750.0</td>\n",
       "      <td>13.75</td>\n",
       "      <td>20.63</td>\n",
       "      <td>2.0</td>\n",
       "      <td>41.26</td>\n",
       "      <td>1.5</td>\n",
       "    </tr>\n",
       "    <tr>\n",
       "      <th>2</th>\n",
       "      <td>2016-02-11</td>\n",
       "      <td>2106</td>\n",
       "      <td>CEDAR FALLS</td>\n",
       "      <td>50613</td>\n",
       "      <td>7.0</td>\n",
       "      <td>1011200.0</td>\n",
       "      <td>65</td>\n",
       "      <td>19067</td>\n",
       "      <td>1000.0</td>\n",
       "      <td>12.59</td>\n",
       "      <td>18.89</td>\n",
       "      <td>24.0</td>\n",
       "      <td>453.36</td>\n",
       "      <td>24.0</td>\n",
       "    </tr>\n",
       "    <tr>\n",
       "      <th>3</th>\n",
       "      <td>2016-02-03</td>\n",
       "      <td>2501</td>\n",
       "      <td>AMES</td>\n",
       "      <td>50010</td>\n",
       "      <td>85.0</td>\n",
       "      <td>1071100.0</td>\n",
       "      <td>395</td>\n",
       "      <td>59154</td>\n",
       "      <td>1750.0</td>\n",
       "      <td>9.50</td>\n",
       "      <td>14.25</td>\n",
       "      <td>6.0</td>\n",
       "      <td>85.50</td>\n",
       "      <td>10.5</td>\n",
       "    </tr>\n",
       "    <tr>\n",
       "      <th>4</th>\n",
       "      <td>2015-08-18</td>\n",
       "      <td>3654</td>\n",
       "      <td>BELMOND</td>\n",
       "      <td>50421</td>\n",
       "      <td>99.0</td>\n",
       "      <td>1031080.0</td>\n",
       "      <td>297</td>\n",
       "      <td>35918</td>\n",
       "      <td>1750.0</td>\n",
       "      <td>7.20</td>\n",
       "      <td>10.80</td>\n",
       "      <td>12.0</td>\n",
       "      <td>129.60</td>\n",
       "      <td>21.0</td>\n",
       "    </tr>\n",
       "  </tbody>\n",
       "</table>\n",
       "</div>"
      ],
      "text/plain": [
       "        Date  Store Number         City Zip Code  County Number   Category  \\\n",
       "0 2015-11-04          3717       SUMNER    50674            9.0  1051100.0   \n",
       "1 2016-03-02          2614    DAVENPORT    52807           82.0  1011100.0   \n",
       "2 2016-02-11          2106  CEDAR FALLS    50613            7.0  1011200.0   \n",
       "3 2016-02-03          2501         AMES    50010           85.0  1071100.0   \n",
       "4 2015-08-18          3654      BELMOND    50421           99.0  1031080.0   \n",
       "\n",
       "   Vendor Number  Item Number  Bottle Volume (ml)  State Bottle Cost  \\\n",
       "0             55        54436               750.0               4.50   \n",
       "1            395        27605               750.0              13.75   \n",
       "2             65        19067              1000.0              12.59   \n",
       "3            395        59154              1750.0               9.50   \n",
       "4            297        35918              1750.0               7.20   \n",
       "\n",
       "   State Bottle Retail  Bottles Sold  Sale (Dollars)  Volume Sold (Liters)  \n",
       "0                 6.75          12.0           81.00                   9.0  \n",
       "1                20.63           2.0           41.26                   1.5  \n",
       "2                18.89          24.0          453.36                  24.0  \n",
       "3                14.25           6.0           85.50                  10.5  \n",
       "4                10.80          12.0          129.60                  21.0  "
      ]
     },
     "execution_count": 158,
     "metadata": {},
     "output_type": "execute_result"
    }
   ],
   "source": [
    "df.head()"
   ]
  },
  {
   "cell_type": "markdown",
   "metadata": {},
   "source": [
    "# Explore the data\n",
    "\n",
    "Perform some exploratory statistical analysis and make some plots, such as histograms of transaction totals, bottles sold, etc."
   ]
  },
  {
   "cell_type": "code",
   "execution_count": 12,
   "metadata": {
    "collapsed": false
   },
   "outputs": [
    {
     "data": {
      "text/plain": [
       "(270955, 14)"
      ]
     },
     "execution_count": 12,
     "metadata": {},
     "output_type": "execute_result"
    }
   ],
   "source": [
    "df.shape"
   ]
  },
  {
   "cell_type": "code",
   "execution_count": 13,
   "metadata": {
    "collapsed": false
   },
   "outputs": [
    {
     "name": "stdout",
     "output_type": "stream",
     "text": [
      "The maximum Bottles Sold is: \n",
      "2508.0\n",
      "The least Bottles Sold is: \n",
      "1.0\n"
     ]
    }
   ],
   "source": [
    "print \"The maximum Bottles Sold is: \"\n",
    "print df['Bottles Sold'].values.max()\n",
    "print \"The least Bottles Sold is: \"\n",
    "print df['Bottles Sold'].values.min()"
   ]
  },
  {
   "cell_type": "code",
   "execution_count": 14,
   "metadata": {
    "collapsed": false
   },
   "outputs": [
    {
     "name": "stdout",
     "output_type": "stream",
     "text": [
      "The maximum Bottle cost at retail value is: \n",
      "637.5\n",
      "The minimum Bottle cost at retail value is: \n",
      "1.34\n"
     ]
    }
   ],
   "source": [
    "print \"The maximum Bottle cost at retail value is: \"\n",
    "print df['State Bottle Retail'].values.max()\n",
    "print \"The minimum Bottle cost at retail value is: \"\n",
    "print df['State Bottle Retail'].values.min()"
   ]
  },
  {
   "cell_type": "code",
   "execution_count": 15,
   "metadata": {
    "collapsed": false,
    "scrolled": true
   },
   "outputs": [
    {
     "data": {
      "text/html": [
       "<div>\n",
       "<table border=\"1\" class=\"dataframe\">\n",
       "  <thead>\n",
       "    <tr style=\"text-align: right;\">\n",
       "      <th></th>\n",
       "      <th>Store Number</th>\n",
       "      <th>Date amin</th>\n",
       "      <th>Date amax</th>\n",
       "    </tr>\n",
       "  </thead>\n",
       "  <tbody>\n",
       "    <tr>\n",
       "      <th>0</th>\n",
       "      <td>2106</td>\n",
       "      <td>2015-01-08</td>\n",
       "      <td>2016-03-31</td>\n",
       "    </tr>\n",
       "    <tr>\n",
       "      <th>1</th>\n",
       "      <td>2113</td>\n",
       "      <td>2015-01-07</td>\n",
       "      <td>2016-03-23</td>\n",
       "    </tr>\n",
       "    <tr>\n",
       "      <th>2</th>\n",
       "      <td>2130</td>\n",
       "      <td>2015-01-08</td>\n",
       "      <td>2016-03-31</td>\n",
       "    </tr>\n",
       "    <tr>\n",
       "      <th>3</th>\n",
       "      <td>2152</td>\n",
       "      <td>2015-01-08</td>\n",
       "      <td>2016-03-17</td>\n",
       "    </tr>\n",
       "    <tr>\n",
       "      <th>4</th>\n",
       "      <td>2178</td>\n",
       "      <td>2015-01-07</td>\n",
       "      <td>2016-03-30</td>\n",
       "    </tr>\n",
       "  </tbody>\n",
       "</table>\n",
       "</div>"
      ],
      "text/plain": [
       "   Store Number  Date amin  Date amax\n",
       "0          2106 2015-01-08 2016-03-31\n",
       "1          2113 2015-01-07 2016-03-23\n",
       "2          2130 2015-01-08 2016-03-31\n",
       "3          2152 2015-01-08 2016-03-17\n",
       "4          2178 2015-01-07 2016-03-30"
      ]
     },
     "execution_count": 15,
     "metadata": {},
     "output_type": "execute_result"
    }
   ],
   "source": [
    "# Determine which stores were open all of 2015\n",
    "# Find the first and last sales date per store.\n",
    "dates = df.groupby(by=[\"Store Number\"], as_index=False)\n",
    "dates = dates.agg({\"Date\": [np.min, np.max]})\n",
    "dates.columns = [' '.join(col).strip() for col in dates.columns.values]\n",
    "dates.head()"
   ]
  },
  {
   "cell_type": "code",
   "execution_count": 16,
   "metadata": {
    "collapsed": false
   },
   "outputs": [
    {
     "name": "stdout",
     "output_type": "stream",
     "text": [
      "2015-01-05 00:00:00\n",
      "2016-03-31 00:00:00\n"
     ]
    }
   ],
   "source": [
    "# First and last sales date for all stores\n",
    "first_sale = df['Date'].min()\n",
    "print first_sale\n",
    "last_sale = df['Date'].max()\n",
    "print last_sale"
   ]
  },
  {
   "cell_type": "markdown",
   "metadata": {},
   "source": [
    "Filtering out stores that opened or closed throughout the year.  This is done to remove the stores which opened or\n",
    "closed in 2015 which will heavily skew the data:"
   ]
  },
  {
   "cell_type": "code",
   "execution_count": 109,
   "metadata": {
    "collapsed": true
   },
   "outputs": [],
   "source": [
    "lower_cutoff = pd.Timestamp(\"20150301\")\n",
    "upper_cutoff = pd.Timestamp(\"20151001\")\n",
    "mask = (dates['Date amin'] < lower_cutoff) & (dates['Date amax'] > upper_cutoff)\n",
    "good_stores = dates[mask][\"Store Number\"]\n",
    "df = df[df[\"Store Number\"].isin(good_stores)]"
   ]
  },
  {
   "cell_type": "code",
   "execution_count": 18,
   "metadata": {
    "collapsed": false
   },
   "outputs": [
    {
     "name": "stdout",
     "output_type": "stream",
     "text": [
      "The Mean for the Sales per store in Iowa is: \n",
      "130.015123216\n",
      "The Standard Deviation for the Sales per store in Iowa is: \n",
      "388.058836417\n",
      "The Mean for the amount of Bottles Sold per store in Iowa is: \n",
      "9.88737695875\n",
      "The Standard Deviation for Bottles Sold per store in Iowa is: \n",
      "24.321426154\n",
      "The Mean for the State Bottle Retail cost in Iowa is: \n",
      "14.7310379359\n",
      "The Standard Deviation for the State Bottle Retail cost in Iowa is: \n",
      "10.6164659019\n"
     ]
    }
   ],
   "source": [
    "print \"The Mean for the Sales per store in Iowa is: \"\n",
    "print np.mean(df['Sale (Dollars)'])\n",
    "print \"The Standard Deviation for the Sales per store in Iowa is: \"\n",
    "print np.std((df['Sale (Dollars)']))\n",
    "print \"The Mean for the amount of Bottles Sold per store in Iowa is: \"\n",
    "print np.mean(df['Bottles Sold'])\n",
    "print \"The Standard Deviation for Bottles Sold per store in Iowa is: \"\n",
    "print np.std((df['Bottles Sold']))\n",
    "print \"The Mean for the State Bottle Retail cost in Iowa is: \"\n",
    "print np.mean(df['State Bottle Retail'])\n",
    "print \"The Standard Deviation for the State Bottle Retail cost in Iowa is: \"\n",
    "print np.std((df['State Bottle Retail']))"
   ]
  },
  {
   "cell_type": "code",
   "execution_count": 48,
   "metadata": {
    "collapsed": false
   },
   "outputs": [
    {
     "data": {
      "image/png": "[encoded data removed]",
      "text/plain": [
       "<matplotlib.figure.Figure at 0x11cd269d0>"
      ]
     },
     "metadata": {},
     "output_type": "display_data"
    }
   ],
   "source": [
    "#histogram for Sales over entire database\n",
    "sales = pd.value_counts(df['Sale (Dollars)'].map(round))\n",
    "plt.hist(sales, 20, normed=1, facecolor='green', alpha=0.75)\n",
    "plt.show()"
   ]
  },
  {
   "cell_type": "code",
   "execution_count": 49,
   "metadata": {
    "collapsed": false,
    "scrolled": true
   },
   "outputs": [
    {
     "data": {
      "image/png": "[encoded data removed]",
      "text/plain": [
       "<matplotlib.figure.Figure at 0x10404a150>"
      ]
     },
     "metadata": {},
     "output_type": "display_data"
    }
   ],
   "source": [
    "#histogram for bottles sold over entire database\n",
    "bottles_sold = pd.value_counts(df['Bottles Sold'].map(round))\n",
    "plt.hist(bottles_sold, 20, normed=1, facecolor='blue', alpha=0.75)\n",
    "plt.show()"
   ]
  },
  {
   "cell_type": "code",
   "execution_count": 50,
   "metadata": {
    "collapsed": false
   },
   "outputs": [
    {
     "data": {
      "image/png": "[encoded data removed]",
      "text/plain": [
       "<matplotlib.figure.Figure at 0x119d1ee50>"
      ]
     },
     "metadata": {},
     "output_type": "display_data"
    }
   ],
   "source": [
    "#histogram for State Bottle Retail Cost over entire database\n",
    "state_bottle_retail = pd.value_counts(df['State Bottle Retail'].map(round))\n",
    "plt.hist(state_bottle_retail, 20, normed=1, facecolor='yellow', alpha=0.75)\n",
    "plt.show()"
   ]
  },
  {
   "cell_type": "markdown",
   "metadata": {},
   "source": [
    "## Some key findings in the exploratory analysis are as follows:\n",
    "* The fiscal year seems to start in March\n",
    "* The data does not follow a normal distribution, at least as far as sales, cost, and bottles sold is concerned"
   ]
  },
  {
   "cell_type": "markdown",
   "metadata": {},
   "source": [
    "# Mine the data\n",
    "Now you are ready to compute the variables you will use for your regression from the data. For example, you may want to\n",
    "compute total sales per store from Jan to March of 2015, mean price per bottle, etc. Refer to the readme for more ideas appropriate to your scenario.\n",
    "\n",
    "Pandas is your friend for this task. Take a look at the operations [here](http://pandas.pydata.org/pandas-docs/stable/groupby.html) for ideas on how to make the best use of pandas and feel free to search for blog and Stack Overflow posts to help you group data by certain variables and compute sums, means, etc. You may find it useful to create a new data frame to house this summary data."
   ]
  },
  {
   "cell_type": "code",
   "execution_count": 159,
   "metadata": {
    "collapsed": false,
    "scrolled": true
   },
   "outputs": [
    {
     "data": {
      "text/html": [
       "<div>\n",
       "<table border=\"1\" class=\"dataframe\">\n",
       "  <thead>\n",
       "    <tr style=\"text-align: right;\">\n",
       "      <th></th>\n",
       "      <th>Date</th>\n",
       "      <th>Store Number</th>\n",
       "      <th>City</th>\n",
       "      <th>Zip Code</th>\n",
       "      <th>County Number</th>\n",
       "      <th>Category</th>\n",
       "      <th>Vendor Number</th>\n",
       "      <th>Item Number</th>\n",
       "      <th>Bottle Volume (ml)</th>\n",
       "      <th>State Bottle Cost</th>\n",
       "      <th>State Bottle Retail</th>\n",
       "      <th>Bottles Sold</th>\n",
       "      <th>Sale (Dollars)</th>\n",
       "      <th>Volume Sold (Liters)</th>\n",
       "      <th>Margin</th>\n",
       "      <th>Price per Liter</th>\n",
       "    </tr>\n",
       "  </thead>\n",
       "  <tbody>\n",
       "    <tr>\n",
       "      <th>0</th>\n",
       "      <td>2015-11-04</td>\n",
       "      <td>3717</td>\n",
       "      <td>SUMNER</td>\n",
       "      <td>50674</td>\n",
       "      <td>9.0</td>\n",
       "      <td>1051100.0</td>\n",
       "      <td>55</td>\n",
       "      <td>54436</td>\n",
       "      <td>750.0</td>\n",
       "      <td>4.50</td>\n",
       "      <td>6.75</td>\n",
       "      <td>12.0</td>\n",
       "      <td>81.00</td>\n",
       "      <td>9.0</td>\n",
       "      <td>27.00</td>\n",
       "      <td>9.000000</td>\n",
       "    </tr>\n",
       "    <tr>\n",
       "      <th>1</th>\n",
       "      <td>2016-03-02</td>\n",
       "      <td>2614</td>\n",
       "      <td>DAVENPORT</td>\n",
       "      <td>52807</td>\n",
       "      <td>82.0</td>\n",
       "      <td>1011100.0</td>\n",
       "      <td>395</td>\n",
       "      <td>27605</td>\n",
       "      <td>750.0</td>\n",
       "      <td>13.75</td>\n",
       "      <td>20.63</td>\n",
       "      <td>2.0</td>\n",
       "      <td>41.26</td>\n",
       "      <td>1.5</td>\n",
       "      <td>13.76</td>\n",
       "      <td>27.506667</td>\n",
       "    </tr>\n",
       "    <tr>\n",
       "      <th>2</th>\n",
       "      <td>2016-02-11</td>\n",
       "      <td>2106</td>\n",
       "      <td>CEDAR FALLS</td>\n",
       "      <td>50613</td>\n",
       "      <td>7.0</td>\n",
       "      <td>1011200.0</td>\n",
       "      <td>65</td>\n",
       "      <td>19067</td>\n",
       "      <td>1000.0</td>\n",
       "      <td>12.59</td>\n",
       "      <td>18.89</td>\n",
       "      <td>24.0</td>\n",
       "      <td>453.36</td>\n",
       "      <td>24.0</td>\n",
       "      <td>151.20</td>\n",
       "      <td>18.890000</td>\n",
       "    </tr>\n",
       "    <tr>\n",
       "      <th>3</th>\n",
       "      <td>2016-02-03</td>\n",
       "      <td>2501</td>\n",
       "      <td>AMES</td>\n",
       "      <td>50010</td>\n",
       "      <td>85.0</td>\n",
       "      <td>1071100.0</td>\n",
       "      <td>395</td>\n",
       "      <td>59154</td>\n",
       "      <td>1750.0</td>\n",
       "      <td>9.50</td>\n",
       "      <td>14.25</td>\n",
       "      <td>6.0</td>\n",
       "      <td>85.50</td>\n",
       "      <td>10.5</td>\n",
       "      <td>28.50</td>\n",
       "      <td>8.142857</td>\n",
       "    </tr>\n",
       "    <tr>\n",
       "      <th>4</th>\n",
       "      <td>2015-08-18</td>\n",
       "      <td>3654</td>\n",
       "      <td>BELMOND</td>\n",
       "      <td>50421</td>\n",
       "      <td>99.0</td>\n",
       "      <td>1031080.0</td>\n",
       "      <td>297</td>\n",
       "      <td>35918</td>\n",
       "      <td>1750.0</td>\n",
       "      <td>7.20</td>\n",
       "      <td>10.80</td>\n",
       "      <td>12.0</td>\n",
       "      <td>129.60</td>\n",
       "      <td>21.0</td>\n",
       "      <td>43.20</td>\n",
       "      <td>6.171429</td>\n",
       "    </tr>\n",
       "  </tbody>\n",
       "</table>\n",
       "</div>"
      ],
      "text/plain": [
       "        Date  Store Number         City Zip Code  County Number   Category  \\\n",
       "0 2015-11-04          3717       SUMNER    50674            9.0  1051100.0   \n",
       "1 2016-03-02          2614    DAVENPORT    52807           82.0  1011100.0   \n",
       "2 2016-02-11          2106  CEDAR FALLS    50613            7.0  1011200.0   \n",
       "3 2016-02-03          2501         AMES    50010           85.0  1071100.0   \n",
       "4 2015-08-18          3654      BELMOND    50421           99.0  1031080.0   \n",
       "\n",
       "   Vendor Number  Item Number  Bottle Volume (ml)  State Bottle Cost  \\\n",
       "0             55        54436               750.0               4.50   \n",
       "1            395        27605               750.0              13.75   \n",
       "2             65        19067              1000.0              12.59   \n",
       "3            395        59154              1750.0               9.50   \n",
       "4            297        35918              1750.0               7.20   \n",
       "\n",
       "   State Bottle Retail  Bottles Sold  Sale (Dollars)  Volume Sold (Liters)  \\\n",
       "0                 6.75          12.0           81.00                   9.0   \n",
       "1                20.63           2.0           41.26                   1.5   \n",
       "2                18.89          24.0          453.36                  24.0   \n",
       "3                14.25           6.0           85.50                  10.5   \n",
       "4                10.80          12.0          129.60                  21.0   \n",
       "\n",
       "   Margin  Price per Liter  \n",
       "0   27.00         9.000000  \n",
       "1   13.76        27.506667  \n",
       "2  151.20        18.890000  \n",
       "3   28.50         8.142857  \n",
       "4   43.20         6.171429  "
      ]
     },
     "execution_count": 159,
     "metadata": {},
     "output_type": "execute_result"
    }
   ],
   "source": [
    " # Margin\n",
    "df[\"Margin\"] = (df[\"State Bottle Retail\"] - df[\"State Bottle Cost\"]) * df[\"Bottles Sold\"]\n",
    "df[\"Price per Liter\"] = df[\"Sale (Dollars)\"] / df[\"Volume Sold (Liters)\"]\n",
    "df.head()"
   ]
  },
  {
   "cell_type": "code",
   "execution_count": 160,
   "metadata": {
    "collapsed": false
   },
   "outputs": [],
   "source": [
    "# Sales per store, 2015\n",
    "\n",
    "# Filter by our start and end dates\n",
    "df.sort_values(by=[\"Store Number\", \"Date\"], inplace=True)\n",
    "start_date = pd.Timestamp(\"20150101\")\n",
    "end_date = pd.Timestamp(\"20151231\")\n",
    "mask = (df['Date'] >= start_date) & (df['Date'] <= end_date)\n",
    "sales_2015 = df[mask]\n",
    "\n",
    "# Group by store name\n",
    "sales_2015 = sales_2015.groupby(by=[\"Store Number\"], as_index=False)\n",
    "# Compute sums, means\n",
    "sales_2015 = sales_2015.agg({\"Sale (Dollars)\": [np.sum, np.mean],\n",
    "                   \"Volume Sold (Liters)\": [np.sum, np.mean],\n",
    "                   \"Margin\": np.mean,\n",
    "                   \"Price per Liter\": np.mean,\n",
    "                   \"Zip Code\": lambda x: x.iloc[0], # just extract once, should be the same\n",
    "                   \"City\": lambda x: x.iloc[0],\n",
    "                   \"County Number\": lambda x: x.iloc[0]})\n",
    "# Collapse the column indices\n",
    "sales_2015.columns = [' '.join(col).strip() for col in sales_2015.columns.values]\n",
    "# Rename columns\n",
    "sales_2015.columns = [u'Store Number', u'City', u'2015 Sales',\n",
    "       u'2015 Sales mean', u'County Number',\n",
    "       u'Price per Liter mean', u'Zip Code',\n",
    "       u'2015 Volume Sold (Liters)', u'2015 Volume Sold (Liters) mean',\n",
    "       u'2015 Margin mean']"
   ]
  },
  {
   "cell_type": "code",
   "execution_count": 161,
   "metadata": {
    "collapsed": false
   },
   "outputs": [
    {
     "data": {
      "text/plain": [
       "(1372, 10)"
      ]
     },
     "execution_count": 161,
     "metadata": {},
     "output_type": "execute_result"
    }
   ],
   "source": [
    "sales_2015.shape"
   ]
  },
  {
   "cell_type": "code",
   "execution_count": 162,
   "metadata": {
    "collapsed": false,
    "scrolled": true
   },
   "outputs": [],
   "source": [
    "# Sales per store, 2016\n",
    "\n",
    "# Filter by our start and end dates\n",
    "df.sort_values(by=[\"Store Number\", \"Date\"], inplace=True)\n",
    "start_date = pd.Timestamp(\"20160101\")\n",
    "end_date = pd.Timestamp(\"20160331\") #Used 03/31/2016 as the end date because that is where the dataframe ends\n",
    "mask = (df['Date'] >= start_date) & (df['Date'] <= end_date)\n",
    "sales_2016 = df[mask]\n",
    "\n",
    "# Group by store name\n",
    "sales_2016 = sales_2016.groupby(by=[\"Store Number\"], as_index=False)\n",
    "# Compute sums, means\n",
    "sales_2016 = sales_2016.agg({\"Sale (Dollars)\": [np.sum, np.mean],\n",
    "                   \"Volume Sold (Liters)\": [np.sum, np.mean],\n",
    "                   \"Margin\": np.mean,\n",
    "                   \"Price per Liter\": np.mean,\n",
    "                   \"Zip Code\": lambda x: x.iloc[0], # just extract once, should be the same\n",
    "                   \"City\": lambda x: x.iloc[0],\n",
    "                   \"County Number\": lambda x: x.iloc[0]})\n",
    "# Collapse the column indices\n",
    "sales_2016.columns = [' '.join(col).strip() for col in sales_2015.columns.values]\n",
    "# Rename columns\n",
    "sales_2016.columns = [u'Store Number', u'City', u'2016 Sales',\n",
    "       u'2016 Sales mean', u'County Number',\n",
    "       u'Price per Liter mean', u'Zip Code',\n",
    "       u'2016 Volume Sold (Liters)', u'2016 Volume Sold (Liters) mean',\n",
    "       u'2016 Margin mean']"
   ]
  },
  {
   "cell_type": "code",
   "execution_count": 163,
   "metadata": {
    "collapsed": false
   },
   "outputs": [
    {
     "data": {
      "text/html": [
       "<div>\n",
       "<table border=\"1\" class=\"dataframe\">\n",
       "  <thead>\n",
       "    <tr style=\"text-align: right;\">\n",
       "      <th></th>\n",
       "      <th>Store Number</th>\n",
       "      <th>City</th>\n",
       "      <th>Total Sales</th>\n",
       "      <th>Total Sales mean</th>\n",
       "      <th>County Number</th>\n",
       "      <th>Price per Liter mean</th>\n",
       "      <th>Zip Code</th>\n",
       "      <th>Total Volume Sold (Liters)</th>\n",
       "      <th>Total Volume Sold (Liters) mean</th>\n",
       "      <th>Total Margin mean</th>\n",
       "    </tr>\n",
       "  </thead>\n",
       "  <tbody>\n",
       "    <tr>\n",
       "      <th>0</th>\n",
       "      <td>2106</td>\n",
       "      <td>CEDAR FALLS</td>\n",
       "      <td>176849.97</td>\n",
       "      <td>270.412798</td>\n",
       "      <td>7.0</td>\n",
       "      <td>17.896972</td>\n",
       "      <td>50613</td>\n",
       "      <td>11849.60</td>\n",
       "      <td>18.118654</td>\n",
       "      <td>90.256514</td>\n",
       "    </tr>\n",
       "    <tr>\n",
       "      <th>1</th>\n",
       "      <td>2113</td>\n",
       "      <td>GOWRIE</td>\n",
       "      <td>11376.12</td>\n",
       "      <td>61.826739</td>\n",
       "      <td>94.0</td>\n",
       "      <td>18.301651</td>\n",
       "      <td>50543</td>\n",
       "      <td>836.85</td>\n",
       "      <td>4.548098</td>\n",
       "      <td>20.665924</td>\n",
       "    </tr>\n",
       "    <tr>\n",
       "      <th>2</th>\n",
       "      <td>2130</td>\n",
       "      <td>WATERLOO</td>\n",
       "      <td>139727.54</td>\n",
       "      <td>274.513831</td>\n",
       "      <td>7.0</td>\n",
       "      <td>16.977485</td>\n",
       "      <td>50703</td>\n",
       "      <td>8448.27</td>\n",
       "      <td>16.597780</td>\n",
       "      <td>91.578566</td>\n",
       "    </tr>\n",
       "    <tr>\n",
       "      <th>3</th>\n",
       "      <td>2152</td>\n",
       "      <td>ROCKWELL</td>\n",
       "      <td>9097.51</td>\n",
       "      <td>53.201813</td>\n",
       "      <td>17.0</td>\n",
       "      <td>12.932490</td>\n",
       "      <td>50469</td>\n",
       "      <td>773.50</td>\n",
       "      <td>4.523392</td>\n",
       "      <td>17.830234</td>\n",
       "    </tr>\n",
       "    <tr>\n",
       "      <th>4</th>\n",
       "      <td>2178</td>\n",
       "      <td>WAUKON</td>\n",
       "      <td>29912.68</td>\n",
       "      <td>101.398915</td>\n",
       "      <td>3.0</td>\n",
       "      <td>15.866688</td>\n",
       "      <td>52172</td>\n",
       "      <td>2437.92</td>\n",
       "      <td>8.264136</td>\n",
       "      <td>34.015119</td>\n",
       "    </tr>\n",
       "  </tbody>\n",
       "</table>\n",
       "</div>"
      ],
      "text/plain": [
       "   Store Number         City  Total Sales  Total Sales mean  County Number  \\\n",
       "0          2106  CEDAR FALLS    176849.97        270.412798            7.0   \n",
       "1          2113       GOWRIE     11376.12         61.826739           94.0   \n",
       "2          2130     WATERLOO    139727.54        274.513831            7.0   \n",
       "3          2152     ROCKWELL      9097.51         53.201813           17.0   \n",
       "4          2178       WAUKON     29912.68        101.398915            3.0   \n",
       "\n",
       "   Price per Liter mean Zip Code  Total Volume Sold (Liters)  \\\n",
       "0             17.896972    50613                    11849.60   \n",
       "1             18.301651    50543                      836.85   \n",
       "2             16.977485    50703                     8448.27   \n",
       "3             12.932490    50469                      773.50   \n",
       "4             15.866688    52172                     2437.92   \n",
       "\n",
       "   Total Volume Sold (Liters) mean  Total Margin mean  \n",
       "0                        18.118654          90.256514  \n",
       "1                         4.548098          20.665924  \n",
       "2                        16.597780          91.578566  \n",
       "3                         4.523392          17.830234  \n",
       "4                         8.264136          34.015119  "
      ]
     },
     "execution_count": 163,
     "metadata": {},
     "output_type": "execute_result"
    }
   ],
   "source": [
    "# Sales per year, 2015-2016\n",
    "\n",
    "# Filter by our start and end dates\n",
    "df.sort_values(by=[\"Store Number\", \"Date\"], inplace=True)\n",
    "start_date = pd.Timestamp(\"20150101\")\n",
    "end_date = pd.Timestamp(\"20160331\") #Used 03/31/2016 as the end date because that is where the dataframe ends\n",
    "mask = (df['Date'] >= start_date) & (df['Date'] <= end_date)\n",
    "sales_total = df[mask]\n",
    "\n",
    "# Group by store name\n",
    "sales_total = sales_total.groupby(by=[\"Store Number\"], as_index=False)\n",
    "# Compute sums, means\n",
    "sales_total = sales_total.agg({\"Sale (Dollars)\": [np.sum, np.mean],\n",
    "                   \"Volume Sold (Liters)\": [np.sum, np.mean],\n",
    "                   \"Margin\": np.mean,\n",
    "                   \"Price per Liter\": np.mean,\n",
    "                   \"Zip Code\": lambda x: x.iloc[0], # just extract once, should be the same\n",
    "                   \"City\": lambda x: x.iloc[0],\n",
    "                   \"County Number\": lambda x: x.iloc[0]})\n",
    "# Collapse the column indices\n",
    "sales_total.columns = [' '.join(col).strip() for col in sales_total.columns.values]\n",
    "# Rename columns\n",
    "sales_total.columns = [u'Store Number', u'City', u'Total Sales',\n",
    "       u'Total Sales mean', u'County Number',\n",
    "       u'Price per Liter mean', u'Zip Code',\n",
    "       u'Total Volume Sold (Liters)', u'Total Volume Sold (Liters) mean',\n",
    "       u'Total Margin mean']\n",
    "\n",
    "sales_total.head()"
   ]
  },
  {
   "cell_type": "code",
   "execution_count": 164,
   "metadata": {
    "collapsed": false
   },
   "outputs": [],
   "source": [
    "# Q1 sales\n",
    "\n",
    "# Sales 2015  Q1\n",
    "start_date = pd.Timestamp(\"20150101\")\n",
    "end_date = pd.Timestamp(\"20150331\")\n",
    "df.sort_values(by=[\"Store Number\", \"Date\"], inplace=True)\n",
    "mask = (df['Date'] >= start_date) & (df['Date'] <= end_date)\n",
    "df2 = df[mask].groupby(by=[\"Store Number\"], as_index=False)[\"Sale (Dollars)\"].sum()\n",
    "sales_2015[\"2015 Sales Q1\"] = df2[\"Sale (Dollars)\"]\n",
    "\n",
    "# Sales 2016 Q1\n",
    "start_date = pd.Timestamp(\"20160101\")\n",
    "end_date = pd.Timestamp(\"20160331\")\n",
    "df.sort_values(by=[\"Store Number\", \"Date\"], inplace=True)\n",
    "mask = (df['Date'] >= start_date) & (df['Date'] <= end_date)\n",
    "df2 = df[mask].groupby(by=[\"Store Number\"], as_index=False)[\"Sale (Dollars)\"].sum()\n",
    "sales_2016[\"2016 Sales Q1\"] = df2[\"Sale (Dollars)\"]"
   ]
  },
  {
   "cell_type": "code",
   "execution_count": 165,
   "metadata": {
    "collapsed": false,
    "scrolled": false
   },
   "outputs": [
    {
     "data": {
      "text/html": [
       "<div>\n",
       "<table border=\"1\" class=\"dataframe\">\n",
       "  <thead>\n",
       "    <tr style=\"text-align: right;\">\n",
       "      <th></th>\n",
       "      <th>Store Number</th>\n",
       "      <th>City</th>\n",
       "      <th>Total Sales</th>\n",
       "      <th>Total Sales mean</th>\n",
       "      <th>County Number</th>\n",
       "      <th>Price per Liter mean_x</th>\n",
       "      <th>Zip Code</th>\n",
       "      <th>Total Volume Sold (Liters)</th>\n",
       "      <th>Total Volume Sold (Liters) mean</th>\n",
       "      <th>Total Margin mean</th>\n",
       "      <th>...</th>\n",
       "      <th>2015 Volume Sold (Liters) mean</th>\n",
       "      <th>2015 Margin mean</th>\n",
       "      <th>2015 Sales Q1</th>\n",
       "      <th>2016 Sales</th>\n",
       "      <th>2016 Sales mean</th>\n",
       "      <th>Price per Liter mean</th>\n",
       "      <th>2016 Volume Sold (Liters)</th>\n",
       "      <th>2016 Volume Sold (Liters) mean</th>\n",
       "      <th>2016 Margin mean</th>\n",
       "      <th>2016 Sales Q1</th>\n",
       "    </tr>\n",
       "  </thead>\n",
       "  <tbody>\n",
       "    <tr>\n",
       "      <th>0</th>\n",
       "      <td>2106</td>\n",
       "      <td>CEDAR FALLS</td>\n",
       "      <td>176849.97</td>\n",
       "      <td>270.412798</td>\n",
       "      <td>7.0</td>\n",
       "      <td>17.896972</td>\n",
       "      <td>50613</td>\n",
       "      <td>11849.60</td>\n",
       "      <td>18.118654</td>\n",
       "      <td>90.256514</td>\n",
       "      <td>...</td>\n",
       "      <td>18.466509</td>\n",
       "      <td>92.671879</td>\n",
       "      <td>39287.29</td>\n",
       "      <td>30523.75</td>\n",
       "      <td>240.344488</td>\n",
       "      <td>18.064496</td>\n",
       "      <td>2117.75</td>\n",
       "      <td>16.675197</td>\n",
       "      <td>80.233701</td>\n",
       "      <td>30523.75</td>\n",
       "    </tr>\n",
       "    <tr>\n",
       "      <th>1</th>\n",
       "      <td>2113</td>\n",
       "      <td>GOWRIE</td>\n",
       "      <td>11376.12</td>\n",
       "      <td>61.826739</td>\n",
       "      <td>94.0</td>\n",
       "      <td>18.301651</td>\n",
       "      <td>50543</td>\n",
       "      <td>836.85</td>\n",
       "      <td>4.548098</td>\n",
       "      <td>20.665924</td>\n",
       "      <td>...</td>\n",
       "      <td>4.488776</td>\n",
       "      <td>21.149932</td>\n",
       "      <td>2833.25</td>\n",
       "      <td>2065.90</td>\n",
       "      <td>55.835135</td>\n",
       "      <td>17.483024</td>\n",
       "      <td>177.00</td>\n",
       "      <td>4.783784</td>\n",
       "      <td>18.742973</td>\n",
       "      <td>2065.90</td>\n",
       "    </tr>\n",
       "    <tr>\n",
       "      <th>2</th>\n",
       "      <td>2130</td>\n",
       "      <td>WATERLOO</td>\n",
       "      <td>139727.54</td>\n",
       "      <td>274.513831</td>\n",
       "      <td>7.0</td>\n",
       "      <td>16.977485</td>\n",
       "      <td>50703</td>\n",
       "      <td>8448.27</td>\n",
       "      <td>16.597780</td>\n",
       "      <td>91.578566</td>\n",
       "      <td>...</td>\n",
       "      <td>17.580026</td>\n",
       "      <td>95.217347</td>\n",
       "      <td>24272.57</td>\n",
       "      <td>27856.11</td>\n",
       "      <td>238.086410</td>\n",
       "      <td>17.452157</td>\n",
       "      <td>1556.90</td>\n",
       "      <td>13.306838</td>\n",
       "      <td>79.387094</td>\n",
       "      <td>27856.11</td>\n",
       "    </tr>\n",
       "    <tr>\n",
       "      <th>3</th>\n",
       "      <td>2152</td>\n",
       "      <td>ROCKWELL</td>\n",
       "      <td>9097.51</td>\n",
       "      <td>53.201813</td>\n",
       "      <td>17.0</td>\n",
       "      <td>12.932490</td>\n",
       "      <td>50469</td>\n",
       "      <td>773.50</td>\n",
       "      <td>4.523392</td>\n",
       "      <td>17.830234</td>\n",
       "      <td>...</td>\n",
       "      <td>4.491986</td>\n",
       "      <td>18.351277</td>\n",
       "      <td>2003.46</td>\n",
       "      <td>1376.43</td>\n",
       "      <td>45.881000</td>\n",
       "      <td>12.517597</td>\n",
       "      <td>140.13</td>\n",
       "      <td>4.671000</td>\n",
       "      <td>15.381333</td>\n",
       "      <td>1376.43</td>\n",
       "    </tr>\n",
       "    <tr>\n",
       "      <th>4</th>\n",
       "      <td>2178</td>\n",
       "      <td>WAUKON</td>\n",
       "      <td>29912.68</td>\n",
       "      <td>101.398915</td>\n",
       "      <td>3.0</td>\n",
       "      <td>15.866688</td>\n",
       "      <td>52172</td>\n",
       "      <td>2437.92</td>\n",
       "      <td>8.264136</td>\n",
       "      <td>34.015119</td>\n",
       "      <td>...</td>\n",
       "      <td>8.089114</td>\n",
       "      <td>34.454430</td>\n",
       "      <td>5856.41</td>\n",
       "      <td>5588.50</td>\n",
       "      <td>96.353448</td>\n",
       "      <td>15.101929</td>\n",
       "      <td>520.80</td>\n",
       "      <td>8.979310</td>\n",
       "      <td>32.220000</td>\n",
       "      <td>5588.50</td>\n",
       "    </tr>\n",
       "  </tbody>\n",
       "</table>\n",
       "<p>5 rows × 24 columns</p>\n",
       "</div>"
      ],
      "text/plain": [
       "   Store Number         City  Total Sales  Total Sales mean  County Number  \\\n",
       "0          2106  CEDAR FALLS    176849.97        270.412798            7.0   \n",
       "1          2113       GOWRIE     11376.12         61.826739           94.0   \n",
       "2          2130     WATERLOO    139727.54        274.513831            7.0   \n",
       "3          2152     ROCKWELL      9097.51         53.201813           17.0   \n",
       "4          2178       WAUKON     29912.68        101.398915            3.0   \n",
       "\n",
       "   Price per Liter mean_x Zip Code  Total Volume Sold (Liters)  \\\n",
       "0               17.896972    50613                    11849.60   \n",
       "1               18.301651    50543                      836.85   \n",
       "2               16.977485    50703                     8448.27   \n",
       "3               12.932490    50469                      773.50   \n",
       "4               15.866688    52172                     2437.92   \n",
       "\n",
       "   Total Volume Sold (Liters) mean  Total Margin mean      ...        \\\n",
       "0                        18.118654          90.256514      ...         \n",
       "1                         4.548098          20.665924      ...         \n",
       "2                        16.597780          91.578566      ...         \n",
       "3                         4.523392          17.830234      ...         \n",
       "4                         8.264136          34.015119      ...         \n",
       "\n",
       "   2015 Volume Sold (Liters) mean  2015 Margin mean  2015 Sales Q1  \\\n",
       "0                       18.466509         92.671879       39287.29   \n",
       "1                        4.488776         21.149932        2833.25   \n",
       "2                       17.580026         95.217347       24272.57   \n",
       "3                        4.491986         18.351277        2003.46   \n",
       "4                        8.089114         34.454430        5856.41   \n",
       "\n",
       "   2016 Sales  2016 Sales mean  Price per Liter mean  \\\n",
       "0    30523.75       240.344488             18.064496   \n",
       "1     2065.90        55.835135             17.483024   \n",
       "2    27856.11       238.086410             17.452157   \n",
       "3     1376.43        45.881000             12.517597   \n",
       "4     5588.50        96.353448             15.101929   \n",
       "\n",
       "   2016 Volume Sold (Liters)  2016 Volume Sold (Liters) mean  \\\n",
       "0                    2117.75                       16.675197   \n",
       "1                     177.00                        4.783784   \n",
       "2                    1556.90                       13.306838   \n",
       "3                     140.13                        4.671000   \n",
       "4                     520.80                        8.979310   \n",
       "\n",
       "   2016 Margin mean  2016 Sales Q1  \n",
       "0         80.233701       30523.75  \n",
       "1         18.742973        2065.90  \n",
       "2         79.387094       27856.11  \n",
       "3         15.381333        1376.43  \n",
       "4         32.220000        5588.50  \n",
       "\n",
       "[5 rows x 24 columns]"
      ]
     },
     "execution_count": 165,
     "metadata": {},
     "output_type": "execute_result"
    }
   ],
   "source": [
    "#merging the sales data from both years so I can compare data across the entire original dataset\n",
    "all_sales = sales_total.merge(sales_2015, on=['Store Number', 'City', 'County Number', 'Zip Code']).merge(sales_2016, on=['Store Number', 'City', 'County Number', 'Zip Code'])\n",
    "all_sales.head()"
   ]
  },
  {
   "cell_type": "code",
   "execution_count": 166,
   "metadata": {
    "collapsed": false
   },
   "outputs": [],
   "source": [
    "all_sales.to_csv('all_sales.csv')"
   ]
  },
  {
   "cell_type": "code",
   "execution_count": 167,
   "metadata": {
    "collapsed": false
   },
   "outputs": [
    {
     "name": "stdout",
     "output_type": "stream",
     "text": [
      "The maximum Total Sales is: \n",
      "1220335.09\n",
      "The minimum Total Sales is: \n",
      "123.6\n"
     ]
    }
   ],
   "source": [
    "print \"The maximum Total Sales is: \"\n",
    "print all_sales['Total Sales'].values.max()\n",
    "print \"The minimum Total Sales is: \"\n",
    "print all_sales['Total Sales'].values.min()"
   ]
  },
  {
   "cell_type": "code",
   "execution_count": 168,
   "metadata": {
    "collapsed": false
   },
   "outputs": [
    {
     "data": {
      "text/plain": [
       "120     1220335.09\n",
       "964     1089152.87\n",
       "32       532265.62\n",
       "179      506589.09\n",
       "185      402576.06\n",
       "361      392451.43\n",
       "298      310536.40\n",
       "282      298663.20\n",
       "178      295593.30\n",
       "148      282144.70\n",
       "187      263207.92\n",
       "1179     236655.80\n",
       "114      221545.53\n",
       "118      219313.27\n",
       "461      217082.81\n",
       "302      214191.04\n",
       "88       212961.57\n",
       "142      204906.94\n",
       "198      202806.60\n",
       "129      192808.32\n",
       "Name: Total Sales, dtype: float64"
      ]
     },
     "execution_count": 168,
     "metadata": {},
     "output_type": "execute_result"
    }
   ],
   "source": [
    "#Identifying top 20 stores by Total Sales Volume and linking to Store Number\n",
    "all_sales.sort_values(by=[\"Store Number\", \"Total Sales\"], inplace=True)\n",
    "top_20_total_sales = (all_sales['Total Sales'].nlargest(20))\n",
    "top_20_total_sales"
   ]
  },
  {
   "cell_type": "markdown",
   "metadata": {},
   "source": [
    "The following chart helps us understand the performance of the top 20 stores in Iowa.  It shows us that there is a \n",
    "significant difference in performance between the top 2 stores and it's competitors.  As a result, a good potential\n",
    "recommendation would be to model behavior from these stores in the bottom 10 of this list to greatly improve market\n",
    "performance in areas we know will do well. \n",
    "In addition, we take a look at the Total Volume Sold in liters at these locations, and notice a trend in volume sold\n",
    "in tandem with performance.  However, the difference is very low and will not inform our recommendations a great deal."
   ]
  },
  {
   "cell_type": "code",
   "execution_count": 95,
   "metadata": {
    "collapsed": false
   },
   "outputs": [
    {
     "data": {
      "image/png": "[encoded data removed]",
      "text/plain": [
       "<matplotlib.figure.Figure at 0x132d0d150>"
      ]
     },
     "metadata": {},
     "output_type": "display_data"
    }
   ],
   "source": [
    "sns.set_palette(\"Set2\", n_colors=10, desat=.3)\n",
    "sales_top_20 = sns.barplot(x=top_20, y='Total Sales', data=all_sales)\n",
    "plt.xticks(rotation=45) # makes the x value readable\n",
    "sales_top_20 = sns.swarmplot(x=top_20, y=\"Total Volume Sold (Liters)\", data=all_sales, color=\".25\")"
   ]
  },
  {
   "cell_type": "markdown",
   "metadata": {},
   "source": [
    "Following that logic we can explore data in regards to the top 20 stores and begin to look for trends.  Interestingly,\n",
    "we find that the top 2 performing locations have a price mean that is in the middle of the \"Top 20\" performance.\n",
    "Alternatively, the majority of the \"Top 20\" either under or over perform with their price mean.\n",
    "This data is helpful, because it shows that if we focus on those stores in the top 20 we can likely impact performance\n",
    "by adjusting prices to more closely match the top 2 performing stores."
   ]
  },
  {
   "cell_type": "code",
   "execution_count": 101,
   "metadata": {
    "collapsed": false,
    "scrolled": false
   },
   "outputs": [
    {
     "data": {
      "text/plain": [
       "(array([ 0,  1,  2,  3,  4,  5,  6,  7,  8,  9, 10, 11, 12, 13, 14, 15, 16,\n",
       "        17, 18, 19]), <a list of 20 Text xticklabel objects>)"
      ]
     },
     "execution_count": 101,
     "metadata": {},
     "output_type": "execute_result"
    },
    {
     "data": {
      "image/png": "[encoded data removed]",
      "text/plain": [
       "<matplotlib.figure.Figure at 0x134a9dcd0>"
      ]
     },
     "metadata": {},
     "output_type": "display_data"
    }
   ],
   "source": [
    "sns.set_palette(\"Set2\", n_colors=10, desat=.3)\n",
    "sales_top_20 = sns.swarmplot(x=top_20, y='Price per Liter mean_x', data=all_sales)\n",
    "plt.xticks(rotation=45) # makes the x value readable"
   ]
  },
  {
   "cell_type": "code",
   "execution_count": 118,
   "metadata": {
    "collapsed": false
   },
   "outputs": [
    {
     "data": {
      "text/plain": [
       "(array([ 0,  1,  2,  3,  4,  5,  6,  7,  8,  9, 10, 11, 12, 13, 14, 15, 16,\n",
       "        17, 18, 19]), <a list of 20 Text xticklabel objects>)"
      ]
     },
     "execution_count": 118,
     "metadata": {},
     "output_type": "execute_result"
    },
    {
     "data": {
      "image/png": "[encoded data removed]",
      "text/plain": [
       "<matplotlib.figure.Figure at 0x1456c8a50>"
      ]
     },
     "metadata": {},
     "output_type": "display_data"
    }
   ],
   "source": [
    "sns.boxplot(x=top_20, y=\"2015 Sales Q1\", data=all_sales)\n",
    "plt.xticks(rotation=45) # makes the x value readable"
   ]
  },
  {
   "cell_type": "code",
   "execution_count": 47,
   "metadata": {
    "collapsed": false
   },
   "outputs": [
    {
     "data": {
      "text/plain": [
       "<matplotlib.axes._subplots.AxesSubplot at 0x1347c4550>"
      ]
     },
     "execution_count": 47,
     "metadata": {},
     "output_type": "execute_result"
    },
    {
     "data": {
      "image/png": "[encoded data removed]",
      "text/plain": [
       "<matplotlib.figure.Figure at 0x127ae3310>"
      ]
     },
     "metadata": {},
     "output_type": "display_data"
    }
   ],
   "source": [
    "sns.set_palette(\"Set2\", n_colors=10, desat=.3)\n",
    "sns.interactplot(x1=\"2016 Sales\", x2=\"2015 Sales\", y=\"Total Sales\", colorbar=True, data=all_sales)"
   ]
  },
  {
   "cell_type": "code",
   "execution_count": 49,
   "metadata": {
    "collapsed": false
   },
   "outputs": [
    {
     "data": {
      "text/plain": [
       "(0, 50000)"
      ]
     },
     "execution_count": 49,
     "metadata": {},
     "output_type": "execute_result"
    },
    {
     "data": {
      "image/png": "[encoded data removed]",
      "text/plain": [
       "<matplotlib.figure.Figure at 0x13480c450>"
      ]
     },
     "metadata": {},
     "output_type": "display_data"
    }
   ],
   "source": [
    "all_sales.plot(kind='scatter', x=\"2015 Sales Q1\", y=\"2016 Sales Q1\");\n",
    "plt.xlim(0, 50000)\n",
    "plt.ylim(0, 50000)"
   ]
  },
  {
   "cell_type": "markdown",
   "metadata": {},
   "source": [
    "# Refine the data\n",
    "Look for any statistical relationships, correlations, or other relevant properties of the dataset."
   ]
  },
  {
   "cell_type": "markdown",
   "metadata": {},
   "source": [
    "We will be looking at the \"Top 20\" in Total Sales, Price per Liter Mean, and Total Volume Sold in our statistical analysis."
   ]
  },
  {
   "cell_type": "code",
   "execution_count": 190,
   "metadata": {
    "collapsed": false
   },
   "outputs": [
    {
     "data": {
      "text/plain": [
       "array([ 1220335.09,  1089152.87,   532265.62,   506589.09,   402576.06,\n",
       "         392451.43,   310536.4 ,   298663.2 ,   295593.3 ,   282144.7 ,\n",
       "         263207.92,   236655.8 ,   221545.53,   219313.27,   217082.81,\n",
       "         214191.04,   212961.57,   204906.94,   202806.6 ,   192808.32])"
      ]
     },
     "execution_count": 190,
     "metadata": {},
     "output_type": "execute_result"
    }
   ],
   "source": [
    "top_20_total_sales"
   ]
  },
  {
   "cell_type": "code",
   "execution_count": 191,
   "metadata": {
    "collapsed": false
   },
   "outputs": [
    {
     "data": {
      "text/plain": [
       "827     86.644170\n",
       "978     43.945952\n",
       "1270    40.110556\n",
       "1154    34.745360\n",
       "1271    34.108571\n",
       "1100    32.371111\n",
       "1105    31.953209\n",
       "1115    29.536178\n",
       "913     29.513550\n",
       "11      28.999445\n",
       "250     28.469313\n",
       "399     28.145940\n",
       "833     28.030456\n",
       "1147    27.962122\n",
       "396     27.347095\n",
       "298     27.132069\n",
       "1272    26.538039\n",
       "974     26.142243\n",
       "293     26.079688\n",
       "491     25.936101\n",
       "Name: Price per Liter mean_x, dtype: float64"
      ]
     },
     "execution_count": 191,
     "metadata": {},
     "output_type": "execute_result"
    }
   ],
   "source": [
    "all_sales.sort_values(by=[\"Store Number\", \"Total Sales\"], inplace=True)\n",
    "top_20_price = (all_sales['Price per Liter mean_x'].nlargest(20))\n",
    "top_20_price"
   ]
  },
  {
   "cell_type": "code",
   "execution_count": 184,
   "metadata": {
    "collapsed": false
   },
   "outputs": [
    {
     "data": {
      "text/plain": [
       "120     75921.50\n",
       "964     63484.99\n",
       "179     36232.50\n",
       "32      33397.94\n",
       "185     28656.00\n",
       "361     21745.26\n",
       "178     21279.75\n",
       "187     18251.50\n",
       "148     17355.38\n",
       "298     16252.50\n",
       "282     16198.82\n",
       "1179    16096.18\n",
       "88      15011.25\n",
       "114     14759.58\n",
       "194     14341.50\n",
       "118     14061.15\n",
       "198     13951.50\n",
       "106     13190.79\n",
       "461     13153.37\n",
       "105     13036.09\n",
       "Name: Total Volume Sold (Liters), dtype: float64"
      ]
     },
     "execution_count": 184,
     "metadata": {},
     "output_type": "execute_result"
    }
   ],
   "source": [
    "all_sales.sort_values(by=[\"Store Number\", \"Total Volume Sold (Liters)\"], inplace=True)\n",
    "top_20_volume_sold = (all_sales['Total Volume Sold (Liters)'].nlargest(20))\n",
    "top_20_volume_sold"
   ]
  },
  {
   "cell_type": "code",
   "execution_count": 182,
   "metadata": {
    "collapsed": false
   },
   "outputs": [
    {
     "name": "stdout",
     "output_type": "stream",
     "text": [
      "      const  Total Sales\n",
      "120     1.0   1220335.09\n",
      "964     1.0   1089152.87\n",
      "32      1.0    532265.62\n",
      "179     1.0    506589.09\n",
      "185     1.0    402576.06\n",
      "361     1.0    392451.43\n",
      "298     1.0    310536.40\n",
      "282     1.0    298663.20\n",
      "178     1.0    295593.30\n",
      "148     1.0    282144.70\n",
      "187     1.0    263207.92\n",
      "1179    1.0    236655.80\n",
      "114     1.0    221545.53\n",
      "118     1.0    219313.27\n",
      "461     1.0    217082.81\n",
      "302     1.0    214191.04\n",
      "88      1.0    212961.57\n",
      "142     1.0    204906.94\n",
      "198     1.0    202806.60\n",
      "129     1.0    192808.32\n"
     ]
    }
   ],
   "source": [
    "X = sm.add_constant(top_20_total_sales)\n",
    "print X"
   ]
  },
  {
   "cell_type": "code",
   "execution_count": 192,
   "metadata": {
    "collapsed": false
   },
   "outputs": [
    {
     "name": "stdout",
     "output_type": "stream",
     "text": [
      "                            OLS Regression Results                            \n",
      "==============================================================================\n",
      "Dep. Variable:                      y   R-squared:                       0.990\n",
      "Model:                            OLS   Adj. R-squared:                  0.990\n",
      "Method:                 Least Squares   F-statistic:                     1817.\n",
      "Date:                Sun, 26 Jun 2016   Prob (F-statistic):           1.56e-19\n",
      "Time:                        19:11:01   Log-Likelihood:                -232.81\n",
      "No. Observations:                  20   AIC:                             469.6\n",
      "Df Residuals:                      18   BIC:                             471.6\n",
      "Df Model:                           1                                         \n",
      "Covariance Type:            nonrobust                                         \n",
      "==============================================================================================\n",
      "                                 coef    std err          t      P>|t|      [95.0% Conf. Int.]\n",
      "----------------------------------------------------------------------------------------------\n",
      "const                      -1.734e+04   1.13e+04     -1.539      0.141      -4.1e+04  6335.006\n",
      "Total Volume Sold (Liters)    16.5050      0.387     42.632      0.000        15.692    17.318\n",
      "==============================================================================\n",
      "Omnibus:                        0.607   Durbin-Watson:                   2.452\n",
      "Prob(Omnibus):                  0.738   Jarque-Bera (JB):                0.144\n",
      "Skew:                           0.208   Prob(JB):                        0.931\n",
      "Kurtosis:                       3.016   Cond. No.                     5.06e+04\n",
      "==============================================================================\n",
      "\n",
      "Warnings:\n",
      "[1] Standard Errors assume that the covariance matrix of the errors is correctly specified.\n",
      "[2] The condition number is large, 5.06e+04. This might indicate that there are\n",
      "strong multicollinearity or other numerical problems.\n"
     ]
    }
   ],
   "source": [
    "leastsq_reg = sm.OLS(top_20_total_sales, sm.add_constant(top_20_volume_sold)).fit()\n",
    "print leastsq_reg.summary()"
   ]
  },
  {
   "cell_type": "code",
   "execution_count": 193,
   "metadata": {
    "collapsed": false
   },
   "outputs": [
    {
     "name": "stdout",
     "output_type": "stream",
     "text": [
      "coefficients: const                        -17342.163822\n",
      "Total Volume Sold (Liters)       16.505041\n",
      "dtype: float64\n",
      "rsquared:  0.990193354961\n",
      "standard error:  const                         11269.894428\n",
      "Total Volume Sold (Liters)        0.387151\n",
      "dtype: float64\n"
     ]
    }
   ],
   "source": [
    "print 'coefficients:', leastsq_reg.params \n",
    "print 'rsquared: ', leastsq_reg.rsquared\n",
    "print 'standard error: ', leastsq_reg.bse "
   ]
  },
  {
   "cell_type": "code",
   "execution_count": 195,
   "metadata": {
    "collapsed": false
   },
   "outputs": [
    {
     "name": "stdout",
     "output_type": "stream",
     "text": [
      "(20, 2)\n",
      "(20,)\n"
     ]
    }
   ],
   "source": [
    "df_2 = pd.DataFrame({'top_20_price': top_20_price, 'top_20_price': top_20_price})\n",
    "costs = sm.add_constant(df_2)\n",
    "print costs.shape\n",
    "print top_20_volume_sold.shape"
   ]
  },
  {
   "cell_type": "code",
   "execution_count": 215,
   "metadata": {
    "collapsed": false
   },
   "outputs": [],
   "source": [
    "#est = sm.OLS(sold_sample, costs).fit()\n",
    "#est.summary()"
   ]
  },
  {
   "cell_type": "markdown",
   "metadata": {},
   "source": [
    "## Plot your results\n",
    "\n",
    "Again make sure that you record any valuable information. For example, in the tax scenario, did you find the sales from the first three months of the year to be a good predictor of the total sales for the year? Plot the predictions versus the true values and discuss the successes and limitations of your models"
   ]
  },
  {
   "cell_type": "code",
   "execution_count": 197,
   "metadata": {
    "collapsed": true
   },
   "outputs": [],
   "source": [
    "def plot_regression(x, y, model):\n",
    "    plt.figure(figsize=(10,8))\n",
    "    axes = plt.gca()\n",
    "    \n",
    "    intercept = model.params[0]\n",
    "    slope = model.params[1]\n",
    "\n",
    "    for x_, y_ in zip(x, y):    \n",
    "        plt.plot((x_, x_), (y_, x_*slope + intercept),\n",
    "                 'k-', ls='dashed', lw=1)\n",
    "        \n",
    "    plt.scatter(x, y, s=70, c='steelblue')\n",
    "    \n",
    "    x_points = np.linspace(axes.get_xlim()[0], axes.get_xlim()[1], 100)\n",
    "    \n",
    "    regline_x = x_points\n",
    "    regline_y = x_points*slope + intercept\n",
    "\n",
    "    plt.plot(regline_x, regline_y, c='darkred', lw=3.5)\n",
    "\n",
    "    plt.show()\n",
    "    \n",
    "    \n",
    "def plot_leastsq_loss(model):\n",
    "    plt.figure(figsize=(10,8))\n",
    "    \n",
    "    resids = model.resid\n",
    "    \n",
    "    resid_lim = np.max([abs(np.min(resids)), abs(np.max(resids))]) + 1\n",
    "    \n",
    "    resid_points = np.linspace(-1*resid_lim, resid_lim, 200)\n",
    "    \n",
    "    for r in resids:\n",
    "        plt.plot((r, r), (0, r**2), 'k-', ls='dashed', lw=2)\n",
    "        \n",
    "    plt.plot(resid_points, resid_points**2, c='gold', alpha=0.7)\n",
    "    \n",
    "\n",
    "def plot_residuals_ladloss(model):\n",
    "    \n",
    "    resids = model.resid\n",
    "    \n",
    "    resid_lim = np.max([abs(np.min(resids)), abs(np.max(resids))]) + 1\n",
    "    \n",
    "    resid_points = np.linspace(-1*resid_lim, resid_lim, 200)\n",
    "    \n",
    "    plt.figure(figsize=(10,8))\n",
    "    \n",
    "    for r in resids:\n",
    "        \n",
    "        plt.plot((r, r), (0, abs(r)), 'k-', ls='dashed', lw=1)\n",
    "        \n",
    "    plt.plot(resid_points, np.abs(resid_points), c='gold', alpha=0.7)"
   ]
  },
  {
   "cell_type": "code",
   "execution_count": 200,
   "metadata": {
    "collapsed": false
   },
   "outputs": [
    {
     "data": {
      "image/png": "[encoded data removed]",
      "text/plain": [
       "<matplotlib.figure.Figure at 0x11935f8d0>"
      ]
     },
     "metadata": {},
     "output_type": "display_data"
    }
   ],
   "source": [
    "plot_regression(top_20_total_sales, top_20_price, leastsq_reg)"
   ]
  },
  {
   "cell_type": "code",
   "execution_count": 201,
   "metadata": {
    "collapsed": false
   },
   "outputs": [
    {
     "data": {
      "image/png": "[encoded data removed]",
      "text/plain": [
       "<matplotlib.figure.Figure at 0x1231bc7d0>"
      ]
     },
     "metadata": {},
     "output_type": "display_data"
    }
   ],
   "source": [
    "plot_regression(top_20_total_sales, top_20_volume_sold, leastsq_reg)"
   ]
  },
  {
   "cell_type": "code",
   "execution_count": 202,
   "metadata": {
    "collapsed": false
   },
   "outputs": [
    {
     "data": {
      "image/png": "[encoded data removed]",
      "text/plain": [
       "<matplotlib.figure.Figure at 0x1231aed50>"
      ]
     },
     "metadata": {},
     "output_type": "display_data"
    }
   ],
   "source": [
    "plot_regression(top_20_price, top_20_volume_sold, leastsq_reg)"
   ]
  },
  {
   "cell_type": "code",
   "execution_count": 205,
   "metadata": {
    "collapsed": false
   },
   "outputs": [
    {
     "name": "stdout",
     "output_type": "stream",
     "text": [
      "                         QuantReg Regression Results                          \n",
      "==============================================================================\n",
      "Dep. Variable:                      y   Pseudo R-squared:               0.8550\n",
      "Model:                       QuantReg   Bandwidth:                   3.800e+04\n",
      "Method:                 Least Squares   Sparsity:                    7.954e+04\n",
      "Date:                Sun, 26 Jun 2016   No. Observations:                   20\n",
      "Time:                        19:16:10   Df Residuals:                       18\n",
      "                                        Df Model:                            1\n",
      "==============================================================================================\n",
      "                                 coef    std err          t      P>|t|      [95.0% Conf. Int.]\n",
      "----------------------------------------------------------------------------------------------\n",
      "const                          0.0002   1.55e+04   1.37e-08      1.000     -3.25e+04  3.25e+04\n",
      "Total Volume Sold (Liters)    16.0736      0.531     30.248      0.000        14.957    17.190\n",
      "==============================================================================================\n",
      "\n",
      "The condition number is large, 5.06e+04. This might indicate that there are\n",
      "strong multicollinearity or other numerical problems.\n"
     ]
    }
   ],
   "source": [
    "lad_reg = QuantReg(top_20_total_sales, sm.add_constant(top_20_volume_sold)).fit(q=0.5)\n",
    "print lad_reg.summary()"
   ]
  },
  {
   "cell_type": "code",
   "execution_count": 206,
   "metadata": {
    "collapsed": false
   },
   "outputs": [
    {
     "data": {
      "image/png": "[encoded data removed]",
      "text/plain": [
       "<matplotlib.figure.Figure at 0x11b43e650>"
      ]
     },
     "metadata": {},
     "output_type": "display_data"
    }
   ],
   "source": [
    "plot_regression(top_20_total_sales, top_20_price, lad_reg)"
   ]
  },
  {
   "cell_type": "code",
   "execution_count": 207,
   "metadata": {
    "collapsed": true
   },
   "outputs": [],
   "source": [
    "from sklearn.metrics import mean_squared_error, mean_absolute_error"
   ]
  },
  {
   "cell_type": "code",
   "execution_count": 208,
   "metadata": {
    "collapsed": true
   },
   "outputs": [],
   "source": [
    "leastsq_predictions = leastsq_reg.predict()\n",
    "lad_predictions = lad_reg.predict()"
   ]
  },
  {
   "cell_type": "code",
   "execution_count": 213,
   "metadata": {
    "collapsed": false
   },
   "outputs": [
    {
     "name": "stdout",
     "output_type": "stream",
     "text": [
      "The Mean Squared Error for the Top 20 Total Sales is: \n",
      "27487.0550974\n",
      "The Mean Squared Error for the Top 20 Total Price is: \n",
      "466341.197228\n",
      "The Mean Squared Error for the Top 20 Total Volume Sold is: \n",
      "437272.260559\n"
     ]
    }
   ],
   "source": [
    "print \"The Mean Squared Error for the Top 20 Total Sales is: \"\n",
    "print np.sqrt(mean_squared_error(top_20_total_sales, leastsq_predictions))\n",
    "print \"The Mean Squared Error for the Top 20 Total Price is: \"\n",
    "print np.sqrt(mean_squared_error(top_20_price, leastsq_predictions))\n",
    "print \"The Mean Squared Error for the Top 20 Total Volume Sold is: \"\n",
    "print np.sqrt(mean_squared_error(top_20_volume_sold, leastsq_predictions))"
   ]
  },
  {
   "cell_type": "code",
   "execution_count": 214,
   "metadata": {
    "collapsed": false
   },
   "outputs": [
    {
     "name": "stdout",
     "output_type": "stream",
     "text": [
      "The Mean Absolute Error for the Top 20 Total Sales is: \n",
      "22797.7158487\n",
      "The Mean Absolute Error for the Top 20 Total Price is: \n",
      "382822.948891\n",
      "The Mean Absolute Error for the Top 20 Total Volume Sold  is: \n",
      "359037.25695\n"
     ]
    }
   ],
   "source": [
    "print \"The Mean Absolute Error for the Top 20 Total Sales is: \"\n",
    "print mean_absolute_error(top_20_total_sales, lad_predictions)\n",
    "print \"The Mean Absolute Error for the Top 20 Total Price is: \"\n",
    "print mean_absolute_error(top_20_price, lad_predictions)\n",
    "print \"The Mean Absolute Error for the Top 20 Total Volume Sold  is: \"\n",
    "print mean_absolute_error(top_20_volume_sold, lad_predictions)"
   ]
  },
  {
   "cell_type": "markdown",
   "metadata": {},
   "source": [
    "# Present the Results\n",
    "\n",
    "Present your conclusions and results. If you have more than one interesting model feel free to include more than one along with a discussion. Use your work in this notebook to prepare your write-up."
   ]
  },
  {
   "cell_type": "markdown",
   "metadata": {
    "collapsed": true
   },
   "source": [
    "My approach with this assignment was to clean and narrow down the data to the Top 20 stores and use that data to inform my recommendations to the store owner not only on locations, but other factors that could increase his business.\n",
    "\n",
    "I went in with the assumption that the top performing zip codes would have room to expand, as this was inferred by the data set and problem.\n",
    "\n",
    "My problem statement is:  \"By focusing on the Top 20 best performing stores - as defined by Total Sales - we can optimize the performance of already established business centers and icnrease our profit margins.\"\n",
    "\n",
    "I believe this problem statement was proven true."
   ]
  }
 ],
 "metadata": {
  "kernelspec": {
   "display_name": "Python 2",
   "language": "python",
   "name": "python2"
  },
  "language_info": {
   "codemirror_mode": {
    "name": "ipython",
    "version": 2
   },
   "file_extension": ".py",
   "mimetype": "text/x-python",
   "name": "python",
   "nbconvert_exporter": "python",
   "pygments_lexer": "ipython2",
   "version": "2.7.11"
  }
 },
 "nbformat": 4,
 "nbformat_minor": 0
}
